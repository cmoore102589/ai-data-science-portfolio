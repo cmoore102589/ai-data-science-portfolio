{
 "cells": [
  {
   "cell_type": "markdown",
   "id": "82f64722-ea95-405f-9301-7be0bb29dede",
   "metadata": {
    "tags": []
   },
   "source": [
    "# Googlesearch\n",
    "\n",
    "googlesearch is a Python library for searching Google, easily. googlesearch uses requests and BeautifulSoup4 to scrape Google. Please read the following website for more information.\n",
    "\n",
    "https://github.com/Nv7-GitHub/googlesearch\n"
   ]
  },
  {
   "cell_type": "markdown",
   "id": "cd3fc183-4e7c-48c3-9dc1-f5f86847b7ec",
   "metadata": {},
   "source": [
    "## Step 1: Install googlesearch package\n",
    "\n",
    "We need to run the following command in the terminal for the **first time use**.\n",
    "\n",
    "pip install googlesearch-python"
   ]
  },
  {
   "cell_type": "markdown",
   "id": "5856c348-b1b2-45ae-8cfa-885fa0650ad9",
   "metadata": {},
   "source": [
    "## Step 2: Perform google search by providing query"
   ]
  },
  {
   "cell_type": "code",
   "execution_count": 1,
   "id": "c6eb24b4",
   "metadata": {},
   "outputs": [],
   "source": [
    "import pandas as pd\n",
    "from wordcloud import WordCloud\n",
    "import matplotlib.pyplot as plt\n",
    "from googleapiclient.discovery import build"
   ]
  },
  {
   "cell_type": "code",
   "execution_count": 2,
   "id": "46a69203",
   "metadata": {},
   "outputs": [
    {
     "name": "stdout",
     "output_type": "stream",
     "text": [
      "[{'kind': 'customsearch#result', 'title': 'Winter Snowstorm | Loose Watercolor Painting by Sarah Cray ...', 'htmlTitle': '<b>Winter Snowstorm</b> | Loose Watercolor Painting by Sarah Cray ...', 'link': 'https://www.youtube.com/watch?v=K-lltP6ArUQ', 'displayLink': 'www.youtube.com', 'snippet': 'Feb 11, 2024 ... For additional supplies, visit ➝ http://letsmakeart.com The lesson to be learned from this landscape painting is to fall in love with the\\xa0...', 'htmlSnippet': 'Feb 11, 2024 <b>...</b> For additional supplies, visit ➝ http://letsmakeart.com The lesson to be learned from this landscape painting is to fall in love with the&nbsp;...', 'formattedUrl': 'https://www.youtube.com/watch?v=K-lltP6ArUQ', 'htmlFormattedUrl': 'https://www.youtube.com/watch?v=K-lltP6ArUQ', 'pagemap': {'cse_thumbnail': [{'src': 'https://encrypted-tbn0.gstatic.com/images?q=tbn:ANd9GcSuU0difHbIM3gMPpg7A9TG38yzkAnKFvW-3lx4CxvxNC6ChwcbzCnb_uq1&s', 'width': '299', 'height': '168'}], 'metatags': [{'apple-itunes-app': 'app-id=544007664, app-argument=https://m.youtube.com/watch?v=K-lltP6ArUQ&referring_app=com.apple.mobilesafari-smartbanner, affiliate-data=ct=smart_app_banner_polymer&pt=9008', 'theme-color': 'rgba(0, 0, 0, 0)', 'viewport': 'width=device-width, initial-scale=1.0, minimum-scale=1.0, maximum-scale=1.0, user-scalable=no,', 'twitter:url': 'https://www.youtube.com/watch?v=K-lltP6ArUQ', 'og:url': 'https://www.youtube.com/watch?v=K-lltP6ArUQ'}], 'cse_image': [{'src': 'https://i.ytimg.com/vi/K-lltP6ArUQ/hq720.jpg?sqp=-oaymwEhCK4FEIIDSFryq4qpAxMIARUAAAAAGAElAADIQj0AgKJD&rs=AOn4CLAEK2dsKh7Lj3I_ZEPKOeqaZE4xZg'}]}}, {'kind': 'customsearch#result', 'title': 'Winter/snowstorm Mod help : r/SkyrimModsXbox', 'htmlTitle': '<b>Winter</b>/<b>snowstorm</b> Mod help : r/SkyrimModsXbox', 'link': 'https://www.reddit.com/r/SkyrimModsXbox/comments/19dbmtd/wintersnowstorm_mod_help/', 'displayLink': 'www.reddit.com', 'snippet': \"Jan 23, 2024 ... Climates of Tamriel - WE converts most of Skyrim's landscape into snow and adjusts the weather to be colder and snowier, which works nicely with\\xa0...\", 'htmlSnippet': 'Jan 23, 2024 <b>...</b> Climates of Tamriel - WE converts most of Skyrim&#39;s landscape into snow and adjusts the weather to be colder and snowier, which works nicely with&nbsp;...', 'formattedUrl': 'https://www.reddit.com/r/SkyrimModsXbox/.../wintersnowstorm_mod_help...', 'htmlFormattedUrl': 'https://www.reddit.com/r/SkyrimModsXbox/.../<b>wintersnowstorm</b>_mod_help...', 'pagemap': {'metatags': [{'og:image': 'https://share.redd.it/preview/post/19dbmtd', 'theme-color': '#000000', 'og:image:width': '1200', 'og:type': 'website', 'og:image:alt': 'An image containing a preview of the post', 'twitter:card': 'summary_large_image', 'twitter:title': 'r/SkyrimModsXbox on Reddit: Winter/snowstorm Mod help', 'og:site_name': 'Reddit', 'og:title': 'r/SkyrimModsXbox on Reddit: Winter/snowstorm Mod help', 'og:image:height': '630', 'msapplication-navbutton-color': '#000000', 'og:description': 'Posted by u/CheefDank - 3 votes and 4 comments', 'twitter:image': 'https://share.redd.it/preview/post/19dbmtd', 'apple-mobile-web-app-status-bar-style': 'black', 'twitter:site': '@reddit', 'viewport': 'width=device-width, initial-scale=1, viewport-fit=cover', 'apple-mobile-web-app-capable': 'yes', 'og:ttl': '600', 'og:url': 'https://www.reddit.com/r/SkyrimModsXbox/comments/19dbmtd/wintersnowstorm_mod_help/'}], 'cse_image': [{'src': 'https://share.redd.it/preview/post/19dbmtd'}]}}]\n"
     ]
    }
   ],
   "source": [
    "from googleapiclient.discovery import build\n",
    "\n",
    "# Define the Google Custom Search function\n",
    "def google_search(query, api_key, cse_id, num_results=100):\n",
    "    service = build(\"customsearch\", \"v1\", developerKey=api_key)\n",
    "    results = []\n",
    "    start_index = 1\n",
    "\n",
    "    while start_index < num_results:\n",
    "        response = service.cse().list(\n",
    "            q=query,\n",
    "            cx=cse_id,\n",
    "            start=start_index,\n",
    "            num=min(num_results - len(results), 10)\n",
    "        ).execute()\n",
    "\n",
    "        # Add all items from the response to the results\n",
    "        if \"items\" in response:\n",
    "            results.extend(response['items'])\n",
    "        \n",
    "        # Update the start index for the next page of results\n",
    "        start_index += 10\n",
    "\n",
    "        # Break if no more results are available\n",
    "        if \"items\" not in response:\n",
    "            break\n",
    "\n",
    "    return results\n",
    "\n",
    "# Parameters\n",
    "query = \"Winter snowstorm\"\n",
    "\n",
    "# Perform the search\n",
    "raw_results = google_search(query, API_KEY, CSE_ID, num_results=100)\n",
    "\n",
    "# Print raw results (optional, to debug structure)\n",
    "print(raw_results[:2])  # Show first 2 raw results"
   ]
  },
  {
   "cell_type": "markdown",
   "id": "2701d8e0",
   "metadata": {},
   "source": [
    "## Step 3 Convert SearchResult objects to a list of strings\n",
    "\n",
    "We can efficiently perform text mining on strings instead of SearchResult."
   ]
  },
  {
   "cell_type": "code",
   "execution_count": 3,
   "id": "5978186e",
   "metadata": {},
   "outputs": [
    {
     "name": "stdout",
     "output_type": "stream",
     "text": [
      "[{'URL': 'https://www.youtube.com/watch?v=K-lltP6ArUQ', 'Title': 'Winter Snowstorm | Loose Watercolor Painting by Sarah Cray ...', 'Description': 'Feb 11, 2024 ... For additional supplies, visit ➝ http://letsmakeart.com The lesson to be learned from this landscape painting is to fall in love with the\\xa0...'}, {'URL': 'https://www.reddit.com/r/SkyrimModsXbox/comments/19dbmtd/wintersnowstorm_mod_help/', 'Title': 'Winter/snowstorm Mod help : r/SkyrimModsXbox', 'Description': \"Jan 23, 2024 ... Climates of Tamriel - WE converts most of Skyrim's landscape into snow and adjusts the weather to be colder and snowier, which works nicely with\\xa0...\"}, {'URL': 'https://www.youtube.com/watch?v=fNs7xYkCB7Y', 'Title': 'CAMPING in a BLIZZARD - Winter Snowstorm - The Calm Before the ...', 'Description': 'May 31, 2024 ... Brutal tent camping in a snowstorm with tent and tarp. Join our channel here... https://www.youtube.com/@AbelandVictoria/join Alton 3x3 Tarp\\xa0...'}]\n"
     ]
    }
   ],
   "source": [
    "results_list = []\n",
    "for item in raw_results:\n",
    "    results_list.append({\n",
    "        \"URL\": item.get(\"link\", \"N/A\"),\n",
    "        \"Title\": item.get(\"title\", \"N/A\"),\n",
    "        \"Description\": item.get(\"snippet\", \"N/A\") \n",
    "    })\n",
    "\n",
    "\n",
    "print(results_list[:3])"
   ]
  },
  {
   "cell_type": "markdown",
   "id": "3c7f159e",
   "metadata": {},
   "source": [
    "## Step 4 Convert a list of strings to a data frame\n",
    "\n",
    "Sometime, we may need to store information in a data frame instead of a list to build some machine learning models."
   ]
  },
  {
   "cell_type": "code",
   "execution_count": 4,
   "id": "4a0edbff",
   "metadata": {
    "scrolled": true
   },
   "outputs": [
    {
     "name": "stdout",
     "output_type": "stream",
     "text": [
      "                                                  URL  \\\n",
      "0         https://www.youtube.com/watch?v=K-lltP6ArUQ   \n",
      "1   https://www.reddit.com/r/SkyrimModsXbox/commen...   \n",
      "2         https://www.youtube.com/watch?v=fNs7xYkCB7Y   \n",
      "3   https://charlottegibbblog.com/photography/land...   \n",
      "4         https://www.youtube.com/watch?v=pIOkZaD0opA   \n",
      "..                                                ...   \n",
      "74  http://www.soest.hawaii.edu/MET/Faculty/bwang/...   \n",
      "75                 https://www.lsce.ipsl.fr/en/513-2/   \n",
      "76  https://www.researchgate.net/publication/33026...   \n",
      "77          https://m.youtube.com/watch?v=-JOwgo365EQ   \n",
      "78  https://www.kktv.com/video/2025/01/07/early-mo...   \n",
      "\n",
      "                                                Title  \\\n",
      "0   Winter Snowstorm | Loose Watercolor Painting b...   \n",
      "1        Winter/snowstorm Mod help : r/SkyrimModsXbox   \n",
      "2   CAMPING in a BLIZZARD - Winter Snowstorm - The...   \n",
      "3     A Winter Snowstorm in Yosemite - Charlotte Gibb   \n",
      "4   Winter Snowstorm Watercolor Art Tutorial - You...   \n",
      "..                                                ...   \n",
      "74  MJO Modulation on 2009/10 Winter Snowstorms in...   \n",
      "75                                             - LSCE   \n",
      "76  EFFECT OF INCREASING NUMBER OF ROAD CLOSE DUE ...   \n",
      "77  4ft of FRESH SNOW | WINTER SNOWSTORM on the MO...   \n",
      "78  Early morning look at the roads during Souther...   \n",
      "\n",
      "                                          Description  \n",
      "0   Feb 11, 2024 ... For additional supplies, visi...  \n",
      "1   Jan 23, 2024 ... Climates of Tamriel - WE conv...  \n",
      "2   May 31, 2024 ... Brutal tent camping in a snow...  \n",
      "3   Mar 10, 2018 ... The winter months are quiet t...  \n",
      "4   Dec 19, 2018 ... https://www.LetsMakeArt.com -...  \n",
      "..                                                ...  \n",
      "74  Feb 1, 2012 ... During the winter of 2009/10, ...  \n",
      "75  ... winter snowstorms that. ... [2019, ESD] to...  \n",
      "76  Oct 22, 2024 ... Download Citation | EFFECT OF...  \n",
      "77  Feb 28, 2022 ... Barron shows his archery, Els...  \n",
      "78          Jan 7, 2025 ... Early morning look at ...  \n",
      "\n",
      "[79 rows x 3 columns]\n"
     ]
    }
   ],
   "source": [
    "import pandas as pd\n",
    "\n",
    "# Convert the list of dictionaries to a pandas DataFrame\n",
    "df = pd.DataFrame(results_list)\n",
    "\n",
    "# Print the DataFrame\n",
    "print(df)\n",
    "\n",
    "# Save the DataFrame to a CSV file (optional)\n",
    "df.to_csv(\"google_search_results.csv\", index=False)"
   ]
  },
  {
   "cell_type": "markdown",
   "id": "1d382a7b",
   "metadata": {},
   "source": [
    "## Step 5 Remove the hyperlink URL in the search_result using a regular expression."
   ]
  },
  {
   "cell_type": "code",
   "execution_count": 5,
   "id": "795fb035",
   "metadata": {},
   "outputs": [],
   "source": [
    "# Concatenate URL, Title, and Description into a single column\n",
    "df['search_result'] = df['URL'] + \" \" + df['Title'] + \" \" + df['Description']\n",
    "\n",
    "# Remove the hyperlink URL using a regular expression\n",
    "df['search_result'] = df['search_result'].str.replace(r'http\\S+', '', regex=True)"
   ]
  },
  {
   "cell_type": "markdown",
   "id": "448b3a81",
   "metadata": {},
   "source": [
    "## Step 6 Remove all words containing at most two characters such as \"a\", \"an\", \"in\", \"on\", \"etc\"."
   ]
  },
  {
   "cell_type": "code",
   "execution_count": 6,
   "id": "4c6749e1",
   "metadata": {},
   "outputs": [],
   "source": [
    "# Remove all words with at most two characters\n",
    "df['search_result'] = df['search_result'].apply(\n",
    "    lambda x: ' '.join([word for word in x.split() if len(word) > 2])\n",
    ")"
   ]
  },
  {
   "cell_type": "markdown",
   "id": "20287a09",
   "metadata": {},
   "source": [
    "## Step 7 Remove the following five stop words: \"are\", \"but\", \"very\", \"since\", \"could\" using regular expression."
   ]
  },
  {
   "cell_type": "code",
   "execution_count": 7,
   "id": "e0265b9f",
   "metadata": {},
   "outputs": [],
   "source": [
    "# Define stop words to remove\n",
    "stop_words = {'are', 'but', 'very', 'since', 'could'}\n",
    "\n",
    "# Remove specific stop words\n",
    "df['search_result'] = df['search_result'].apply(\n",
    "    lambda x: ' '.join([word for word in x.split() if word.lower() not in stop_words])\n",
    ")"
   ]
  },
  {
   "cell_type": "markdown",
   "id": "8ffdfb91",
   "metadata": {},
   "source": [
    "## Step 8 Remove all special characters, punctuation using a regular expression."
   ]
  },
  {
   "cell_type": "code",
   "execution_count": 8,
   "id": "820ae5b9",
   "metadata": {},
   "outputs": [],
   "source": [
    "# Remove special characters and punctuation\n",
    "df['search_result'] = df['search_result'].str.replace(r'[^\\w\\s]', '', regex=True)"
   ]
  },
  {
   "cell_type": "markdown",
   "id": "26db9693",
   "metadata": {},
   "source": [
    "## Final Result"
   ]
  },
  {
   "cell_type": "code",
   "execution_count": 9,
   "id": "62b35df4",
   "metadata": {
    "scrolled": false
   },
   "outputs": [
    {
     "name": "stdout",
     "output_type": "stream",
     "text": [
      "0     Winter Snowstorm Loose Watercolor Painting Sar...\n",
      "1     Wintersnowstorm Mod help rSkyrimModsXbox Jan 2...\n",
      "2     CAMPING BLIZZARD Winter Snowstorm The Calm Bef...\n",
      "3     Winter Snowstorm Yosemite Charlotte Gibb Mar 1...\n",
      "4     Winter Snowstorm Watercolor Art Tutorial YouTu...\n",
      "                            ...                        \n",
      "74    MJO Modulation 200910 Winter Snowstorms the Un...\n",
      "75    LSCE  winter snowstorms that  2019 ESD follow ...\n",
      "76    EFFECT INCREASING NUMBER ROAD CLOSE DUE  Oct 2...\n",
      "77    4ft FRESH SNOW WINTER SNOWSTORM the MOUNTAIN  ...\n",
      "78    Early morning look the roads during Southern C...\n",
      "Name: search_result, Length: 79, dtype: object\n"
     ]
    }
   ],
   "source": [
    "print(df['search_result'])"
   ]
  },
  {
   "cell_type": "code",
   "execution_count": null,
   "id": "5e4c2b06",
   "metadata": {},
   "outputs": [],
   "source": []
  }
 ],
 "metadata": {
  "kernelspec": {
   "display_name": "Python 3",
   "language": "python",
   "name": "python3"
  },
  "language_info": {
   "codemirror_mode": {
    "name": "ipython",
    "version": 3
   },
   "file_extension": ".py",
   "mimetype": "text/x-python",
   "name": "python",
   "nbconvert_exporter": "python",
   "pygments_lexer": "ipython3",
   "version": "3.8.8"
  }
 },
 "nbformat": 4,
 "nbformat_minor": 5
}
