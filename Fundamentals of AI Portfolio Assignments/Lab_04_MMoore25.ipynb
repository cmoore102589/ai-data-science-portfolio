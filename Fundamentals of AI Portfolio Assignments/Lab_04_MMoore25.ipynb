{
  "cells": [
    {
      "cell_type": "markdown",
      "metadata": {
        "id": "view-in-github",
        "colab_type": "text"
      },
      "source": [
        "<a href=\"https://colab.research.google.com/github/cmoore102589/ai-data-science-portfolio/blob/main/Fundamentals%20of%20AI%20Portfolio%20Assignments/Lab_04_MMoore25.ipynb\" target=\"_parent\"><img src=\"https://colab.research.google.com/assets/colab-badge.svg\" alt=\"Open In Colab\"/></a>"
      ]
    },
    {
      "cell_type": "markdown",
      "id": "971a52bf-c0a2-4040-b625-7f3bb42d27a0",
      "metadata": {
        "id": "971a52bf-c0a2-4040-b625-7f3bb42d27a0"
      },
      "source": [
        "# COSC-640: Lab 4\n",
        "\n",
        "**Matthew Corley Moore**\n",
        "\n",
        "[PLACEHOLDER_FOR_NOTEBOOK_LINK]\n"
      ]
    },
    {
      "cell_type": "markdown",
      "source": [
        "## Getting Started\n",
        "\n",
        "Follow the instructions below to copy this notebook and to perform some initial setup.\n",
        "\n",
        "1. Copy this notebook by selecting `File > Save a copy in Drive`.\n",
        "2. A new window should open for the copied notebook. Move the new notebook to your course folder in Google Drive by selecting `File > Move` and then selecting the desired folder.\n",
        "3. Update the name of the notebook by removing \"Copy of\" and replacing \"Username\" with your actual username.\n",
        "4. Update the first cell in the notebook by specifying your course number (440 or 640) and by replacing \"**Student Name**\" with your actual name.\n",
        "5. Do not edit the line that says `PLACEHOLDER_FOR_NOTEBOOK_LINK`. This will be used by the [Notebook Renderer](https://colab.research.google.com/drive/1CJTipys46ldZxJFwnt7XbdjQUfkmoXeU?usp=sharing) tool to insert a link to your Colab notebook.\n",
        "6. Enable link sharing for your notebook."
      ],
      "metadata": {
        "id": "PWJSpzEkajYG"
      },
      "id": "PWJSpzEkajYG"
    },
    {
      "cell_type": "markdown",
      "source": [
        "## Preparing the Colab Environment\n",
        "\n",
        "Run the cell below to download the `aitools` course package."
      ],
      "metadata": {
        "id": "OD55B8nBanwP"
      },
      "id": "OD55B8nBanwP"
    },
    {
      "cell_type": "code",
      "source": [
        "%%capture\n",
        "!rm aitools -r\n",
        "!git clone https://github.com/drbeane/aitools.git"
      ],
      "metadata": {
        "id": "5xW3OBPiao52"
      },
      "id": "5xW3OBPiao52",
      "execution_count": null,
      "outputs": []
    },
    {
      "cell_type": "markdown",
      "source": [
        "Run the cells below to import the necessary tools for this assignment. No other import statements are required for this lab, and no other import statements should be included in this assignment."
      ],
      "metadata": {
        "id": "Jkg78jRiassg"
      },
      "id": "Jkg78jRiassg"
    },
    {
      "cell_type": "code",
      "execution_count": null,
      "id": "92d1b031-9dfd-441d-bbb5-5b6cb4d51b4e",
      "metadata": {
        "tags": [],
        "id": "92d1b031-9dfd-441d-bbb5-5b6cb4d51b4e"
      },
      "outputs": [],
      "source": [
        "import numpy as np\n",
        "import matplotlib.pyplot as plt\n",
        "from tqdm.notebook import tqdm\n",
        "\n",
        "# Import Search Algorithms\n",
        "from aitools.algs import depth_first_search, breadth_first_search, uniform_cost_search\n",
        "from aitools.algs import general_search, greedy_best_first, astar_search\n",
        "from aitools.algs import GeneticAlgorithm\n",
        "\n",
        "# Import Environments\n",
        "from aitools.envs import Knapsack, JobAssignment\n",
        "\n",
        "np.set_printoptions(linewidth=120)"
      ]
    },
    {
      "cell_type": "markdown",
      "id": "edef32b8-886f-4e07-9713-e39eafe8f24a",
      "metadata": {
        "tags": [],
        "id": "edef32b8-886f-4e07-9713-e39eafe8f24a"
      },
      "source": [
        "# Part 1: Knapsack Problem\n",
        "\n",
        "In Part 1, you will apply the genetic algorithm to a Knapsack problem with 3 constraints."
      ]
    },
    {
      "cell_type": "markdown",
      "source": [
        "## 1.A - Create Environment\n",
        "\n",
        "Create an instance of the `Knapsack` environment with 100 items and with capacity of `[70, 90, 60]`. Set `random_state=17`. Display the environment."
      ],
      "metadata": {
        "id": "2hHfd-CobI7H"
      },
      "id": "2hHfd-CobI7H"
    },
    {
      "cell_type": "code",
      "execution_count": null,
      "id": "04d60930-b8f2-47f6-ab13-83fd649330db",
      "metadata": {
        "id": "04d60930-b8f2-47f6-ab13-83fd649330db",
        "colab": {
          "base_uri": "https://localhost:8080/"
        },
        "outputId": "6ab43554-ef11-4f15-a71a-53bd936a672b"
      },
      "outputs": [
        {
          "output_type": "stream",
          "name": "stdout",
          "text": [
            "Knapsack Capacity: [70, 90, 60]\n",
            "Current Weight:    [0 0 0]\n",
            "Current Value:     0\n",
            "Is Valid Solution: False\n",
            "\n"
          ]
        }
      ],
      "source": [
        "ks = Knapsack(num_items = 100, capacity = [70, 90, 60], random_state = 17)\n",
        "\n",
        "ks.display()"
      ]
    },
    {
      "cell_type": "markdown",
      "source": [
        "## 1.B - Apply Genetic Algorithm\n",
        "\n",
        "Create an instance of the `GeneticAlgorithm` class for the `Knapsack` instance you created in Step 1.A. Set a population size of 1000, and initialize all members of the population to have all zero values. For the sake of reproducibility, set `random_state` to a value of your choice.\n",
        "\n",
        "Call the `run_evolution()` method to apply the genetic algorithm to the Knapsack environment setting `update_rate=50`. Experiment with the number of generations, the reproduction rate, and mutation rate. Keep the number of generations less than 400.\n",
        "\n",
        "The optimal solution to this problem has a value of 417. The genetic algorithm can find this in fewer than 200 generations with the correct parameters. You are not required to find an optimal solution, however. Your goal is to find a solution with a fitness score of **410 or higher**.\n",
        "\n"
      ],
      "metadata": {
        "id": "MB-3ywmybVUC"
      },
      "id": "MB-3ywmybVUC"
    },
    {
      "cell_type": "code",
      "execution_count": null,
      "id": "0ad96abc-b47d-477f-9b0c-329c24f13029",
      "metadata": {
        "id": "0ad96abc-b47d-477f-9b0c-329c24f13029",
        "colab": {
          "base_uri": "https://localhost:8080/"
        },
        "outputId": "d8aa9c48-c2bc-4b38-b687-bfacb9a6e73a"
      },
      "outputs": [
        {
          "output_type": "stream",
          "name": "stdout",
          "text": [
            "Generation 001: New best score found! Current best score = 50\n",
            "Generation 003: New best score found! Current best score = 55\n",
            "Generation 004: New best score found! Current best score = 82\n",
            "Generation 006: New best score found! Current best score = 96\n",
            "Generation 008: New best score found! Current best score = 100\n",
            "Generation 009: New best score found! Current best score = 135\n",
            "Generation 010: New best score found! Current best score = 140\n",
            "Generation 011: New best score found! Current best score = 151\n",
            "Generation 012: New best score found! Current best score = 161\n",
            "Generation 016: New best score found! Current best score = 172\n",
            "Generation 019: New best score found! Current best score = 187\n",
            "Generation 020: New best score found! Current best score = 214\n",
            "Generation 021: New best score found! Current best score = 223\n",
            "Generation 022: New best score found! Current best score = 283\n",
            "Generation 034: New best score found! Current best score = 284\n",
            "Generation 036: New best score found! Current best score = 310\n",
            "Generation 037: New best score found! Current best score = 333\n",
            "Generation 042: New best score found! Current best score = 336\n",
            "Generation 044: New best score found! Current best score = 340\n",
            "Generation 045: New best score found! Current best score = 346\n",
            "Generation 050: Q1=0, Med=0, Q3=0, Max=346\n",
            "Generation 054: New best score found! Current best score = 353\n",
            "Generation 063: New best score found! Current best score = 367\n",
            "Generation 066: New best score found! Current best score = 369\n",
            "Generation 072: New best score found! Current best score = 376\n",
            "Generation 073: New best score found! Current best score = 379\n",
            "Generation 082: New best score found! Current best score = 380\n",
            "Generation 083: New best score found! Current best score = 381\n",
            "Generation 088: New best score found! Current best score = 386\n",
            "Generation 096: New best score found! Current best score = 388\n",
            "Generation 097: New best score found! Current best score = 396\n",
            "Generation 100: Q1=0, Med=0, Q3=0, Max=396\n",
            "Generation 127: New best score found! Current best score = 398\n",
            "Generation 132: New best score found! Current best score = 411\n",
            "Generation 150: Q1=0, Med=0, Q3=0, Max=401\n",
            "Generation 198: New best score found! Current best score = 417\n"
          ]
        }
      ],
      "source": [
        "ga = GeneticAlgorithm(env = ks, pop_size = 1000, init_zero = True, random_state = 42)\n",
        "\n",
        "soln = ga.run_evolution(num_generations = 199, rr = 0.3, mr = 0.0007, update_rate = 50)"
      ]
    },
    {
      "cell_type": "markdown",
      "source": [
        "## 1.C - Display the Solution\n",
        "\n",
        "Use the `display()` method to display the solution found in Step 1.B."
      ],
      "metadata": {
        "id": "ADSWSCWLbxEt"
      },
      "id": "ADSWSCWLbxEt"
    },
    {
      "cell_type": "code",
      "execution_count": null,
      "id": "fd0b0334-04fe-407a-9207-0cecfb9c422e",
      "metadata": {
        "id": "fd0b0334-04fe-407a-9207-0cecfb9c422e",
        "colab": {
          "base_uri": "https://localhost:8080/"
        },
        "outputId": "8aed58e8-b07e-4a91-8426-90d9376bbaa4"
      },
      "outputs": [
        {
          "output_type": "stream",
          "name": "stdout",
          "text": [
            "Knapsack Capacity: [70, 90, 60]\n",
            "Current Weight:    [67 80 60]\n",
            "Current Value:     417\n",
            "Is Valid Solution: True\n",
            "\n"
          ]
        }
      ],
      "source": [
        "soln.display()"
      ]
    },
    {
      "cell_type": "markdown",
      "id": "dc3bd667-c0ee-438b-8e4b-19a4a56cd380",
      "metadata": {
        "id": "dc3bd667-c0ee-438b-8e4b-19a4a56cd380"
      },
      "source": [
        "# Part 2: Job Assignment (Search Algorithms)\n",
        "\n",
        "In Part 2, you will apply the search algorithms covered in Weeks 1 and 2 to two different instances of the Job Assignment problem."
      ]
    },
    {
      "cell_type": "markdown",
      "source": [
        "## 2.A - Create Environment\n",
        "\n",
        "Create an instance of the `JobAssignment` environment with 3 jobs, 8 workers, and a maximum worker skill of 10. Set `random_state=1`. Display the environment.\n"
      ],
      "metadata": {
        "id": "uU8kx7y6cDN5"
      },
      "id": "uU8kx7y6cDN5"
    },
    {
      "cell_type": "code",
      "execution_count": null,
      "id": "7852853f-3998-4cde-a286-f0a2a4f2cbe8",
      "metadata": {
        "id": "7852853f-3998-4cde-a286-f0a2a4f2cbe8",
        "colab": {
          "base_uri": "https://localhost:8080/"
        },
        "outputId": "b09fe604-9c42-4b5b-a3f6-5033a01e6fe8"
      },
      "outputs": [
        {
          "output_type": "stream",
          "name": "stdout",
          "text": [
            "Job Requirements: [ 0 12 13  9]\n",
            "Worker Costs:     [4 9 8 4 7 6 2 4]\n",
            "\n",
            "Worker Skills:    \n",
            "[[ 0  0  0  0  0  0  0  0]\n",
            " [ 3  5  6  3  5  3  5  8]\n",
            " [ 8 10  2  8  1  7 10 10]\n",
            " [ 8  7 10  2  1  2  9  9]]\n",
            "\n",
            "Assignments:      [ _ _ _ _ _ _ _ _ ]\n",
            "Total cost: 0\n",
            "\n"
          ]
        }
      ],
      "source": [
        "jb = JobAssignment(n_jobs = 3, n_workers = 8, max_skill = 10, random_state = 1)\n",
        "\n",
        "jb.display()"
      ]
    },
    {
      "cell_type": "markdown",
      "source": [
        "## 2.B - Applying Search Algorithms\n",
        "\n",
        "Apply the 5 search algorithms from Weeks 1 and 2 to the JobAssignment instance created in Step 2.A. Set a time limit of 2 minutes for each search algorithm. Note that some of the algorithms may not find a solution within 2 minutes."
      ],
      "metadata": {
        "id": "8s_ll9mYcYLH"
      },
      "id": "8s_ll9mYcYLH"
    },
    {
      "cell_type": "code",
      "execution_count": null,
      "id": "a80698d8-bd44-4115-9bc1-553436b795d9",
      "metadata": {
        "id": "a80698d8-bd44-4115-9bc1-553436b795d9",
        "colab": {
          "base_uri": "https://localhost:8080/"
        },
        "outputId": "0eac3727-4323-48d7-d984-4f44408294dd"
      },
      "outputs": [
        {
          "output_type": "stream",
          "name": "stdout",
          "text": [
            "[DFS] Solution found.\n",
            "1840 nodes seen.\n",
            "1125 nodes skipped\n",
            "623 nodes expanded.\n",
            "92 nodes remaining in frontier.\n",
            "0.04 seconds elapsed.\n",
            "Assignments: [ 1 2 1 2 1 3 3 3 ]\n",
            "Job Reqs:    [ 0 12 13  9]\n",
            "Total Skill: [ 0 14 18 20]\n",
            "Total Cost:  44\n",
            "\n",
            "[BFS] Solution found.\n",
            "123109 nodes seen.\n",
            "28971 nodes skipped\n",
            "10496 nodes expanded.\n",
            "83642 nodes remaining in frontier.\n",
            "2.88 seconds elapsed.\n",
            "Assignments: [ 2 1 3 2 _ _ _ 1 ]\n",
            "Job Reqs:    [ 0 12 13  9]\n",
            "Total Skill: [ 0 13 16 10]\n",
            "Total Cost:  29\n",
            "\n",
            "[UCS] Solution found.\n",
            "56560 nodes seen.\n",
            "9595 nodes skipped\n",
            "4331 nodes expanded.\n",
            "42634 nodes remaining in frontier.\n",
            "0.89 seconds elapsed.\n",
            "Assignments: [ 2 _ _ 2 1 _ 3 1 ]\n",
            "Job Reqs:    [ 0 12 13  9]\n",
            "Total Skill: [ 0 13 16  9]\n",
            "Total Cost:  21\n",
            "\n",
            "[GBF] Solution found.\n",
            "91 nodes seen.\n",
            "0 nodes skipped\n",
            "6 nodes expanded.\n",
            "85 nodes remaining in frontier.\n",
            "0.0 seconds elapsed.\n",
            "Assignments: [ _ 2 3 _ 1 _ 2 1 ]\n",
            "Job Reqs:    [ 0 12 13  9]\n",
            "Total Skill: [ 0 13 20 10]\n",
            "Total Cost:  30\n",
            "\n",
            "[AST] Solution found.\n",
            "9928 nodes seen.\n",
            "1030 nodes skipped\n",
            "624 nodes expanded.\n",
            "8274 nodes remaining in frontier.\n",
            "0.63 seconds elapsed.\n",
            "Assignments: [ 2 _ _ 2 1 _ 3 1 ]\n",
            "Job Reqs:    [ 0 12 13  9]\n",
            "Total Skill: [ 0 13 16  9]\n",
            "Total Cost:  21\n",
            "\n"
          ]
        }
      ],
      "source": [
        "dfs_soln, dfs_log = depth_first_search(jb, time_limit = 120)\n",
        "bfs_soln, bfs_log = breadth_first_search(jb, time_limit = 120)\n",
        "ucs_soln, ucs_log = uniform_cost_search(jb, time_limit = 120)\n",
        "\n",
        "gbf_soln, gbf_log = greedy_best_first(jb, time_limit = 120, display_results= True)\n",
        "ast_soln, ast_log = astar_search(jb, time_limit = 120, display_results = True)"
      ]
    },
    {
      "cell_type": "markdown",
      "source": [
        "## 2.C - Create Environment\n",
        "\n",
        "Create an instance of the `JobAssignment` environment with 4 jobs, 10 workers, and a maximum worker skill of 12. Set `random_state=1`. Display the environment.\n"
      ],
      "metadata": {
        "id": "E9DKjBK9dTBJ"
      },
      "id": "E9DKjBK9dTBJ"
    },
    {
      "cell_type": "code",
      "execution_count": null,
      "id": "1e0edde9-be59-49b9-aa42-030b62d19f2e",
      "metadata": {
        "id": "1e0edde9-be59-49b9-aa42-030b62d19f2e"
      },
      "outputs": [],
      "source": [
        "jb1 = JobAssignment(n_jobs = 4, n_workers = 10, max_skill = 12, random_state = 1)"
      ]
    },
    {
      "cell_type": "markdown",
      "source": [
        "## 2.D - Applying Search Algorithms\n",
        "\n",
        "Apply the 5 search algorithms from Weeks 1 and 2 to the JobAssignment instance created in Step 2.C. Set a time limit of 2 minutes for each search algorithm. Note that some of the algorithms may not find a solution within 2 minutes."
      ],
      "metadata": {
        "id": "93Ben66GdPPc"
      },
      "id": "93Ben66GdPPc"
    },
    {
      "cell_type": "code",
      "execution_count": null,
      "id": "2955e4ae-59d2-461a-b35e-6cdd7f04f8ab",
      "metadata": {
        "id": "2955e4ae-59d2-461a-b35e-6cdd7f04f8ab",
        "colab": {
          "base_uri": "https://localhost:8080/"
        },
        "outputId": "3ba90d6c-76ca-447c-976c-51b5e831b24b"
      },
      "outputs": [
        {
          "output_type": "stream",
          "name": "stdout",
          "text": [
            "[DFS] Solution found.\n",
            "6601 nodes seen.\n",
            "4336 nodes skipped\n",
            "2063 nodes expanded.\n",
            "202 nodes remaining in frontier.\n",
            "0.11 seconds elapsed.\n",
            "Assignments: [ 2 4 2 3 1 4 4 4 4 4 ]\n",
            "Job Reqs:    [ 0 12 13  9 16]\n",
            "Total Skill: [ 0 12 18  9 39]\n",
            "Total Cost:  47\n",
            "\n",
            "[BFS] No solution was found.\n",
            "Time limit reached.\n",
            "8148329 nodes seen.\n",
            "1500048 nodes skipped\n",
            "411347 nodes expanded.\n",
            "6236934 nodes remaining in frontier.\n",
            "120.0 seconds elapsed.\n",
            "\n",
            "[UCS] Solution found.\n",
            "2400249 nodes seen.\n",
            "408734 nodes skipped\n",
            "114995 nodes expanded.\n",
            "1876520 nodes remaining in frontier.\n",
            "39.22 seconds elapsed.\n",
            "Assignments: [ _ 4 2 3 1 _ 2 4 _ _ ]\n",
            "Job Reqs:    [ 0 12 13  9 16]\n",
            "Total Skill: [ 0 12 18  9 16]\n",
            "Total Cost:  20\n",
            "\n",
            "[GBF] Solution found.\n",
            "197 nodes seen.\n",
            "0 nodes skipped\n",
            "8 nodes expanded.\n",
            "189 nodes remaining in frontier.\n",
            "0.02 seconds elapsed.\n",
            "Assignments: [ _ 4 _ _ 1 1 2 4 3 2 ]\n",
            "Job Reqs:    [ 0 12 13  9 16]\n",
            "Total Skill: [ 0 23 20  9 16]\n",
            "Total Cost:  35\n",
            "\n",
            "[AST] Solution found.\n",
            "415489 nodes seen.\n",
            "47930 nodes skipped\n",
            "16878 nodes expanded.\n",
            "350681 nodes remaining in frontier.\n",
            "26.09 seconds elapsed.\n",
            "Assignments: [ _ 4 2 3 1 _ 2 4 _ _ ]\n",
            "Job Reqs:    [ 0 12 13  9 16]\n",
            "Total Skill: [ 0 12 18  9 16]\n",
            "Total Cost:  20\n",
            "\n"
          ]
        }
      ],
      "source": [
        "dfs_soln, dfs_log = depth_first_search(jb1, time_limit = 120)\n",
        "bfs_soln, bfs_log = breadth_first_search(jb1, time_limit = 120)\n",
        "ucs_soln, ucs_log = uniform_cost_search(jb1, time_limit = 120)\n",
        "\n",
        "gbf_soln, gbf_log = greedy_best_first(jb1, time_limit = 120, display_results= True)\n",
        "ast_soln, ast_log = astar_search(jb1, time_limit = 120, display_results = True)"
      ]
    },
    {
      "cell_type": "markdown",
      "id": "c0d7c902-b5fa-4c0a-9086-6a7745ac3b5c",
      "metadata": {
        "id": "c0d7c902-b5fa-4c0a-9086-6a7745ac3b5c"
      },
      "source": [
        "# Part 3: Job Assignment (Genetic Algorithm)\n",
        "\n",
        "In Part 3, you will apply the genetic algorithm to the Job Assignment problems that you considered in Part 2.\n",
        "\n",
        "In each case, you will be asked to adjust the Genetic Algorithm parameters in an attempt to obtain an optimal solution.\n",
        "\n",
        "Recall that the search algorithms score solutions based on **cost** while the genetic algorithm scores solutions based on **fitness**. In order to compare the solutions, recall that the fitness score for solutions to the Job Assignment problem is calculated as shown below\n",
        "\n",
        "    fitness = 10 * num_workers - total_cost"
      ]
    },
    {
      "cell_type": "markdown",
      "source": [
        "## 3.A - Apply Genetic Algorithm\n",
        "\n",
        "Create an instance of the `GeneticAlgorithm` class for the `JobAssignment` instance you created in Step 2.A. Set a population size of 1000. For the sake of reproducibility, set a `random_state` to a value of your choice.\n",
        "\n",
        "Call the `run_evolution()` method to apply the genetic algorithm to the Knapsack environment setting `num_generations=100` and `update_rate=50`. Experiment with the reproduction rate and mutation rate until you find an optimal solution to the problem.\n",
        "\n"
      ],
      "metadata": {
        "id": "x3cz8JeZe0bM"
      },
      "id": "x3cz8JeZe0bM"
    },
    {
      "cell_type": "code",
      "execution_count": null,
      "id": "430a37aa-f3de-4721-8cf7-f0b4bdb5d7dd",
      "metadata": {
        "id": "430a37aa-f3de-4721-8cf7-f0b4bdb5d7dd",
        "colab": {
          "base_uri": "https://localhost:8080/"
        },
        "outputId": "c6f9028d-7f41-4cd5-c30e-52afc90540a4"
      },
      "outputs": [
        {
          "output_type": "stream",
          "name": "stdout",
          "text": [
            "Generation 001: New best score found! Current best score = 50\n",
            "Generation 002: New best score found! Current best score = 55\n",
            "Generation 004: New best score found! Current best score = 57\n",
            "Generation 021: New best score found! Current best score = 59\n",
            "Generation 050: Q1=0, Med=0, Q3=0, Max=59\n",
            "Generation 100: Q1=0, Med=0, Q3=36, Max=59\n"
          ]
        }
      ],
      "source": [
        "ga = GeneticAlgorithm(env = jb, pop_size = 1000, random_state = 42)\n",
        "\n",
        "soln = ga.run_evolution(num_generations = 100, rr = 0.4, mr = 0.00002, update_rate = 50)"
      ]
    },
    {
      "cell_type": "markdown",
      "source": [
        "## 3.B - Display the Solution\n",
        "\n",
        "Use the `display()` method to show the details of the solution found in Step 3.A.Set `flags='rcat'` when calling `display()`. This will simplify the output by hiding the workers skills array."
      ],
      "metadata": {
        "id": "O6dMiVMZfQBj"
      },
      "id": "O6dMiVMZfQBj"
    },
    {
      "cell_type": "code",
      "execution_count": null,
      "id": "ef555313-ec63-4d1d-a37e-53144329b34f",
      "metadata": {
        "id": "ef555313-ec63-4d1d-a37e-53144329b34f",
        "colab": {
          "base_uri": "https://localhost:8080/"
        },
        "outputId": "ea10f02b-1a3b-4ca3-f1e2-be358e794931"
      },
      "outputs": [
        {
          "output_type": "stream",
          "name": "stdout",
          "text": [
            "Job Requirements: [ 0 12 13  9]\n",
            "Worker Costs:     [4 9 8 4 7 6 2 4]\n",
            "Assignments:      [ 2 _ _ 2 1 _ 3 1 ]\n",
            "Total cost: 21\n",
            "\n"
          ]
        }
      ],
      "source": [
        "soln.display(flags = 'rcat')"
      ]
    },
    {
      "cell_type": "markdown",
      "source": [
        "## 3.C - Apply Genetic Algorithm\n",
        "\n",
        "Create an instance of the `GeneticAlgorithm` class for the `JobAssignment` instance you created in Step 2.C. Set a population size of 1000. For the sake of reproducibility, set a `random_state` to a value of your choice.\n",
        "\n",
        "Call the `run_evolution()` method to apply the genetic algorithm to the Knapsack environment setting `num_generations=200` and `update_rate=50`. Experiment with the reproduction rate and mutation rate until you find an optimal solution to the problem."
      ],
      "metadata": {
        "id": "YnLtXYfsfHAN"
      },
      "id": "YnLtXYfsfHAN"
    },
    {
      "cell_type": "code",
      "source": [
        "ga2 = GeneticAlgorithm(env = jb1, pop_size = 1000, random_state = 42)\n",
        "\n",
        "soln = ga2.run_evolution(num_generations=200, rr = 0.3, mr = 0.0006, update_rate = 50)"
      ],
      "metadata": {
        "id": "9FPDQIbKf6eW",
        "colab": {
          "base_uri": "https://localhost:8080/"
        },
        "outputId": "998cd948-9aeb-478a-dec0-b4c7a2c8bd5f"
      },
      "id": "9FPDQIbKf6eW",
      "execution_count": null,
      "outputs": [
        {
          "output_type": "stream",
          "name": "stdout",
          "text": [
            "Generation 001: New best score found! Current best score = 70\n",
            "Generation 050: Q1=0, Med=0, Q3=0, Max=70\n",
            "Generation 070: New best score found! Current best score = 73\n",
            "Generation 100: Q1=0, Med=0, Q3=0, Max=73\n",
            "Generation 103: New best score found! Current best score = 78\n",
            "Generation 140: New best score found! Current best score = 79\n",
            "Generation 150: Q1=0, Med=0, Q3=0, Max=79\n",
            "Generation 190: New best score found! Current best score = 80\n",
            "Generation 200: Q1=0, Med=52, Q3=53, Max=80\n"
          ]
        }
      ]
    },
    {
      "cell_type": "markdown",
      "source": [
        "## 3.D - Display the Solution\n",
        "\n",
        "Use the `display()` method to show the details of the solution found in Step 3.C.Set `flags='rcat'` when calling `display()`. This will simplify the output by hiding the workers skills array."
      ],
      "metadata": {
        "id": "KHHPWrwofdYh"
      },
      "id": "KHHPWrwofdYh"
    },
    {
      "cell_type": "code",
      "execution_count": null,
      "id": "6da63841-c415-49b9-beba-0bee0e000b49",
      "metadata": {
        "id": "6da63841-c415-49b9-beba-0bee0e000b49",
        "colab": {
          "base_uri": "https://localhost:8080/"
        },
        "outputId": "90095985-a677-41df-8acb-d42d21847fee"
      },
      "outputs": [
        {
          "output_type": "stream",
          "name": "stdout",
          "text": [
            "Job Requirements: [ 0 12 13  9 16]\n",
            "Worker Costs:     [5 1 4 3 1 5 3 8 8 9]\n",
            "Assignments:      [ _ 4 2 3 1 _ 2 4 _ _ ]\n",
            "Total cost: 20\n",
            "\n"
          ]
        }
      ],
      "source": [
        "soln.display(flags= 'rcat')"
      ]
    },
    {
      "cell_type": "markdown",
      "id": "e6fe7b37-64ab-4444-85c2-9871cb2fa512",
      "metadata": {
        "id": "e6fe7b37-64ab-4444-85c2-9871cb2fa512"
      },
      "source": [
        "# Part 4: Large Job Assignment Problem\n",
        "\n",
        "You should have observed in Parts 2 and 3 that the genetic algorithm is capable of finding optimal solutions to the job assignment problem much more quickly that the search algorithms. In Part 4, you will apply the genetic algorithm to a large job assignment problem that the optimal search algorithms would have no hope of solving in a reasonable amount of time.\n"
      ]
    },
    {
      "cell_type": "markdown",
      "source": [
        "## 4.A - Create Environment\n",
        "\n",
        "Create an instance of the `JobAssignment` environment with 10 jobs, 50 workers, and a maximum worker skill of 5. Set `random_state=1`. Display the environment.\n"
      ],
      "metadata": {
        "id": "TWvhsbJaHQl3"
      },
      "id": "TWvhsbJaHQl3"
    },
    {
      "cell_type": "code",
      "execution_count": null,
      "id": "5235729e-e394-4eb9-bb7b-310d1889f2ea",
      "metadata": {
        "id": "5235729e-e394-4eb9-bb7b-310d1889f2ea",
        "colab": {
          "base_uri": "https://localhost:8080/"
        },
        "outputId": "0d2961a5-b3f6-4c64-85e7-4fef73132940"
      },
      "outputs": [
        {
          "output_type": "stream",
          "name": "stdout",
          "text": [
            "Job Requirements: [ 0 12 13  9 16 10 12  6 16  1  1]\n",
            "Worker Costs:     [8 2 2 5 7 6 7 5 2 2 6 2 3 7 3 4 4 3 4 1 1 2 6 1 6 9 9 1 1 1 9 6 4 5 1 9 7 4 1 9 2 7 7 2 4 8 4 3 4 1]\n",
            "\n",
            "Worker Skills:    \n",
            "[[0 0 0 0 0 0 0 0 0 0 0 0 0 0 0 0 0 0 0 0 0 0 0 0 0 0 0 0 0 0 0 0 0 0 0 0 0 0 0 0 0 0 0 0 0 0 0 0 0 0]\n",
            " [2 1 2 4 5 4 2 4 1 1 3 3 2 4 5 3 1 1 2 2 4 1 1 5 3 5 4 4 1 4 5 4 5 5 5 2 1 5 3 1 3 5 2 2 1 3 5 5 1 5]\n",
            " [2 5 2 1 3 4 2 3 5 5 3 3 1 2 3 3 1 2 3 5 1 2 3 2 5 3 1 1 2 1 2 4 2 2 5 5 4 1 4 1 4 2 3 5 1 1 4 2 2 1]\n",
            " [1 5 3 4 5 3 1 4 4 2 3 5 4 1 1 5 3 5 3 1 4 1 1 5 3 2 1 5 4 1 2 3 5 5 4 4 4 4 3 4 4 5 4 3 5 5 1 4 4 1]\n",
            " [4 2 1 3 3 3 1 3 2 5 1 5 5 2 4 2 5 2 3 2 1 1 3 5 2 1 1 4 2 1 5 4 3 4 5 5 4 1 1 1 5 2 5 2 3 3 5 4 5 5]\n",
            " [1 4 3 5 4 5 3 4 1 3 2 4 3 1 2 5 2 4 4 2 3 1 3 5 1 3 5 4 5 4 1 5 3 3 5 2 3 2 2 2 1 5 5 3 3 4 2 5 1 1]\n",
            " [4 3 5 2 4 2 2 3 5 1 4 1 5 3 4 2 2 5 5 1 3 2 4 1 2 1 3 3 5 4 3 3 3 1 3 1 5 2 1 3 4 1 5 4 4 4 1 4 2 3]\n",
            " [1 2 5 3 4 5 5 3 2 3 1 4 4 3 1 1 1 1 3 5 1 5 2 3 2 3 5 2 4 2 2 3 5 2 1 3 2 3 1 1 4 5 2 1 5 1 4 3 5 4]\n",
            " [3 5 3 5 1 1 5 3 3 5 3 4 1 1 5 4 5 4 4 5 1 4 2 5 5 4 3 3 3 3 3 1 3 2 3 4 1 1 2 2 4 4 4 2 4 4 4 2 4 1]\n",
            " [5 1 3 5 5 3 1 4 3 5 1 5 3 4 5 3 5 2 4 5 4 1 4 1 5 4 1 4 2 5 5 3 3 5 3 2 3 4 2 4 4 1 5 4 4 4 4 1 3 4]\n",
            " [2 4 3 4 3 3 1 5 1 2 4 1 1 1 2 3 5 5 3 1 2 1 1 3 5 4 1 3 2 4 4 2 5 5 5 1 2 1 2 3 3 5 3 5 1 3 5 5 2 2]]\n",
            "\n",
            "Assignments:      [ _ _ _ _ _ _ _ _ _ _ _ _ _ _ _ _ _ _ _ _ _ _ _ _ _ _ _ _ _ _ _ _ _ _ _ _ _ _ _ _ _ _ _ _ _ _ _ _ _ _ ]\n",
            "Total cost: 0\n",
            "\n"
          ]
        }
      ],
      "source": [
        "jb2 = JobAssignment(n_jobs = 10, n_workers = 50, max_skill = 5, random_state = 1)\n",
        "\n",
        "jb2.display()"
      ]
    },
    {
      "cell_type": "markdown",
      "source": [
        "## 4.B - Greedy Best First Search\n",
        "\n",
        "You should have noticed in Part 2 that Greedy Best First Search can find decent, but not optimal, solutions to the job assignment quickly. We will use GBF as a benchmark to compare against the solutions found by the genetic algorithm.\n",
        "\n",
        "In the next cell, apply Greedy Best First search to the environment created in Step 4.A. Set a time limit of 2 minutes."
      ],
      "metadata": {
        "id": "mpOHdwywHlgz"
      },
      "id": "mpOHdwywHlgz"
    },
    {
      "cell_type": "code",
      "execution_count": null,
      "id": "82b073c0-3eb8-4ac9-88c9-82bad73f268c",
      "metadata": {
        "id": "82b073c0-3eb8-4ac9-88c9-82bad73f268c",
        "colab": {
          "base_uri": "https://localhost:8080/"
        },
        "outputId": "f26dc6df-8996-45bc-e7f5-90da751481d7"
      },
      "outputs": [
        {
          "output_type": "stream",
          "name": "stdout",
          "text": [
            "[GBF] Solution found.\n",
            "9501 nodes seen.\n",
            "0 nodes skipped\n",
            "26 nodes expanded.\n",
            "9475 nodes remaining in frontier.\n",
            "0.64 seconds elapsed.\n",
            "Assignments: [ _ _ _ _ _ _ _ _ _ _ _ _ _ _ _ _ 8 _ _ _ _ _ _ 8 8 _ _ _ 7 8 9 10 1 1 4 2 6 1 2 6 4 5 6 2 3 3 4 5 7 4 ]\n",
            "Job Reqs:    [ 0 12 13  9 16 10 12  6 16  1  1]\n",
            "Total Skill: [ 0 15 14 10 20 10 13  9 18  5  2]\n",
            "Total Cost:  110\n",
            "\n"
          ]
        }
      ],
      "source": [
        "gbf_soln, gbf_log = greedy_best_first(jb2, time_limit = 120, display_results= True)"
      ]
    },
    {
      "cell_type": "markdown",
      "source": [
        "## 4.C - Apply Genetic Algorithm\n",
        "\n",
        "Create an instance of the `GeneticAlgorithm` class for the `JobAssignment` instance you created in Step 2.A. Set a population size of 1000. For the sake of reproducibility, set a `random_state` to a value of your choice.\n",
        "\n",
        "Call the `run_evolution()` method to apply the genetic algorithm to the Knapsack environment setting `num_generations` to be 3000 or less and setting `update_rate=500`. Experiment with the reproduction rate and mutation rate until you find a solution **with a cost of 80 or less**.\n",
        "\n",
        "**Note:** You are not required to find an optimal solution to this enviornmnet. But in case you want to try, the cost for an optimal solution is 53."
      ],
      "metadata": {
        "id": "wXWSdUntJDeq"
      },
      "id": "wXWSdUntJDeq"
    },
    {
      "cell_type": "code",
      "execution_count": null,
      "id": "ffa85e4f-ffa2-4fd9-8a6b-2f617361bc62",
      "metadata": {
        "id": "ffa85e4f-ffa2-4fd9-8a6b-2f617361bc62",
        "colab": {
          "base_uri": "https://localhost:8080/"
        },
        "outputId": "2814d4ec-464d-4357-9a81-cc9226ec9059"
      },
      "outputs": [
        {
          "output_type": "stream",
          "name": "stdout",
          "text": [
            "Generation 0001: New best score found! Current best score = 50\n",
            "Generation 0027: New best score found! Current best score = 53\n",
            "Generation 0052: New best score found! Current best score = 54\n",
            "Generation 0121: New best score found! Current best score = 55\n",
            "Generation 0132: New best score found! Current best score = 58\n",
            "Generation 0174: New best score found! Current best score = 59\n",
            "Generation 0500: Q1=0, Med=41, Q3=42, Max=59\n",
            "Generation 1000: Q1=0, Med=0, Q3=20, Max=59\n",
            "Generation 1500: Q1=43, Med=50, Q3=50, Max=59\n",
            "Generation 2000: Q1=24, Med=50, Q3=50, Max=59\n",
            "Generation 2500: Q1=0, Med=44, Q3=50, Max=59\n"
          ]
        }
      ],
      "source": [
        "ga3 = GeneticAlgorithm(env = jb, pop_size = 1000, random_state = 42)\n",
        "\n",
        "soln = ga3.run_evolution(num_generations = 2500, rr = 0.1, mr = 0.001, update_rate = 500)"
      ]
    },
    {
      "cell_type": "markdown",
      "source": [
        "## 4.D - Display the Solution\n",
        "\n",
        "Use the `display()` method to show the details of the solution found in Step 3.C.Set `flags='rcat'` when calling `display()`. This will simplify the output by hiding the workers skills array."
      ],
      "metadata": {
        "id": "PqRhkFtzJ8ZS"
      },
      "id": "PqRhkFtzJ8ZS"
    },
    {
      "cell_type": "code",
      "execution_count": null,
      "id": "f51b1391-4f1c-4a94-a462-a8322549c5ff",
      "metadata": {
        "id": "f51b1391-4f1c-4a94-a462-a8322549c5ff",
        "colab": {
          "base_uri": "https://localhost:8080/"
        },
        "outputId": "762e3923-6a5c-4a83-d88f-33194eb0914d"
      },
      "outputs": [
        {
          "output_type": "stream",
          "name": "stdout",
          "text": [
            "Job Requirements: [ 0 12 13  9]\n",
            "Worker Costs:     [4 9 8 4 7 6 2 4]\n",
            "Assignments:      [ 2 _ _ 2 1 _ 3 1 ]\n",
            "Total cost: 21\n",
            "\n"
          ]
        }
      ],
      "source": [
        "soln.display(flags = 'rcat')"
      ]
    },
    {
      "cell_type": "markdown",
      "source": [
        "# Submission Instructions\n",
        "\n",
        "1. Perform a Restart and Run All by clicking **Tools > Restart session and run all**.\n",
        "2. Copy the link to your notebook by clicking **Share > Copy Link**.\n",
        "3. Paste the copied link into the `notebook_url` field in the [Notebook Renderer](https://colab.research.google.com/drive/1CJTipys46ldZxJFwnt7XbdjQUfkmoXeU?usp=sharing) tool and then execute the cell to render the notebook.\n",
        "4. The Notebook Renderer will open up a save file dialog. Save the resulting HTML file yo your local machine.\n",
        "5. Submit the HTML file to Canvas.\n"
      ],
      "metadata": {
        "id": "R6efasxfL87r"
      },
      "id": "R6efasxfL87r"
    }
  ],
  "metadata": {
    "kernelspec": {
      "display_name": "Python 3 (ipykernel)",
      "language": "python",
      "name": "python3"
    },
    "language_info": {
      "codemirror_mode": {
        "name": "ipython",
        "version": 3
      },
      "file_extension": ".py",
      "mimetype": "text/x-python",
      "name": "python",
      "nbconvert_exporter": "python",
      "pygments_lexer": "ipython3",
      "version": "3.9.18"
    },
    "colab": {
      "provenance": [],
      "include_colab_link": true
    }
  },
  "nbformat": 4,
  "nbformat_minor": 5
}