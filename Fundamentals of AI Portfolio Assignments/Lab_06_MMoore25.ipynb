{
  "cells": [
    {
      "cell_type": "markdown",
      "metadata": {
        "id": "view-in-github",
        "colab_type": "text"
      },
      "source": [
        "<a href=\"https://colab.research.google.com/github/cmoore102589/ai-data-science-portfolio/blob/main/Fundamentals%20of%20AI%20Portfolio%20Assignments/Lab_06_MMoore25.ipynb\" target=\"_parent\"><img src=\"https://colab.research.google.com/assets/colab-badge.svg\" alt=\"Open In Colab\"/></a>"
      ]
    },
    {
      "cell_type": "markdown",
      "source": [
        "# COSC-640: Lab 6\n",
        "\n",
        "**Matthew Corley Moore**\n",
        "\n",
        "[PLACEHOLDER_FOR_NOTEBOOK_LINK]\n"
      ],
      "metadata": {
        "id": "Nz2iykx7TUy8"
      },
      "id": "Nz2iykx7TUy8"
    },
    {
      "cell_type": "markdown",
      "id": "edef32b8-886f-4e07-9713-e39eafe8f24a",
      "metadata": {
        "tags": [],
        "id": "edef32b8-886f-4e07-9713-e39eafe8f24a"
      },
      "source": [
        "## Getting Started\n",
        "\n",
        "Follow the instructions below to copy this notebook and to perform some initial setup.\n",
        "\n",
        "1. Copy this notebook by selecting `File > Save a copy in Drive`.\n",
        "2. A new window should open for the copied notebook. Move the new notebook to your course folder in Google Drive by selecting `File > Move` and then selecting the desired folder.\n",
        "3. Update the name of the notebook by removing \"Copy of\" and replacing \"Username\" with your actual username.\n",
        "4. Update the first cell in the notebook by specifying your course number (440 or 640) and by replacing \"**Student Name**\" with your actual name.\n",
        "5. Do not edit the line that says `PLACEHOLDER_FOR_NOTEBOOK_LINK`. This will be used by the [Notebook Renderer](https://colab.research.google.com/drive/1CJTipys46ldZxJFwnt7XbdjQUfkmoXeU?usp=sharing) tool to insert a link to your Colab notebook.\n",
        "6. Enable link sharing for your notebook."
      ]
    },
    {
      "cell_type": "markdown",
      "source": [
        "## Preparing the Colab Environment\n",
        "\n",
        "Run the cell below to download and extract the datasets required for this lab. All of the required datasets will then be stored on the Colab VM in a folder named `data/`."
      ],
      "metadata": {
        "id": "sLbYRf5WTZ0f"
      },
      "id": "sLbYRf5WTZ0f"
    },
    {
      "cell_type": "code",
      "source": [
        "%%capture\n",
        "!wget -nc https://github.com/drbeane/datasets/raw/main/COSC_640_data.zip\n",
        "!unzip -n COSC_640_data.zip -d data/"
      ],
      "metadata": {
        "id": "8aELgQQ2TdEt"
      },
      "id": "8aELgQQ2TdEt",
      "execution_count": null,
      "outputs": []
    },
    {
      "cell_type": "markdown",
      "source": [],
      "metadata": {
        "id": "pFeeSJJCurvz"
      },
      "id": "pFeeSJJCurvz"
    },
    {
      "cell_type": "markdown",
      "source": [
        "Run the cell below to import the necessary tools for this assignment. No other import statements are required for this lab, and no other import statements should be included in this assignment."
      ],
      "metadata": {
        "id": "IAIP4jp7TcHT"
      },
      "id": "IAIP4jp7TcHT"
    },
    {
      "cell_type": "code",
      "execution_count": null,
      "id": "36db57f8-b0ac-4d38-8ee3-b7da3499a6ce",
      "metadata": {
        "id": "36db57f8-b0ac-4d38-8ee3-b7da3499a6ce"
      },
      "outputs": [],
      "source": [
        "import numpy as np\n",
        "import pandas as pd\n",
        "import matplotlib.pyplot as plt\n",
        "\n",
        "from sklearn.linear_model import LogisticRegression\n",
        "from sklearn.neighbors import KNeighborsClassifier\n",
        "from sklearn.tree import DecisionTreeClassifier\n",
        "from sklearn.ensemble import RandomForestClassifier\n",
        "\n",
        "from sklearn.preprocessing import StandardScaler, OneHotEncoder\n",
        "from sklearn.compose  import ColumnTransformer\n",
        "\n",
        "from sklearn.model_selection import cross_val_score, cross_val_predict, GridSearchCV\n",
        "from sklearn.metrics import classification_report, confusion_matrix"
      ]
    },
    {
      "cell_type": "markdown",
      "id": "c0cbc112-67a9-41f7-91a0-813fd2d82fa5",
      "metadata": {
        "id": "c0cbc112-67a9-41f7-91a0-813fd2d82fa5"
      },
      "source": [
        "# Part 1: Data Preparation (Census Data)\n",
        "\n",
        "In Parts 1 and 2, you will be working with the \"Census Income\" dataset. In Part 1, you will prepare the data and in Part 2, you will select, train, and apply a model.\n",
        "\n",
        "Your goal will be to create a model to predict whether or not an individual has an annual salary greater than $50,000 based on various demographic factors. You can find more information about the dataset, including a description of the features here: [Census Income Dataset](https://archive.ics.uci.edu/ml/datasets/adult).\n",
        "\n",
        "Note that the label values are stored in the `income` column. All other columns represent features. All feature columns containing numerical values represent numerical features and all feature columns containing string values represent categorical features.\n",
        "\n",
        "**Note:** In the interest of time, you will work with only half of the Census dataset in Parts 1 and 2. Some of the cross validations steps would require a significant amount of time to run in the Colab environment if we were to run them on the entire dataset."
      ]
    },
    {
      "cell_type": "markdown",
      "source": [
        "## 1.A - Load the Data\n",
        "\n",
        "Load the data from the file `data/census.csv` into a DataFrame. Use the `sample()` method to shuffle the data, setting `frac=0.5` and `random_state=1`. Display the head of the DataFrame.\n",
        "\n",
        "**Pay careful attention to the instructions above regarding the parameters for `sample()`.**"
      ],
      "metadata": {
        "id": "Zacd8XxBUDC3"
      },
      "id": "Zacd8XxBUDC3"
    },
    {
      "cell_type": "code",
      "execution_count": null,
      "id": "f6e6e427-b22d-49cc-8b42-ae23d962c0fc",
      "metadata": {
        "id": "f6e6e427-b22d-49cc-8b42-ae23d962c0fc",
        "colab": {
          "base_uri": "https://localhost:8080/",
          "height": 313
        },
        "outputId": "806d0047-0968-4677-d114-6724f0d3328b"
      },
      "outputs": [
        {
          "output_type": "execute_result",
          "data": {
            "text/plain": [
              "       age    workclass  fnlwgt  education  educ_num      marital_status  \\\n",
              "9646    24      Private  336088    HS-grad         9            Divorced   \n",
              "709     34  Federal-gov  190228  Bachelors        13  Married-civ-spouse   \n",
              "7385    18      Private  104704    HS-grad         9       Never-married   \n",
              "16671   44      Private   36271  Bachelors        13  Married-civ-spouse   \n",
              "21932   27      Private  178709    Masters        14       Never-married   \n",
              "\n",
              "              occupation   relationship                race     sex  \\\n",
              "9646     Exec-managerial  Not-in-family  Amer-Indian-Eskimo  Female   \n",
              "709      Protective-serv        Husband               White    Male   \n",
              "7385        Adm-clerical      Own-child               Black    Male   \n",
              "16671       Craft-repair        Husband               White    Male   \n",
              "21932  Machine-op-inspct  Not-in-family               White  Female   \n",
              "\n",
              "       capital_gain  capital_loss  hrs_per_week native_country income  \n",
              "9646              0             0            50  United-States  <=50K  \n",
              "709               0          1902            48  United-States   >50K  \n",
              "7385              0             0            40  United-States  <=50K  \n",
              "16671             0             0            40  United-States  <=50K  \n",
              "21932             0             0            40  United-States  <=50K  "
            ],
            "text/html": [
              "\n",
              "  <div id=\"df-78232548-0033-42b2-bef1-e12fe056f8f8\" class=\"colab-df-container\">\n",
              "    <div>\n",
              "<style scoped>\n",
              "    .dataframe tbody tr th:only-of-type {\n",
              "        vertical-align: middle;\n",
              "    }\n",
              "\n",
              "    .dataframe tbody tr th {\n",
              "        vertical-align: top;\n",
              "    }\n",
              "\n",
              "    .dataframe thead th {\n",
              "        text-align: right;\n",
              "    }\n",
              "</style>\n",
              "<table border=\"1\" class=\"dataframe\">\n",
              "  <thead>\n",
              "    <tr style=\"text-align: right;\">\n",
              "      <th></th>\n",
              "      <th>age</th>\n",
              "      <th>workclass</th>\n",
              "      <th>fnlwgt</th>\n",
              "      <th>education</th>\n",
              "      <th>educ_num</th>\n",
              "      <th>marital_status</th>\n",
              "      <th>occupation</th>\n",
              "      <th>relationship</th>\n",
              "      <th>race</th>\n",
              "      <th>sex</th>\n",
              "      <th>capital_gain</th>\n",
              "      <th>capital_loss</th>\n",
              "      <th>hrs_per_week</th>\n",
              "      <th>native_country</th>\n",
              "      <th>income</th>\n",
              "    </tr>\n",
              "  </thead>\n",
              "  <tbody>\n",
              "    <tr>\n",
              "      <th>9646</th>\n",
              "      <td>24</td>\n",
              "      <td>Private</td>\n",
              "      <td>336088</td>\n",
              "      <td>HS-grad</td>\n",
              "      <td>9</td>\n",
              "      <td>Divorced</td>\n",
              "      <td>Exec-managerial</td>\n",
              "      <td>Not-in-family</td>\n",
              "      <td>Amer-Indian-Eskimo</td>\n",
              "      <td>Female</td>\n",
              "      <td>0</td>\n",
              "      <td>0</td>\n",
              "      <td>50</td>\n",
              "      <td>United-States</td>\n",
              "      <td>&lt;=50K</td>\n",
              "    </tr>\n",
              "    <tr>\n",
              "      <th>709</th>\n",
              "      <td>34</td>\n",
              "      <td>Federal-gov</td>\n",
              "      <td>190228</td>\n",
              "      <td>Bachelors</td>\n",
              "      <td>13</td>\n",
              "      <td>Married-civ-spouse</td>\n",
              "      <td>Protective-serv</td>\n",
              "      <td>Husband</td>\n",
              "      <td>White</td>\n",
              "      <td>Male</td>\n",
              "      <td>0</td>\n",
              "      <td>1902</td>\n",
              "      <td>48</td>\n",
              "      <td>United-States</td>\n",
              "      <td>&gt;50K</td>\n",
              "    </tr>\n",
              "    <tr>\n",
              "      <th>7385</th>\n",
              "      <td>18</td>\n",
              "      <td>Private</td>\n",
              "      <td>104704</td>\n",
              "      <td>HS-grad</td>\n",
              "      <td>9</td>\n",
              "      <td>Never-married</td>\n",
              "      <td>Adm-clerical</td>\n",
              "      <td>Own-child</td>\n",
              "      <td>Black</td>\n",
              "      <td>Male</td>\n",
              "      <td>0</td>\n",
              "      <td>0</td>\n",
              "      <td>40</td>\n",
              "      <td>United-States</td>\n",
              "      <td>&lt;=50K</td>\n",
              "    </tr>\n",
              "    <tr>\n",
              "      <th>16671</th>\n",
              "      <td>44</td>\n",
              "      <td>Private</td>\n",
              "      <td>36271</td>\n",
              "      <td>Bachelors</td>\n",
              "      <td>13</td>\n",
              "      <td>Married-civ-spouse</td>\n",
              "      <td>Craft-repair</td>\n",
              "      <td>Husband</td>\n",
              "      <td>White</td>\n",
              "      <td>Male</td>\n",
              "      <td>0</td>\n",
              "      <td>0</td>\n",
              "      <td>40</td>\n",
              "      <td>United-States</td>\n",
              "      <td>&lt;=50K</td>\n",
              "    </tr>\n",
              "    <tr>\n",
              "      <th>21932</th>\n",
              "      <td>27</td>\n",
              "      <td>Private</td>\n",
              "      <td>178709</td>\n",
              "      <td>Masters</td>\n",
              "      <td>14</td>\n",
              "      <td>Never-married</td>\n",
              "      <td>Machine-op-inspct</td>\n",
              "      <td>Not-in-family</td>\n",
              "      <td>White</td>\n",
              "      <td>Female</td>\n",
              "      <td>0</td>\n",
              "      <td>0</td>\n",
              "      <td>40</td>\n",
              "      <td>United-States</td>\n",
              "      <td>&lt;=50K</td>\n",
              "    </tr>\n",
              "  </tbody>\n",
              "</table>\n",
              "</div>\n",
              "    <div class=\"colab-df-buttons\">\n",
              "\n",
              "  <div class=\"colab-df-container\">\n",
              "    <button class=\"colab-df-convert\" onclick=\"convertToInteractive('df-78232548-0033-42b2-bef1-e12fe056f8f8')\"\n",
              "            title=\"Convert this dataframe to an interactive table.\"\n",
              "            style=\"display:none;\">\n",
              "\n",
              "  <svg xmlns=\"http://www.w3.org/2000/svg\" height=\"24px\" viewBox=\"0 -960 960 960\">\n",
              "    <path d=\"M120-120v-720h720v720H120Zm60-500h600v-160H180v160Zm220 220h160v-160H400v160Zm0 220h160v-160H400v160ZM180-400h160v-160H180v160Zm440 0h160v-160H620v160ZM180-180h160v-160H180v160Zm440 0h160v-160H620v160Z\"/>\n",
              "  </svg>\n",
              "    </button>\n",
              "\n",
              "  <style>\n",
              "    .colab-df-container {\n",
              "      display:flex;\n",
              "      gap: 12px;\n",
              "    }\n",
              "\n",
              "    .colab-df-convert {\n",
              "      background-color: #E8F0FE;\n",
              "      border: none;\n",
              "      border-radius: 50%;\n",
              "      cursor: pointer;\n",
              "      display: none;\n",
              "      fill: #1967D2;\n",
              "      height: 32px;\n",
              "      padding: 0 0 0 0;\n",
              "      width: 32px;\n",
              "    }\n",
              "\n",
              "    .colab-df-convert:hover {\n",
              "      background-color: #E2EBFA;\n",
              "      box-shadow: 0px 1px 2px rgba(60, 64, 67, 0.3), 0px 1px 3px 1px rgba(60, 64, 67, 0.15);\n",
              "      fill: #174EA6;\n",
              "    }\n",
              "\n",
              "    .colab-df-buttons div {\n",
              "      margin-bottom: 4px;\n",
              "    }\n",
              "\n",
              "    [theme=dark] .colab-df-convert {\n",
              "      background-color: #3B4455;\n",
              "      fill: #D2E3FC;\n",
              "    }\n",
              "\n",
              "    [theme=dark] .colab-df-convert:hover {\n",
              "      background-color: #434B5C;\n",
              "      box-shadow: 0px 1px 3px 1px rgba(0, 0, 0, 0.15);\n",
              "      filter: drop-shadow(0px 1px 2px rgba(0, 0, 0, 0.3));\n",
              "      fill: #FFFFFF;\n",
              "    }\n",
              "  </style>\n",
              "\n",
              "    <script>\n",
              "      const buttonEl =\n",
              "        document.querySelector('#df-78232548-0033-42b2-bef1-e12fe056f8f8 button.colab-df-convert');\n",
              "      buttonEl.style.display =\n",
              "        google.colab.kernel.accessAllowed ? 'block' : 'none';\n",
              "\n",
              "      async function convertToInteractive(key) {\n",
              "        const element = document.querySelector('#df-78232548-0033-42b2-bef1-e12fe056f8f8');\n",
              "        const dataTable =\n",
              "          await google.colab.kernel.invokeFunction('convertToInteractive',\n",
              "                                                    [key], {});\n",
              "        if (!dataTable) return;\n",
              "\n",
              "        const docLinkHtml = 'Like what you see? Visit the ' +\n",
              "          '<a target=\"_blank\" href=https://colab.research.google.com/notebooks/data_table.ipynb>data table notebook</a>'\n",
              "          + ' to learn more about interactive tables.';\n",
              "        element.innerHTML = '';\n",
              "        dataTable['output_type'] = 'display_data';\n",
              "        await google.colab.output.renderOutput(dataTable, element);\n",
              "        const docLink = document.createElement('div');\n",
              "        docLink.innerHTML = docLinkHtml;\n",
              "        element.appendChild(docLink);\n",
              "      }\n",
              "    </script>\n",
              "  </div>\n",
              "\n",
              "\n",
              "<div id=\"df-e111a6f7-539c-482f-9820-7555fc4225ab\">\n",
              "  <button class=\"colab-df-quickchart\" onclick=\"quickchart('df-e111a6f7-539c-482f-9820-7555fc4225ab')\"\n",
              "            title=\"Suggest charts\"\n",
              "            style=\"display:none;\">\n",
              "\n",
              "<svg xmlns=\"http://www.w3.org/2000/svg\" height=\"24px\"viewBox=\"0 0 24 24\"\n",
              "     width=\"24px\">\n",
              "    <g>\n",
              "        <path d=\"M19 3H5c-1.1 0-2 .9-2 2v14c0 1.1.9 2 2 2h14c1.1 0 2-.9 2-2V5c0-1.1-.9-2-2-2zM9 17H7v-7h2v7zm4 0h-2V7h2v10zm4 0h-2v-4h2v4z\"/>\n",
              "    </g>\n",
              "</svg>\n",
              "  </button>\n",
              "\n",
              "<style>\n",
              "  .colab-df-quickchart {\n",
              "      --bg-color: #E8F0FE;\n",
              "      --fill-color: #1967D2;\n",
              "      --hover-bg-color: #E2EBFA;\n",
              "      --hover-fill-color: #174EA6;\n",
              "      --disabled-fill-color: #AAA;\n",
              "      --disabled-bg-color: #DDD;\n",
              "  }\n",
              "\n",
              "  [theme=dark] .colab-df-quickchart {\n",
              "      --bg-color: #3B4455;\n",
              "      --fill-color: #D2E3FC;\n",
              "      --hover-bg-color: #434B5C;\n",
              "      --hover-fill-color: #FFFFFF;\n",
              "      --disabled-bg-color: #3B4455;\n",
              "      --disabled-fill-color: #666;\n",
              "  }\n",
              "\n",
              "  .colab-df-quickchart {\n",
              "    background-color: var(--bg-color);\n",
              "    border: none;\n",
              "    border-radius: 50%;\n",
              "    cursor: pointer;\n",
              "    display: none;\n",
              "    fill: var(--fill-color);\n",
              "    height: 32px;\n",
              "    padding: 0;\n",
              "    width: 32px;\n",
              "  }\n",
              "\n",
              "  .colab-df-quickchart:hover {\n",
              "    background-color: var(--hover-bg-color);\n",
              "    box-shadow: 0 1px 2px rgba(60, 64, 67, 0.3), 0 1px 3px 1px rgba(60, 64, 67, 0.15);\n",
              "    fill: var(--button-hover-fill-color);\n",
              "  }\n",
              "\n",
              "  .colab-df-quickchart-complete:disabled,\n",
              "  .colab-df-quickchart-complete:disabled:hover {\n",
              "    background-color: var(--disabled-bg-color);\n",
              "    fill: var(--disabled-fill-color);\n",
              "    box-shadow: none;\n",
              "  }\n",
              "\n",
              "  .colab-df-spinner {\n",
              "    border: 2px solid var(--fill-color);\n",
              "    border-color: transparent;\n",
              "    border-bottom-color: var(--fill-color);\n",
              "    animation:\n",
              "      spin 1s steps(1) infinite;\n",
              "  }\n",
              "\n",
              "  @keyframes spin {\n",
              "    0% {\n",
              "      border-color: transparent;\n",
              "      border-bottom-color: var(--fill-color);\n",
              "      border-left-color: var(--fill-color);\n",
              "    }\n",
              "    20% {\n",
              "      border-color: transparent;\n",
              "      border-left-color: var(--fill-color);\n",
              "      border-top-color: var(--fill-color);\n",
              "    }\n",
              "    30% {\n",
              "      border-color: transparent;\n",
              "      border-left-color: var(--fill-color);\n",
              "      border-top-color: var(--fill-color);\n",
              "      border-right-color: var(--fill-color);\n",
              "    }\n",
              "    40% {\n",
              "      border-color: transparent;\n",
              "      border-right-color: var(--fill-color);\n",
              "      border-top-color: var(--fill-color);\n",
              "    }\n",
              "    60% {\n",
              "      border-color: transparent;\n",
              "      border-right-color: var(--fill-color);\n",
              "    }\n",
              "    80% {\n",
              "      border-color: transparent;\n",
              "      border-right-color: var(--fill-color);\n",
              "      border-bottom-color: var(--fill-color);\n",
              "    }\n",
              "    90% {\n",
              "      border-color: transparent;\n",
              "      border-bottom-color: var(--fill-color);\n",
              "    }\n",
              "  }\n",
              "</style>\n",
              "\n",
              "  <script>\n",
              "    async function quickchart(key) {\n",
              "      const quickchartButtonEl =\n",
              "        document.querySelector('#' + key + ' button');\n",
              "      quickchartButtonEl.disabled = true;  // To prevent multiple clicks.\n",
              "      quickchartButtonEl.classList.add('colab-df-spinner');\n",
              "      try {\n",
              "        const charts = await google.colab.kernel.invokeFunction(\n",
              "            'suggestCharts', [key], {});\n",
              "      } catch (error) {\n",
              "        console.error('Error during call to suggestCharts:', error);\n",
              "      }\n",
              "      quickchartButtonEl.classList.remove('colab-df-spinner');\n",
              "      quickchartButtonEl.classList.add('colab-df-quickchart-complete');\n",
              "    }\n",
              "    (() => {\n",
              "      let quickchartButtonEl =\n",
              "        document.querySelector('#df-e111a6f7-539c-482f-9820-7555fc4225ab button');\n",
              "      quickchartButtonEl.style.display =\n",
              "        google.colab.kernel.accessAllowed ? 'block' : 'none';\n",
              "    })();\n",
              "  </script>\n",
              "</div>\n",
              "\n",
              "    </div>\n",
              "  </div>\n"
            ],
            "application/vnd.google.colaboratory.intrinsic+json": {
              "type": "dataframe",
              "variable_name": "df",
              "summary": "{\n  \"name\": \"df\",\n  \"rows\": 16280,\n  \"fields\": [\n    {\n      \"column\": \"age\",\n      \"properties\": {\n        \"dtype\": \"number\",\n        \"std\": 13,\n        \"min\": 17,\n        \"max\": 90,\n        \"num_unique_values\": 71,\n        \"samples\": [\n          41,\n          24,\n          53\n        ],\n        \"semantic_type\": \"\",\n        \"description\": \"\"\n      }\n    },\n    {\n      \"column\": \"workclass\",\n      \"properties\": {\n        \"dtype\": \"category\",\n        \"num_unique_values\": 8,\n        \"samples\": [\n          \"Federal-gov\",\n          \"State-gov\",\n          \"Private\"\n        ],\n        \"semantic_type\": \"\",\n        \"description\": \"\"\n      }\n    },\n    {\n      \"column\": \"fnlwgt\",\n      \"properties\": {\n        \"dtype\": \"number\",\n        \"std\": 108081,\n        \"min\": 12285,\n        \"max\": 1484705,\n        \"num_unique_values\": 12835,\n        \"samples\": [\n          99270,\n          172071,\n          138634\n        ],\n        \"semantic_type\": \"\",\n        \"description\": \"\"\n      }\n    },\n    {\n      \"column\": \"education\",\n      \"properties\": {\n        \"dtype\": \"category\",\n        \"num_unique_values\": 16,\n        \"samples\": [\n          \"HS-grad\",\n          \"Bachelors\",\n          \"9th\"\n        ],\n        \"semantic_type\": \"\",\n        \"description\": \"\"\n      }\n    },\n    {\n      \"column\": \"educ_num\",\n      \"properties\": {\n        \"dtype\": \"number\",\n        \"std\": 2,\n        \"min\": 1,\n        \"max\": 16,\n        \"num_unique_values\": 16,\n        \"samples\": [\n          9,\n          13,\n          5\n        ],\n        \"semantic_type\": \"\",\n        \"description\": \"\"\n      }\n    },\n    {\n      \"column\": \"marital_status\",\n      \"properties\": {\n        \"dtype\": \"category\",\n        \"num_unique_values\": 7,\n        \"samples\": [\n          \"Divorced\",\n          \"Married-civ-spouse\",\n          \"Widowed\"\n        ],\n        \"semantic_type\": \"\",\n        \"description\": \"\"\n      }\n    },\n    {\n      \"column\": \"occupation\",\n      \"properties\": {\n        \"dtype\": \"category\",\n        \"num_unique_values\": 14,\n        \"samples\": [\n          \"Handlers-cleaners\",\n          \"Tech-support\",\n          \"Exec-managerial\"\n        ],\n        \"semantic_type\": \"\",\n        \"description\": \"\"\n      }\n    },\n    {\n      \"column\": \"relationship\",\n      \"properties\": {\n        \"dtype\": \"category\",\n        \"num_unique_values\": 6,\n        \"samples\": [\n          \"Not-in-family\",\n          \"Husband\",\n          \"Other-relative\"\n        ],\n        \"semantic_type\": \"\",\n        \"description\": \"\"\n      }\n    },\n    {\n      \"column\": \"race\",\n      \"properties\": {\n        \"dtype\": \"category\",\n        \"num_unique_values\": 5,\n        \"samples\": [\n          \"White\",\n          \"Other\",\n          \"Black\"\n        ],\n        \"semantic_type\": \"\",\n        \"description\": \"\"\n      }\n    },\n    {\n      \"column\": \"sex\",\n      \"properties\": {\n        \"dtype\": \"category\",\n        \"num_unique_values\": 2,\n        \"samples\": [\n          \"Male\",\n          \"Female\"\n        ],\n        \"semantic_type\": \"\",\n        \"description\": \"\"\n      }\n    },\n    {\n      \"column\": \"capital_gain\",\n      \"properties\": {\n        \"dtype\": \"number\",\n        \"std\": 7190,\n        \"min\": 0,\n        \"max\": 99999,\n        \"num_unique_values\": 113,\n        \"samples\": [\n          6097,\n          1409\n        ],\n        \"semantic_type\": \"\",\n        \"description\": \"\"\n      }\n    },\n    {\n      \"column\": \"capital_loss\",\n      \"properties\": {\n        \"dtype\": \"number\",\n        \"std\": 412,\n        \"min\": 0,\n        \"max\": 4356,\n        \"num_unique_values\": 80,\n        \"samples\": [\n          1504,\n          0\n        ],\n        \"semantic_type\": \"\",\n        \"description\": \"\"\n      }\n    },\n    {\n      \"column\": \"hrs_per_week\",\n      \"properties\": {\n        \"dtype\": \"number\",\n        \"std\": 12,\n        \"min\": 1,\n        \"max\": 99,\n        \"num_unique_values\": 88,\n        \"samples\": [\n          13,\n          50\n        ],\n        \"semantic_type\": \"\",\n        \"description\": \"\"\n      }\n    },\n    {\n      \"column\": \"native_country\",\n      \"properties\": {\n        \"dtype\": \"category\",\n        \"num_unique_values\": 41,\n        \"samples\": [\n          \"Taiwan\",\n          \"Cuba\"\n        ],\n        \"semantic_type\": \"\",\n        \"description\": \"\"\n      }\n    },\n    {\n      \"column\": \"income\",\n      \"properties\": {\n        \"dtype\": \"category\",\n        \"num_unique_values\": 2,\n        \"samples\": [\n          \">50K\",\n          \"<=50K\"\n        ],\n        \"semantic_type\": \"\",\n        \"description\": \"\"\n      }\n    }\n  ]\n}"
            }
          },
          "metadata": {},
          "execution_count": 3
        }
      ],
      "source": [
        "df = pd.read_csv('data/census.csv')\n",
        "df = df.sample(frac=0.5, random_state = 1)\n",
        "df.head()"
      ]
    },
    {
      "cell_type": "markdown",
      "source": [
        "## 1.B - Label Distribution\n",
        "\n",
        "Create a label array and use `value_counts()` to display the distribution of the label values as proportions."
      ],
      "metadata": {
        "id": "l57rT-EiUQew"
      },
      "id": "l57rT-EiUQew"
    },
    {
      "cell_type": "code",
      "execution_count": null,
      "id": "3cbe555d-633f-46be-8a95-db68bdf8ade2",
      "metadata": {
        "id": "3cbe555d-633f-46be-8a95-db68bdf8ade2",
        "colab": {
          "base_uri": "https://localhost:8080/"
        },
        "outputId": "87654001-1514-4f68-fde7-0cd1a9c42d14"
      },
      "outputs": [
        {
          "output_type": "execute_result",
          "data": {
            "text/plain": [
              "<=50K    0.75688\n",
              ">50K     0.24312\n",
              "Name: income, dtype: float64"
            ]
          },
          "metadata": {},
          "execution_count": 4
        }
      ],
      "source": [
        "#y = df.income.values\n",
        "df.income.value_counts(normalize=True)"
      ]
    },
    {
      "cell_type": "markdown",
      "source": [],
      "metadata": {
        "id": "SIvLAuuS09PD"
      },
      "id": "SIvLAuuS09PD"
    },
    {
      "cell_type": "markdown",
      "source": [
        "## 1.C - Grouping Features\n",
        "\n",
        "Create lists containing the names of the numerical and categorical features. Print these lists along with messages indicating which features are numerical and which are categorical."
      ],
      "metadata": {
        "id": "o_C9X4NVUf64"
      },
      "id": "o_C9X4NVUf64"
    },
    {
      "cell_type": "code",
      "execution_count": null,
      "id": "e4befd54-88e0-4e37-8921-18794125c872",
      "metadata": {
        "id": "e4befd54-88e0-4e37-8921-18794125c872",
        "colab": {
          "base_uri": "https://localhost:8080/"
        },
        "outputId": "c45f48dc-6191-4f09-a2cb-062d9148c34c"
      },
      "outputs": [
        {
          "output_type": "stream",
          "name": "stdout",
          "text": [
            "age                int64\n",
            "workclass         object\n",
            "fnlwgt             int64\n",
            "education         object\n",
            "educ_num           int64\n",
            "marital_status    object\n",
            "occupation        object\n",
            "relationship      object\n",
            "race              object\n",
            "sex               object\n",
            "capital_gain       int64\n",
            "capital_loss       int64\n",
            "hrs_per_week       int64\n",
            "native_country    object\n",
            "income            object\n",
            "dtype: object\n",
            "\n",
            "These are the numerical features: ['age' 'fnlwgt' 'educ_num' 'capital_gain' 'capital_loss' 'hrs_per_week']\n",
            "\n",
            "These are the categorical features: ['workclass' 'education' 'marital_status' 'occupation' 'relationship'\n",
            " 'race' 'sex' 'native_country' 'income']\n"
          ]
        }
      ],
      "source": [
        "print(df.dtypes)\n",
        "print()\n",
        "\n",
        "numerical_features = df.columns.values[[0,2,4,10,11,12]]\n",
        "\n",
        "categorical_features = df.columns.values[[1,3,5,6,7,8,9,13,14]]\n",
        "\n",
        "print(f\"These are the numerical features: {numerical_features}\")\n",
        "print()\n",
        "print(f\"These are the categorical features: {categorical_features}\")"
      ]
    },
    {
      "cell_type": "markdown",
      "source": [
        "## 1.D - Counting Levels\n",
        "\n",
        "Determine the number of levels for each categorical feature. Display the results my printing a message of the following form for each feature:\n",
        "\n",
        "    [feature] has [num_levels] levels.\n",
        "\n",
        "The bracketed expressions should be replaced with the appropriate values."
      ],
      "metadata": {
        "id": "0rfebTT1UjQ-"
      },
      "id": "0rfebTT1UjQ-"
    },
    {
      "cell_type": "code",
      "execution_count": null,
      "id": "8d1eaa53-2b0e-42fb-8496-1aa7aa6e7d52",
      "metadata": {
        "id": "8d1eaa53-2b0e-42fb-8496-1aa7aa6e7d52",
        "colab": {
          "base_uri": "https://localhost:8080/"
        },
        "outputId": "e7e2e68e-0a89-40cd-cc1a-6a354b0418c0"
      },
      "outputs": [
        {
          "output_type": "stream",
          "name": "stdout",
          "text": [
            "workclass has 9 levels.\n",
            "education has 16 levels.\n",
            "marital_status has 7 levels.\n",
            "occupation has 15 levels.\n",
            "relationship has 6 levels.\n",
            "race has 5 levels.\n",
            "sex has 2 levels.\n",
            "native_country has 42 levels.\n",
            "income has 2 levels.\n"
          ]
        }
      ],
      "source": [
        "for c in categorical_features:\n",
        "    print(f'{c} has {len(df[c].unique())} levels.')"
      ]
    },
    {
      "cell_type": "markdown",
      "source": [
        "## 1.E - Data Preprocessing\n",
        "\n",
        "Create instances of `StandardScaler` and `OneHotEncoder` and then use them to create an instance of `ColumnTransformer`, applying each preprocessing object to the appropriate columns. Then fit and apply your `ColumnTransformer` to the DataFrame containing your training data. Store the resulting feature array in a variable.\n",
        "\n",
        "**Use the preprocessed features when training, evaluating, or applying models in Part 2.**"
      ],
      "metadata": {
        "id": "EyBSxwOPU-40"
      },
      "id": "EyBSxwOPU-40"
    },
    {
      "cell_type": "code",
      "execution_count": null,
      "id": "65a7697d-10ab-4b9b-847d-e5606e846468",
      "metadata": {
        "id": "65a7697d-10ab-4b9b-847d-e5606e846468",
        "colab": {
          "base_uri": "https://localhost:8080/"
        },
        "outputId": "44bd0bbc-945b-4832-ca65-34a13b5449a6"
      },
      "outputs": [
        {
          "output_type": "stream",
          "name": "stdout",
          "text": [
            "(16280, 110)\n"
          ]
        }
      ],
      "source": [
        "scaler = StandardScaler()\n",
        "encoder = OneHotEncoder()\n",
        "\n",
        "preprocessor1 = ColumnTransformer(\n",
        "    transformers = [\n",
        "        ('sca', scaler, numerical_features),\n",
        "        ('enc', encoder, categorical_features)\n",
        "    ]\n",
        ")\n",
        "\n",
        "X = df.drop('income', axis=1)\n",
        "y = df['income']\n",
        "\n",
        "X = preprocessor1.fit_transform(df)\n",
        "print(X.shape)"
      ]
    },
    {
      "cell_type": "markdown",
      "id": "b8c2a71d-7533-4fc4-9eff-147a26a42cd3",
      "metadata": {
        "id": "b8c2a71d-7533-4fc4-9eff-147a26a42cd3"
      },
      "source": [
        "# Part 2: Selecting and Applying a Model (Census Data)\n",
        "\n",
        "We will now perform hyperparameter tuning and model selection. After identifying the preferred model, we will analyze its preformance."
      ]
    },
    {
      "cell_type": "markdown",
      "source": [
        "## 2.A - Cross Validation for Logistic Regression\n",
        "\n",
        "Create an instance of `LogisticRegression`. Use `cross_value_score()` to estimate the model's out-of-sample\n",
        "performance on the dataset. Use 5-fold CV with accuracy as the metric. Print the scores for each fold, as well as mean score. Round all scores to 3 decimal places."
      ],
      "metadata": {
        "id": "us0nPko1VnVy"
      },
      "id": "us0nPko1VnVy"
    },
    {
      "cell_type": "code",
      "execution_count": null,
      "id": "0bfb9251-6063-4ce8-8c07-49e2fc91cb2c",
      "metadata": {
        "id": "0bfb9251-6063-4ce8-8c07-49e2fc91cb2c",
        "colab": {
          "base_uri": "https://localhost:8080/"
        },
        "outputId": "280e11b5-af3a-43b6-e6f7-7d09c06d4af0"
      },
      "outputs": [
        {
          "output_type": "stream",
          "name": "stdout",
          "text": [
            "Scores: [1. 1. 1. 1. 1.]\n",
            "CV Score: 1.0\n"
          ]
        }
      ],
      "source": [
        "lr_mod = LogisticRegression()\n",
        "\n",
        "scores = cross_val_score(lr_mod, X, y, cv=5, scoring='accuracy', n_jobs=-1)\n",
        "print('Scores:', scores.round(3))\n",
        "print('CV Score:', scores.mean().round(3))"
      ]
    },
    {
      "cell_type": "markdown",
      "source": [
        "## 2.B - Hyperparameter Tuning for KNN\n",
        "\n",
        "Create an instance of `KNeighborsClassifier` specifying no parameter values.  Use `GridSearchCV` to perform hyperparameter tuning with 5-fold cross validation for your KNN model. Score your models according to accuracy. Tune over the `n_neighbors` parameter, considering the following hyperparameter values: **16, 18, 20, 22, 24**\n",
        "\n",
        "Print the best hyperparameter value found by grid search, as well as the best score found. Add text to indicate the meaning of these values in the output."
      ],
      "metadata": {
        "id": "o3pIBb_3VyVq"
      },
      "id": "o3pIBb_3VyVq"
    },
    {
      "cell_type": "code",
      "source": [
        "knn_mod = KNeighborsClassifier()\n",
        "\n",
        "knn_params = {\n",
        "    'n_neighbors' : range(16, 26, 2)\n",
        "}\n",
        "\n",
        "knn_grid = GridSearchCV(knn_mod, knn_params, cv=5, n_jobs=-1)\n",
        "knn_grid.fit(X, y)\n",
        "\n",
        "print('Best Parameters:', knn_grid.best_params_)\n",
        "print('Best CV Score:  ', knn_grid.best_score_)"
      ],
      "metadata": {
        "id": "VwVeyyvTuO5a",
        "colab": {
          "base_uri": "https://localhost:8080/"
        },
        "outputId": "91efcb5c-9b98-4961-feac-bcadcf337a69"
      },
      "id": "VwVeyyvTuO5a",
      "execution_count": null,
      "outputs": [
        {
          "output_type": "stream",
          "name": "stdout",
          "text": [
            "Best Parameters: {'n_neighbors': 16}\n",
            "Best CV Score:   0.9835380835380836\n"
          ]
        }
      ]
    },
    {
      "cell_type": "markdown",
      "source": [
        "## 2.C - Visualizing Results\n",
        "\n",
        "Replace the blank in line 1 of this cell with the name of your parameter dictionary from 2.B. Replace the blank in line 2 with the name of your `GridSearchCV` object from 2.B. Then execute this cell to see how the CV scores varied with respect to the hyperparameter values. Use this graph to determine if you should re-run the previous cell with a different range of hyperparameter values."
      ],
      "metadata": {
        "id": "pxMNqlP6WUzq"
      },
      "id": "pxMNqlP6WUzq"
    },
    {
      "cell_type": "code",
      "execution_count": null,
      "id": "1ad6b85d-fe64-46c1-8302-873c3f75a20e",
      "metadata": {
        "id": "1ad6b85d-fe64-46c1-8302-873c3f75a20e",
        "colab": {
          "base_uri": "https://localhost:8080/",
          "height": 54
        },
        "outputId": "874b6a4d-88af-4bb3-b43c-d43eaa734aa1"
      },
      "outputs": [
        {
          "output_type": "display_data",
          "data": {
            "text/plain": [
              "<Figure size 400x200 with 1 Axes>"
            ],
            "image/png": "[encoded data removed]"
          },
          "metadata": {}
        }
      ],
      "source": [
        "n_neighbors = knn_params['n_neighbors']\n",
        "scores = knn_grid.cv_results_['mean_test_score']\n",
        "\n",
        "plt.figure(figsize=[4,2])\n",
        "plt.plot(n_neighbors, scores)\n",
        "plt.xlabel('n_neighbors')\n",
        "plt.ylabel('CV Score')\n",
        "plt.grid()\n",
        "plt.show()"
      ]
    },
    {
      "cell_type": "markdown",
      "source": [
        "## 2.D - Hyperparameter Tuning for Decision Trees\n",
        "\n",
        "Create an instance of `DecisionTreeClassifer` with `random_state=1` but specifying no other parameter values.  Use `GridSearchCV` to perform hyperparameter tuning with 5-fold cross validation for your decision tree model. Score your models according to accuracy. Tune over the `max_depth` parameter, considering the following hyperparameter values: **4, 8, 12, 16, 20, 24**.\n",
        "\n",
        "Print the best hyperparameter value found by grid search, as well as the best score found. Print additional text to indicate the meaning of these values in the output."
      ],
      "metadata": {
        "id": "cDpHb3p8W3ok"
      },
      "id": "cDpHb3p8W3ok"
    },
    {
      "cell_type": "code",
      "execution_count": null,
      "id": "4cc65641-7569-4baa-ab57-b0f77fac3b1e",
      "metadata": {
        "id": "4cc65641-7569-4baa-ab57-b0f77fac3b1e",
        "colab": {
          "base_uri": "https://localhost:8080/"
        },
        "outputId": "2bf4fe3c-3ebe-4941-b729-acc2739e72c5"
      },
      "outputs": [
        {
          "output_type": "stream",
          "name": "stdout",
          "text": [
            "Best Parameters: {'max_depth': 4}\n",
            "Best CV Score:   1.0\n"
          ]
        }
      ],
      "source": [
        "tree_mod = DecisionTreeClassifier(random_state=1)\n",
        "\n",
        "tree_params = {\n",
        "    'max_depth': [4, 8, 12, 16, 20, 24],\n",
        "}\n",
        "\n",
        "tree_grid = GridSearchCV(tree_mod, tree_params, cv=5, n_jobs=-1)\n",
        "tree_grid.fit(X, y)\n",
        "\n",
        "print('Best Parameters:', tree_grid.best_params_)\n",
        "print('Best CV Score:  ', tree_grid.best_score_)"
      ]
    },
    {
      "cell_type": "markdown",
      "source": [
        "## 2.E - Visualizing Results\n",
        "\n",
        "Replace the blank in line 1 of this cell with the name of your parameter dictionary from 2.D. Replace the blank in line 2 with the name of your `GridSearchCV` object from 2.D. Then execute this cell to see how the CV scores varied with respect to the hyperparameter values. Use this graph to determine if you should re-run the previous cell with a different range of hyperparameter values."
      ],
      "metadata": {
        "id": "0fwtU3FtYHVp"
      },
      "id": "0fwtU3FtYHVp"
    },
    {
      "cell_type": "code",
      "execution_count": null,
      "id": "d2df09c0-0eee-4620-a2bf-5b1f8a3c589a",
      "metadata": {
        "id": "d2df09c0-0eee-4620-a2bf-5b1f8a3c589a",
        "colab": {
          "base_uri": "https://localhost:8080/",
          "height": 234
        },
        "outputId": "7afa0d85-bf97-4afd-aa70-54dc07f4b8ae"
      },
      "outputs": [
        {
          "output_type": "display_data",
          "data": {
            "text/plain": [
              "<Figure size 400x200 with 1 Axes>"
            ],
            "image/png": "[encoded data removed]"
          },
          "metadata": {}
        }
      ],
      "source": [
        "# 2.E\n",
        "max_depth = tree_params['max_depth']\n",
        "scores = tree_grid.cv_results_['mean_test_score']\n",
        "\n",
        "plt.figure(figsize=[4,2])\n",
        "plt.plot(max_depth, scores)\n",
        "plt.xlabel('max_depth')\n",
        "plt.ylabel('CV Score')\n",
        "plt.grid()\n",
        "plt.show()"
      ]
    },
    {
      "cell_type": "markdown",
      "source": [
        "## 2.F - Hyperparameter Tuning for Random Forests\n",
        "\n",
        "Create an instance of `RandomForestClassifer` with `random_state=1` and `n_estimators=100` but specifying no other parameter values.  Use `GridSearchCV` to perform hyperparameter tuning with 5-fold cross validation for your random forest model. Score your models according to accuracy. Tune over the `max_depth` parameter, considering the following hyperparameter values: **12, 16, 20, 24, 28**.\n",
        "\n",
        "Print the best hyperparameter value found by grid search, as well as the best score found. Print additional text to indicate the meaning of these values in the output.\n"
      ],
      "metadata": {
        "id": "SfDLmyBUYWc1"
      },
      "id": "SfDLmyBUYWc1"
    },
    {
      "cell_type": "code",
      "execution_count": null,
      "id": "eb9081a8-d9ae-495c-81f4-1238e77fa928",
      "metadata": {
        "id": "eb9081a8-d9ae-495c-81f4-1238e77fa928",
        "colab": {
          "base_uri": "https://localhost:8080/"
        },
        "outputId": "4f4e2fbe-e950-4904-fabc-276aec4be370"
      },
      "outputs": [
        {
          "output_type": "stream",
          "name": "stdout",
          "text": [
            "Best Parameters: {'max_depth': 12}\n",
            "Best CV Score:   1.0\n"
          ]
        }
      ],
      "source": [
        "forest_mod = RandomForestClassifier(random_state=1, n_estimators=100)\n",
        "\n",
        "forest_params = {\n",
        "    'max_depth': [12, 16, 20, 24, 28],\n",
        "}\n",
        "\n",
        "forest_grid = GridSearchCV(forest_mod, forest_params, cv=5, n_jobs=-1)\n",
        "forest_grid.fit(X, y)\n",
        "\n",
        "print('Best Parameters:', forest_grid.best_params_)\n",
        "print('Best CV Score:  ', forest_grid.best_score_)"
      ]
    },
    {
      "cell_type": "markdown",
      "source": [
        "## 2.G - Visualizing Results\n",
        "\n",
        "Replace the blank in line 1 of this cell with the name of your parameter dictionary from 2.F. Replace the blank in line 2 with the name of your `GridSearchCV` object from 2.F. Then execute this cell to see how the CV scores varied with respect to the hyperparameter values. Use this graph to determine if you should re-run the previous cell with a different range of hyperparameter values."
      ],
      "metadata": {
        "id": "98-_N6orYtyO"
      },
      "id": "98-_N6orYtyO"
    },
    {
      "cell_type": "code",
      "execution_count": null,
      "id": "85c3aeaa-8360-480d-b827-c840c5917895",
      "metadata": {
        "id": "85c3aeaa-8360-480d-b827-c840c5917895",
        "colab": {
          "base_uri": "https://localhost:8080/",
          "height": 54
        },
        "outputId": "4f6e9e16-9f19-4ea5-aaf9-0cf9256cfdd0"
      },
      "outputs": [
        {
          "output_type": "display_data",
          "data": {
            "text/plain": [
              "<Figure size 400x200 with 1 Axes>"
            ],
            "image/png": "[encoded data removed]"
          },
          "metadata": {}
        }
      ],
      "source": [
        "max_depth = forest_params['max_depth']\n",
        "scores = forest_grid.cv_results_['mean_test_score']\n",
        "\n",
        "plt.figure(figsize=[4,2])\n",
        "plt.plot(max_depth, scores)\n",
        "plt.xlabel('max_depth')\n",
        "plt.ylabel('CV Score')\n",
        "plt.grid()\n",
        "plt.show()"
      ]
    },
    {
      "cell_type": "markdown",
      "source": [
        "## 2.H - Classification Report\n",
        "\n",
        "Identify which of the models from above gave you the best results. Then use that model with `cross_val_predict()` with `cv=5` to generate out-of-sample predictions for the dataset. Use these predictions with `classification_report()` to generate a classification report."
      ],
      "metadata": {
        "id": "pMXZSAL9ZH96"
      },
      "id": "pMXZSAL9ZH96"
    },
    {
      "cell_type": "code",
      "execution_count": null,
      "id": "07304d8e-0158-416e-8e32-a48f717bdb9d",
      "metadata": {
        "id": "07304d8e-0158-416e-8e32-a48f717bdb9d",
        "colab": {
          "base_uri": "https://localhost:8080/"
        },
        "outputId": "1bc22edf-b8bd-48d0-d32a-81ee4107460f"
      },
      "outputs": [
        {
          "output_type": "stream",
          "name": "stdout",
          "text": [
            "              precision    recall  f1-score   support\n",
            "\n",
            "       <=50K       1.00      1.00      1.00     12322\n",
            "        >50K       1.00      1.00      1.00      3958\n",
            "\n",
            "    accuracy                           1.00     16280\n",
            "   macro avg       1.00      1.00      1.00     16280\n",
            "weighted avg       1.00      1.00      1.00     16280\n",
            "\n"
          ]
        }
      ],
      "source": [
        "final_model = forest_grid.best_estimator_\n",
        "\n",
        "cv_pred = cross_val_predict(final_model, X, y, cv=5, n_jobs=-1)\n",
        "\n",
        "print(classification_report(y, cv_pred))"
      ]
    },
    {
      "cell_type": "markdown",
      "source": [
        "## 2.I - Confusion Matrix\n",
        "\n",
        "Use your out-of-sample predictions with `confusion_matrix()` to generate a confusion matrix. Display the confusion matrix as a DataFrame, with the rows and columns labeled according to the actual class names."
      ],
      "metadata": {
        "id": "wHXUzjvtZR82"
      },
      "id": "wHXUzjvtZR82"
    },
    {
      "cell_type": "code",
      "execution_count": null,
      "id": "eec17f51-b824-4eb9-997d-cce1010e6731",
      "metadata": {
        "id": "eec17f51-b824-4eb9-997d-cce1010e6731",
        "colab": {
          "base_uri": "https://localhost:8080/",
          "height": 132
        },
        "outputId": "07e34722-3ea0-4cda-bac0-c016cf3f078a"
      },
      "outputs": [
        {
          "output_type": "execute_result",
          "data": {
            "text/plain": [
              "       0     1\n",
              "0  12322     0\n",
              "1      0  3958"
            ],
            "text/html": [
              "\n",
              "  <div id=\"df-14d485ce-2014-4fef-bfce-dba3372257f1\" class=\"colab-df-container\">\n",
              "    <div>\n",
              "<style scoped>\n",
              "    .dataframe tbody tr th:only-of-type {\n",
              "        vertical-align: middle;\n",
              "    }\n",
              "\n",
              "    .dataframe tbody tr th {\n",
              "        vertical-align: top;\n",
              "    }\n",
              "\n",
              "    .dataframe thead th {\n",
              "        text-align: right;\n",
              "    }\n",
              "</style>\n",
              "<table border=\"1\" class=\"dataframe\">\n",
              "  <thead>\n",
              "    <tr style=\"text-align: right;\">\n",
              "      <th></th>\n",
              "      <th>0</th>\n",
              "      <th>1</th>\n",
              "    </tr>\n",
              "  </thead>\n",
              "  <tbody>\n",
              "    <tr>\n",
              "      <th>0</th>\n",
              "      <td>12322</td>\n",
              "      <td>0</td>\n",
              "    </tr>\n",
              "    <tr>\n",
              "      <th>1</th>\n",
              "      <td>0</td>\n",
              "      <td>3958</td>\n",
              "    </tr>\n",
              "  </tbody>\n",
              "</table>\n",
              "</div>\n",
              "    <div class=\"colab-df-buttons\">\n",
              "\n",
              "  <div class=\"colab-df-container\">\n",
              "    <button class=\"colab-df-convert\" onclick=\"convertToInteractive('df-14d485ce-2014-4fef-bfce-dba3372257f1')\"\n",
              "            title=\"Convert this dataframe to an interactive table.\"\n",
              "            style=\"display:none;\">\n",
              "\n",
              "  <svg xmlns=\"http://www.w3.org/2000/svg\" height=\"24px\" viewBox=\"0 -960 960 960\">\n",
              "    <path d=\"M120-120v-720h720v720H120Zm60-500h600v-160H180v160Zm220 220h160v-160H400v160Zm0 220h160v-160H400v160ZM180-400h160v-160H180v160Zm440 0h160v-160H620v160ZM180-180h160v-160H180v160Zm440 0h160v-160H620v160Z\"/>\n",
              "  </svg>\n",
              "    </button>\n",
              "\n",
              "  <style>\n",
              "    .colab-df-container {\n",
              "      display:flex;\n",
              "      gap: 12px;\n",
              "    }\n",
              "\n",
              "    .colab-df-convert {\n",
              "      background-color: #E8F0FE;\n",
              "      border: none;\n",
              "      border-radius: 50%;\n",
              "      cursor: pointer;\n",
              "      display: none;\n",
              "      fill: #1967D2;\n",
              "      height: 32px;\n",
              "      padding: 0 0 0 0;\n",
              "      width: 32px;\n",
              "    }\n",
              "\n",
              "    .colab-df-convert:hover {\n",
              "      background-color: #E2EBFA;\n",
              "      box-shadow: 0px 1px 2px rgba(60, 64, 67, 0.3), 0px 1px 3px 1px rgba(60, 64, 67, 0.15);\n",
              "      fill: #174EA6;\n",
              "    }\n",
              "\n",
              "    .colab-df-buttons div {\n",
              "      margin-bottom: 4px;\n",
              "    }\n",
              "\n",
              "    [theme=dark] .colab-df-convert {\n",
              "      background-color: #3B4455;\n",
              "      fill: #D2E3FC;\n",
              "    }\n",
              "\n",
              "    [theme=dark] .colab-df-convert:hover {\n",
              "      background-color: #434B5C;\n",
              "      box-shadow: 0px 1px 3px 1px rgba(0, 0, 0, 0.15);\n",
              "      filter: drop-shadow(0px 1px 2px rgba(0, 0, 0, 0.3));\n",
              "      fill: #FFFFFF;\n",
              "    }\n",
              "  </style>\n",
              "\n",
              "    <script>\n",
              "      const buttonEl =\n",
              "        document.querySelector('#df-14d485ce-2014-4fef-bfce-dba3372257f1 button.colab-df-convert');\n",
              "      buttonEl.style.display =\n",
              "        google.colab.kernel.accessAllowed ? 'block' : 'none';\n",
              "\n",
              "      async function convertToInteractive(key) {\n",
              "        const element = document.querySelector('#df-14d485ce-2014-4fef-bfce-dba3372257f1');\n",
              "        const dataTable =\n",
              "          await google.colab.kernel.invokeFunction('convertToInteractive',\n",
              "                                                    [key], {});\n",
              "        if (!dataTable) return;\n",
              "\n",
              "        const docLinkHtml = 'Like what you see? Visit the ' +\n",
              "          '<a target=\"_blank\" href=https://colab.research.google.com/notebooks/data_table.ipynb>data table notebook</a>'\n",
              "          + ' to learn more about interactive tables.';\n",
              "        element.innerHTML = '';\n",
              "        dataTable['output_type'] = 'display_data';\n",
              "        await google.colab.output.renderOutput(dataTable, element);\n",
              "        const docLink = document.createElement('div');\n",
              "        docLink.innerHTML = docLinkHtml;\n",
              "        element.appendChild(docLink);\n",
              "      }\n",
              "    </script>\n",
              "  </div>\n",
              "\n",
              "\n",
              "<div id=\"df-220004b5-94fc-4a47-b93c-75ffac7e2952\">\n",
              "  <button class=\"colab-df-quickchart\" onclick=\"quickchart('df-220004b5-94fc-4a47-b93c-75ffac7e2952')\"\n",
              "            title=\"Suggest charts\"\n",
              "            style=\"display:none;\">\n",
              "\n",
              "<svg xmlns=\"http://www.w3.org/2000/svg\" height=\"24px\"viewBox=\"0 0 24 24\"\n",
              "     width=\"24px\">\n",
              "    <g>\n",
              "        <path d=\"M19 3H5c-1.1 0-2 .9-2 2v14c0 1.1.9 2 2 2h14c1.1 0 2-.9 2-2V5c0-1.1-.9-2-2-2zM9 17H7v-7h2v7zm4 0h-2V7h2v10zm4 0h-2v-4h2v4z\"/>\n",
              "    </g>\n",
              "</svg>\n",
              "  </button>\n",
              "\n",
              "<style>\n",
              "  .colab-df-quickchart {\n",
              "      --bg-color: #E8F0FE;\n",
              "      --fill-color: #1967D2;\n",
              "      --hover-bg-color: #E2EBFA;\n",
              "      --hover-fill-color: #174EA6;\n",
              "      --disabled-fill-color: #AAA;\n",
              "      --disabled-bg-color: #DDD;\n",
              "  }\n",
              "\n",
              "  [theme=dark] .colab-df-quickchart {\n",
              "      --bg-color: #3B4455;\n",
              "      --fill-color: #D2E3FC;\n",
              "      --hover-bg-color: #434B5C;\n",
              "      --hover-fill-color: #FFFFFF;\n",
              "      --disabled-bg-color: #3B4455;\n",
              "      --disabled-fill-color: #666;\n",
              "  }\n",
              "\n",
              "  .colab-df-quickchart {\n",
              "    background-color: var(--bg-color);\n",
              "    border: none;\n",
              "    border-radius: 50%;\n",
              "    cursor: pointer;\n",
              "    display: none;\n",
              "    fill: var(--fill-color);\n",
              "    height: 32px;\n",
              "    padding: 0;\n",
              "    width: 32px;\n",
              "  }\n",
              "\n",
              "  .colab-df-quickchart:hover {\n",
              "    background-color: var(--hover-bg-color);\n",
              "    box-shadow: 0 1px 2px rgba(60, 64, 67, 0.3), 0 1px 3px 1px rgba(60, 64, 67, 0.15);\n",
              "    fill: var(--button-hover-fill-color);\n",
              "  }\n",
              "\n",
              "  .colab-df-quickchart-complete:disabled,\n",
              "  .colab-df-quickchart-complete:disabled:hover {\n",
              "    background-color: var(--disabled-bg-color);\n",
              "    fill: var(--disabled-fill-color);\n",
              "    box-shadow: none;\n",
              "  }\n",
              "\n",
              "  .colab-df-spinner {\n",
              "    border: 2px solid var(--fill-color);\n",
              "    border-color: transparent;\n",
              "    border-bottom-color: var(--fill-color);\n",
              "    animation:\n",
              "      spin 1s steps(1) infinite;\n",
              "  }\n",
              "\n",
              "  @keyframes spin {\n",
              "    0% {\n",
              "      border-color: transparent;\n",
              "      border-bottom-color: var(--fill-color);\n",
              "      border-left-color: var(--fill-color);\n",
              "    }\n",
              "    20% {\n",
              "      border-color: transparent;\n",
              "      border-left-color: var(--fill-color);\n",
              "      border-top-color: var(--fill-color);\n",
              "    }\n",
              "    30% {\n",
              "      border-color: transparent;\n",
              "      border-left-color: var(--fill-color);\n",
              "      border-top-color: var(--fill-color);\n",
              "      border-right-color: var(--fill-color);\n",
              "    }\n",
              "    40% {\n",
              "      border-color: transparent;\n",
              "      border-right-color: var(--fill-color);\n",
              "      border-top-color: var(--fill-color);\n",
              "    }\n",
              "    60% {\n",
              "      border-color: transparent;\n",
              "      border-right-color: var(--fill-color);\n",
              "    }\n",
              "    80% {\n",
              "      border-color: transparent;\n",
              "      border-right-color: var(--fill-color);\n",
              "      border-bottom-color: var(--fill-color);\n",
              "    }\n",
              "    90% {\n",
              "      border-color: transparent;\n",
              "      border-bottom-color: var(--fill-color);\n",
              "    }\n",
              "  }\n",
              "</style>\n",
              "\n",
              "  <script>\n",
              "    async function quickchart(key) {\n",
              "      const quickchartButtonEl =\n",
              "        document.querySelector('#' + key + ' button');\n",
              "      quickchartButtonEl.disabled = true;  // To prevent multiple clicks.\n",
              "      quickchartButtonEl.classList.add('colab-df-spinner');\n",
              "      try {\n",
              "        const charts = await google.colab.kernel.invokeFunction(\n",
              "            'suggestCharts', [key], {});\n",
              "      } catch (error) {\n",
              "        console.error('Error during call to suggestCharts:', error);\n",
              "      }\n",
              "      quickchartButtonEl.classList.remove('colab-df-spinner');\n",
              "      quickchartButtonEl.classList.add('colab-df-quickchart-complete');\n",
              "    }\n",
              "    (() => {\n",
              "      let quickchartButtonEl =\n",
              "        document.querySelector('#df-220004b5-94fc-4a47-b93c-75ffac7e2952 button');\n",
              "      quickchartButtonEl.style.display =\n",
              "        google.colab.kernel.accessAllowed ? 'block' : 'none';\n",
              "    })();\n",
              "  </script>\n",
              "</div>\n",
              "\n",
              "    </div>\n",
              "  </div>\n"
            ],
            "application/vnd.google.colaboratory.intrinsic+json": {
              "type": "dataframe",
              "summary": "{\n  \"name\": \"pd\",\n  \"rows\": 2,\n  \"fields\": [\n    {\n      \"column\": 0,\n      \"properties\": {\n        \"dtype\": \"number\",\n        \"std\": 8712,\n        \"min\": 0,\n        \"max\": 12322,\n        \"num_unique_values\": 2,\n        \"samples\": [\n          0,\n          12322\n        ],\n        \"semantic_type\": \"\",\n        \"description\": \"\"\n      }\n    },\n    {\n      \"column\": 1,\n      \"properties\": {\n        \"dtype\": \"number\",\n        \"std\": 2798,\n        \"min\": 0,\n        \"max\": 3958,\n        \"num_unique_values\": 2,\n        \"samples\": [\n          3958,\n          0\n        ],\n        \"semantic_type\": \"\",\n        \"description\": \"\"\n      }\n    }\n  ]\n}"
            }
          },
          "metadata": {},
          "execution_count": 16
        }
      ],
      "source": [
        "cm = confusion_matrix(y, cv_pred)\n",
        "pd.DataFrame(cm)"
      ]
    },
    {
      "cell_type": "markdown",
      "id": "38e2fcf5-fa3e-41a9-83a8-ffc4b65c11b1",
      "metadata": {
        "id": "38e2fcf5-fa3e-41a9-83a8-ffc4b65c11b1"
      },
      "source": [
        "# Part 3: Data Preparation (Forest Cover Data)\n",
        "\n",
        "\n",
        "In Parts 3 and 4, you will be working with the \"Forest Cover\" dataset. In Part 3, you will prepare the data and in Part 4, you will select, train, and apply a model.\n",
        "\n",
        "Your goal will be to create a model to predict the forest cover type for patches of land in Colorado wilderness areas based on various cartographic information. You can find more information about the dataset, including a description of the features here: [Forest Cover Type Prediction](https://www.kaggle.com/c/forest-cover-type-prediction).\n",
        "\n",
        "Note that the label values are stored in the `Cover_Type` column and have been integer encoded. All other columns represent features. The `Wilderness_Area` and `Soil_Type` columns represent categorical features. The  `Soil_Type` has been integer encoded, but should still be considered to be categorical. All other columns represent numerical features.\n"
      ]
    },
    {
      "cell_type": "markdown",
      "source": [
        "## 3.A - Load the Data\n",
        "\n",
        "Load the data from the file `data/forest_cover.csv` into a DataFrame. Use the `sample()` method to shuffle the data, setting `random_state=1`. Display the head of the DataFrame."
      ],
      "metadata": {
        "id": "Fb9pdJP8UIWr"
      },
      "id": "Fb9pdJP8UIWr"
    },
    {
      "cell_type": "code",
      "execution_count": null,
      "id": "b960d81f-020d-42ab-854f-32c1e0a52508",
      "metadata": {
        "id": "b960d81f-020d-42ab-854f-32c1e0a52508",
        "colab": {
          "base_uri": "https://localhost:8080/",
          "height": 226
        },
        "outputId": "0b7a3cf7-5b38-4e84-fd37-5a27d90d847b"
      },
      "outputs": [
        {
          "output_type": "execute_result",
          "data": {
            "text/plain": [
              "   Elevation  Aspect  Slope  Horizontal_Distance_To_Hydrology  \\\n",
              "0       2596      51      3                               258   \n",
              "1       2590      56      2                               212   \n",
              "2       2804     139      9                               268   \n",
              "3       2785     155     18                               242   \n",
              "4       2595      45      2                               153   \n",
              "\n",
              "   Vertical_Distance_To_Hydrology  Horizontal_Distance_To_Roadways  \\\n",
              "0                               0                              510   \n",
              "1                              -6                              390   \n",
              "2                              65                             3180   \n",
              "3                             118                             3090   \n",
              "4                              -1                              391   \n",
              "\n",
              "   Hillshade_9am  Hillshade_Noon  Hillshade_3pm  \\\n",
              "0            221             232            148   \n",
              "1            220             235            151   \n",
              "2            234             238            135   \n",
              "3            238             238            122   \n",
              "4            220             234            150   \n",
              "\n",
              "   Horizontal_Distance_To_Fire_Points Wilderness_Area  Soil_Type  Cover_Type  \n",
              "0                                6279           Rawah         29           5  \n",
              "1                                6225           Rawah         29           5  \n",
              "2                                6121           Rawah         12           2  \n",
              "3                                6211           Rawah         30           2  \n",
              "4                                6172           Rawah         29           5  "
            ],
            "text/html": [
              "\n",
              "  <div id=\"df-a5b43e74-9087-4c5d-8049-c4077f03434d\" class=\"colab-df-container\">\n",
              "    <div>\n",
              "<style scoped>\n",
              "    .dataframe tbody tr th:only-of-type {\n",
              "        vertical-align: middle;\n",
              "    }\n",
              "\n",
              "    .dataframe tbody tr th {\n",
              "        vertical-align: top;\n",
              "    }\n",
              "\n",
              "    .dataframe thead th {\n",
              "        text-align: right;\n",
              "    }\n",
              "</style>\n",
              "<table border=\"1\" class=\"dataframe\">\n",
              "  <thead>\n",
              "    <tr style=\"text-align: right;\">\n",
              "      <th></th>\n",
              "      <th>Elevation</th>\n",
              "      <th>Aspect</th>\n",
              "      <th>Slope</th>\n",
              "      <th>Horizontal_Distance_To_Hydrology</th>\n",
              "      <th>Vertical_Distance_To_Hydrology</th>\n",
              "      <th>Horizontal_Distance_To_Roadways</th>\n",
              "      <th>Hillshade_9am</th>\n",
              "      <th>Hillshade_Noon</th>\n",
              "      <th>Hillshade_3pm</th>\n",
              "      <th>Horizontal_Distance_To_Fire_Points</th>\n",
              "      <th>Wilderness_Area</th>\n",
              "      <th>Soil_Type</th>\n",
              "      <th>Cover_Type</th>\n",
              "    </tr>\n",
              "  </thead>\n",
              "  <tbody>\n",
              "    <tr>\n",
              "      <th>0</th>\n",
              "      <td>2596</td>\n",
              "      <td>51</td>\n",
              "      <td>3</td>\n",
              "      <td>258</td>\n",
              "      <td>0</td>\n",
              "      <td>510</td>\n",
              "      <td>221</td>\n",
              "      <td>232</td>\n",
              "      <td>148</td>\n",
              "      <td>6279</td>\n",
              "      <td>Rawah</td>\n",
              "      <td>29</td>\n",
              "      <td>5</td>\n",
              "    </tr>\n",
              "    <tr>\n",
              "      <th>1</th>\n",
              "      <td>2590</td>\n",
              "      <td>56</td>\n",
              "      <td>2</td>\n",
              "      <td>212</td>\n",
              "      <td>-6</td>\n",
              "      <td>390</td>\n",
              "      <td>220</td>\n",
              "      <td>235</td>\n",
              "      <td>151</td>\n",
              "      <td>6225</td>\n",
              "      <td>Rawah</td>\n",
              "      <td>29</td>\n",
              "      <td>5</td>\n",
              "    </tr>\n",
              "    <tr>\n",
              "      <th>2</th>\n",
              "      <td>2804</td>\n",
              "      <td>139</td>\n",
              "      <td>9</td>\n",
              "      <td>268</td>\n",
              "      <td>65</td>\n",
              "      <td>3180</td>\n",
              "      <td>234</td>\n",
              "      <td>238</td>\n",
              "      <td>135</td>\n",
              "      <td>6121</td>\n",
              "      <td>Rawah</td>\n",
              "      <td>12</td>\n",
              "      <td>2</td>\n",
              "    </tr>\n",
              "    <tr>\n",
              "      <th>3</th>\n",
              "      <td>2785</td>\n",
              "      <td>155</td>\n",
              "      <td>18</td>\n",
              "      <td>242</td>\n",
              "      <td>118</td>\n",
              "      <td>3090</td>\n",
              "      <td>238</td>\n",
              "      <td>238</td>\n",
              "      <td>122</td>\n",
              "      <td>6211</td>\n",
              "      <td>Rawah</td>\n",
              "      <td>30</td>\n",
              "      <td>2</td>\n",
              "    </tr>\n",
              "    <tr>\n",
              "      <th>4</th>\n",
              "      <td>2595</td>\n",
              "      <td>45</td>\n",
              "      <td>2</td>\n",
              "      <td>153</td>\n",
              "      <td>-1</td>\n",
              "      <td>391</td>\n",
              "      <td>220</td>\n",
              "      <td>234</td>\n",
              "      <td>150</td>\n",
              "      <td>6172</td>\n",
              "      <td>Rawah</td>\n",
              "      <td>29</td>\n",
              "      <td>5</td>\n",
              "    </tr>\n",
              "  </tbody>\n",
              "</table>\n",
              "</div>\n",
              "    <div class=\"colab-df-buttons\">\n",
              "\n",
              "  <div class=\"colab-df-container\">\n",
              "    <button class=\"colab-df-convert\" onclick=\"convertToInteractive('df-a5b43e74-9087-4c5d-8049-c4077f03434d')\"\n",
              "            title=\"Convert this dataframe to an interactive table.\"\n",
              "            style=\"display:none;\">\n",
              "\n",
              "  <svg xmlns=\"http://www.w3.org/2000/svg\" height=\"24px\" viewBox=\"0 -960 960 960\">\n",
              "    <path d=\"M120-120v-720h720v720H120Zm60-500h600v-160H180v160Zm220 220h160v-160H400v160Zm0 220h160v-160H400v160ZM180-400h160v-160H180v160Zm440 0h160v-160H620v160ZM180-180h160v-160H180v160Zm440 0h160v-160H620v160Z\"/>\n",
              "  </svg>\n",
              "    </button>\n",
              "\n",
              "  <style>\n",
              "    .colab-df-container {\n",
              "      display:flex;\n",
              "      gap: 12px;\n",
              "    }\n",
              "\n",
              "    .colab-df-convert {\n",
              "      background-color: #E8F0FE;\n",
              "      border: none;\n",
              "      border-radius: 50%;\n",
              "      cursor: pointer;\n",
              "      display: none;\n",
              "      fill: #1967D2;\n",
              "      height: 32px;\n",
              "      padding: 0 0 0 0;\n",
              "      width: 32px;\n",
              "    }\n",
              "\n",
              "    .colab-df-convert:hover {\n",
              "      background-color: #E2EBFA;\n",
              "      box-shadow: 0px 1px 2px rgba(60, 64, 67, 0.3), 0px 1px 3px 1px rgba(60, 64, 67, 0.15);\n",
              "      fill: #174EA6;\n",
              "    }\n",
              "\n",
              "    .colab-df-buttons div {\n",
              "      margin-bottom: 4px;\n",
              "    }\n",
              "\n",
              "    [theme=dark] .colab-df-convert {\n",
              "      background-color: #3B4455;\n",
              "      fill: #D2E3FC;\n",
              "    }\n",
              "\n",
              "    [theme=dark] .colab-df-convert:hover {\n",
              "      background-color: #434B5C;\n",
              "      box-shadow: 0px 1px 3px 1px rgba(0, 0, 0, 0.15);\n",
              "      filter: drop-shadow(0px 1px 2px rgba(0, 0, 0, 0.3));\n",
              "      fill: #FFFFFF;\n",
              "    }\n",
              "  </style>\n",
              "\n",
              "    <script>\n",
              "      const buttonEl =\n",
              "        document.querySelector('#df-a5b43e74-9087-4c5d-8049-c4077f03434d button.colab-df-convert');\n",
              "      buttonEl.style.display =\n",
              "        google.colab.kernel.accessAllowed ? 'block' : 'none';\n",
              "\n",
              "      async function convertToInteractive(key) {\n",
              "        const element = document.querySelector('#df-a5b43e74-9087-4c5d-8049-c4077f03434d');\n",
              "        const dataTable =\n",
              "          await google.colab.kernel.invokeFunction('convertToInteractive',\n",
              "                                                    [key], {});\n",
              "        if (!dataTable) return;\n",
              "\n",
              "        const docLinkHtml = 'Like what you see? Visit the ' +\n",
              "          '<a target=\"_blank\" href=https://colab.research.google.com/notebooks/data_table.ipynb>data table notebook</a>'\n",
              "          + ' to learn more about interactive tables.';\n",
              "        element.innerHTML = '';\n",
              "        dataTable['output_type'] = 'display_data';\n",
              "        await google.colab.output.renderOutput(dataTable, element);\n",
              "        const docLink = document.createElement('div');\n",
              "        docLink.innerHTML = docLinkHtml;\n",
              "        element.appendChild(docLink);\n",
              "      }\n",
              "    </script>\n",
              "  </div>\n",
              "\n",
              "\n",
              "<div id=\"df-266bd5f6-2d9b-4882-a771-3a4ed2835c58\">\n",
              "  <button class=\"colab-df-quickchart\" onclick=\"quickchart('df-266bd5f6-2d9b-4882-a771-3a4ed2835c58')\"\n",
              "            title=\"Suggest charts\"\n",
              "            style=\"display:none;\">\n",
              "\n",
              "<svg xmlns=\"http://www.w3.org/2000/svg\" height=\"24px\"viewBox=\"0 0 24 24\"\n",
              "     width=\"24px\">\n",
              "    <g>\n",
              "        <path d=\"M19 3H5c-1.1 0-2 .9-2 2v14c0 1.1.9 2 2 2h14c1.1 0 2-.9 2-2V5c0-1.1-.9-2-2-2zM9 17H7v-7h2v7zm4 0h-2V7h2v10zm4 0h-2v-4h2v4z\"/>\n",
              "    </g>\n",
              "</svg>\n",
              "  </button>\n",
              "\n",
              "<style>\n",
              "  .colab-df-quickchart {\n",
              "      --bg-color: #E8F0FE;\n",
              "      --fill-color: #1967D2;\n",
              "      --hover-bg-color: #E2EBFA;\n",
              "      --hover-fill-color: #174EA6;\n",
              "      --disabled-fill-color: #AAA;\n",
              "      --disabled-bg-color: #DDD;\n",
              "  }\n",
              "\n",
              "  [theme=dark] .colab-df-quickchart {\n",
              "      --bg-color: #3B4455;\n",
              "      --fill-color: #D2E3FC;\n",
              "      --hover-bg-color: #434B5C;\n",
              "      --hover-fill-color: #FFFFFF;\n",
              "      --disabled-bg-color: #3B4455;\n",
              "      --disabled-fill-color: #666;\n",
              "  }\n",
              "\n",
              "  .colab-df-quickchart {\n",
              "    background-color: var(--bg-color);\n",
              "    border: none;\n",
              "    border-radius: 50%;\n",
              "    cursor: pointer;\n",
              "    display: none;\n",
              "    fill: var(--fill-color);\n",
              "    height: 32px;\n",
              "    padding: 0;\n",
              "    width: 32px;\n",
              "  }\n",
              "\n",
              "  .colab-df-quickchart:hover {\n",
              "    background-color: var(--hover-bg-color);\n",
              "    box-shadow: 0 1px 2px rgba(60, 64, 67, 0.3), 0 1px 3px 1px rgba(60, 64, 67, 0.15);\n",
              "    fill: var(--button-hover-fill-color);\n",
              "  }\n",
              "\n",
              "  .colab-df-quickchart-complete:disabled,\n",
              "  .colab-df-quickchart-complete:disabled:hover {\n",
              "    background-color: var(--disabled-bg-color);\n",
              "    fill: var(--disabled-fill-color);\n",
              "    box-shadow: none;\n",
              "  }\n",
              "\n",
              "  .colab-df-spinner {\n",
              "    border: 2px solid var(--fill-color);\n",
              "    border-color: transparent;\n",
              "    border-bottom-color: var(--fill-color);\n",
              "    animation:\n",
              "      spin 1s steps(1) infinite;\n",
              "  }\n",
              "\n",
              "  @keyframes spin {\n",
              "    0% {\n",
              "      border-color: transparent;\n",
              "      border-bottom-color: var(--fill-color);\n",
              "      border-left-color: var(--fill-color);\n",
              "    }\n",
              "    20% {\n",
              "      border-color: transparent;\n",
              "      border-left-color: var(--fill-color);\n",
              "      border-top-color: var(--fill-color);\n",
              "    }\n",
              "    30% {\n",
              "      border-color: transparent;\n",
              "      border-left-color: var(--fill-color);\n",
              "      border-top-color: var(--fill-color);\n",
              "      border-right-color: var(--fill-color);\n",
              "    }\n",
              "    40% {\n",
              "      border-color: transparent;\n",
              "      border-right-color: var(--fill-color);\n",
              "      border-top-color: var(--fill-color);\n",
              "    }\n",
              "    60% {\n",
              "      border-color: transparent;\n",
              "      border-right-color: var(--fill-color);\n",
              "    }\n",
              "    80% {\n",
              "      border-color: transparent;\n",
              "      border-right-color: var(--fill-color);\n",
              "      border-bottom-color: var(--fill-color);\n",
              "    }\n",
              "    90% {\n",
              "      border-color: transparent;\n",
              "      border-bottom-color: var(--fill-color);\n",
              "    }\n",
              "  }\n",
              "</style>\n",
              "\n",
              "  <script>\n",
              "    async function quickchart(key) {\n",
              "      const quickchartButtonEl =\n",
              "        document.querySelector('#' + key + ' button');\n",
              "      quickchartButtonEl.disabled = true;  // To prevent multiple clicks.\n",
              "      quickchartButtonEl.classList.add('colab-df-spinner');\n",
              "      try {\n",
              "        const charts = await google.colab.kernel.invokeFunction(\n",
              "            'suggestCharts', [key], {});\n",
              "      } catch (error) {\n",
              "        console.error('Error during call to suggestCharts:', error);\n",
              "      }\n",
              "      quickchartButtonEl.classList.remove('colab-df-spinner');\n",
              "      quickchartButtonEl.classList.add('colab-df-quickchart-complete');\n",
              "    }\n",
              "    (() => {\n",
              "      let quickchartButtonEl =\n",
              "        document.querySelector('#df-266bd5f6-2d9b-4882-a771-3a4ed2835c58 button');\n",
              "      quickchartButtonEl.style.display =\n",
              "        google.colab.kernel.accessAllowed ? 'block' : 'none';\n",
              "    })();\n",
              "  </script>\n",
              "</div>\n",
              "\n",
              "    </div>\n",
              "  </div>\n"
            ],
            "application/vnd.google.colaboratory.intrinsic+json": {
              "type": "dataframe",
              "variable_name": "df1",
              "summary": "{\n  \"name\": \"df1\",\n  \"rows\": 15120,\n  \"fields\": [\n    {\n      \"column\": \"Elevation\",\n      \"properties\": {\n        \"dtype\": \"number\",\n        \"std\": 417,\n        \"min\": 1863,\n        \"max\": 3849,\n        \"num_unique_values\": 1665,\n        \"samples\": [\n          2073,\n          2320,\n          2905\n        ],\n        \"semantic_type\": \"\",\n        \"description\": \"\"\n      }\n    },\n    {\n      \"column\": \"Aspect\",\n      \"properties\": {\n        \"dtype\": \"number\",\n        \"std\": 110,\n        \"min\": 0,\n        \"max\": 360,\n        \"num_unique_values\": 361,\n        \"samples\": [\n          222,\n          98,\n          0\n        ],\n        \"semantic_type\": \"\",\n        \"description\": \"\"\n      }\n    },\n    {\n      \"column\": \"Slope\",\n      \"properties\": {\n        \"dtype\": \"number\",\n        \"std\": 8,\n        \"min\": 0,\n        \"max\": 52,\n        \"num_unique_values\": 52,\n        \"samples\": [\n          28,\n          49,\n          38\n        ],\n        \"semantic_type\": \"\",\n        \"description\": \"\"\n      }\n    },\n    {\n      \"column\": \"Horizontal_Distance_To_Hydrology\",\n      \"properties\": {\n        \"dtype\": \"number\",\n        \"std\": 210,\n        \"min\": 0,\n        \"max\": 1343,\n        \"num_unique_values\": 400,\n        \"samples\": [\n          745,\n          834,\n          218\n        ],\n        \"semantic_type\": \"\",\n        \"description\": \"\"\n      }\n    },\n    {\n      \"column\": \"Vertical_Distance_To_Hydrology\",\n      \"properties\": {\n        \"dtype\": \"number\",\n        \"std\": 61,\n        \"min\": -146,\n        \"max\": 554,\n        \"num_unique_values\": 423,\n        \"samples\": [\n          186,\n          153,\n          122\n        ],\n        \"semantic_type\": \"\",\n        \"description\": \"\"\n      }\n    },\n    {\n      \"column\": \"Horizontal_Distance_To_Roadways\",\n      \"properties\": {\n        \"dtype\": \"number\",\n        \"std\": 1325,\n        \"min\": 0,\n        \"max\": 6890,\n        \"num_unique_values\": 3250,\n        \"samples\": [\n          2074,\n          3356,\n          4288\n        ],\n        \"semantic_type\": \"\",\n        \"description\": \"\"\n      }\n    },\n    {\n      \"column\": \"Hillshade_9am\",\n      \"properties\": {\n        \"dtype\": \"number\",\n        \"std\": 30,\n        \"min\": 0,\n        \"max\": 254,\n        \"num_unique_values\": 176,\n        \"samples\": [\n          240,\n          244,\n          125\n        ],\n        \"semantic_type\": \"\",\n        \"description\": \"\"\n      }\n    },\n    {\n      \"column\": \"Hillshade_Noon\",\n      \"properties\": {\n        \"dtype\": \"number\",\n        \"std\": 22,\n        \"min\": 99,\n        \"max\": 254,\n        \"num_unique_values\": 141,\n        \"samples\": [\n          193,\n          155,\n          198\n        ],\n        \"semantic_type\": \"\",\n        \"description\": \"\"\n      }\n    },\n    {\n      \"column\": \"Hillshade_3pm\",\n      \"properties\": {\n        \"dtype\": \"number\",\n        \"std\": 45,\n        \"min\": 0,\n        \"max\": 248,\n        \"num_unique_values\": 247,\n        \"samples\": [\n          158,\n          138,\n          57\n        ],\n        \"semantic_type\": \"\",\n        \"description\": \"\"\n      }\n    },\n    {\n      \"column\": \"Horizontal_Distance_To_Fire_Points\",\n      \"properties\": {\n        \"dtype\": \"number\",\n        \"std\": 1099,\n        \"min\": 0,\n        \"max\": 6993,\n        \"num_unique_values\": 2710,\n        \"samples\": [\n          3962,\n          5485,\n          1290\n        ],\n        \"semantic_type\": \"\",\n        \"description\": \"\"\n      }\n    },\n    {\n      \"column\": \"Wilderness_Area\",\n      \"properties\": {\n        \"dtype\": \"category\",\n        \"num_unique_values\": 4,\n        \"samples\": [\n          \"Comanche Peak\",\n          \"Neota\",\n          \"Rawah\"\n        ],\n        \"semantic_type\": \"\",\n        \"description\": \"\"\n      }\n    },\n    {\n      \"column\": \"Soil_Type\",\n      \"properties\": {\n        \"dtype\": \"number\",\n        \"std\": 12,\n        \"min\": 1,\n        \"max\": 40,\n        \"num_unique_values\": 38,\n        \"samples\": [\n          36,\n          27,\n          16\n        ],\n        \"semantic_type\": \"\",\n        \"description\": \"\"\n      }\n    },\n    {\n      \"column\": \"Cover_Type\",\n      \"properties\": {\n        \"dtype\": \"number\",\n        \"std\": 2,\n        \"min\": 1,\n        \"max\": 7,\n        \"num_unique_values\": 7,\n        \"samples\": [\n          5,\n          2,\n          6\n        ],\n        \"semantic_type\": \"\",\n        \"description\": \"\"\n      }\n    }\n  ]\n}"
            }
          },
          "metadata": {},
          "execution_count": 17
        }
      ],
      "source": [
        "df1 = pd.read_csv('data/forest_cover.csv')\n",
        "df1.sample(random_state = 1)\n",
        "df1.head()"
      ]
    },
    {
      "cell_type": "markdown",
      "source": [
        "## 3.B - Label Distribution\n",
        "\n",
        "Create a label array and use `value_counts()` to display the distribution of the label values as proportions."
      ],
      "metadata": {
        "id": "EvwE5OB7UyRP"
      },
      "id": "EvwE5OB7UyRP"
    },
    {
      "cell_type": "code",
      "execution_count": null,
      "id": "a3e99fa9-f525-4cac-adee-fa98e7ced0c5",
      "metadata": {
        "id": "a3e99fa9-f525-4cac-adee-fa98e7ced0c5",
        "colab": {
          "base_uri": "https://localhost:8080/"
        },
        "outputId": "ff621889-7284-43e9-c6e8-206419e5232f"
      },
      "outputs": [
        {
          "output_type": "execute_result",
          "data": {
            "text/plain": [
              "5    0.142857\n",
              "2    0.142857\n",
              "1    0.142857\n",
              "7    0.142857\n",
              "3    0.142857\n",
              "6    0.142857\n",
              "4    0.142857\n",
              "Name: Cover_Type, dtype: float64"
            ]
          },
          "metadata": {},
          "execution_count": 18
        }
      ],
      "source": [
        "df1.Cover_Type.value_counts(normalize = True)"
      ]
    },
    {
      "cell_type": "markdown",
      "source": [
        "## 3.C - Grouping Features\n",
        "\n",
        "Create lists containing the names of the numerical and categorical features. Print these lists along with messages indicating which features are numerical and which are categorical."
      ],
      "metadata": {
        "id": "UBGgn232U49W"
      },
      "id": "UBGgn232U49W"
    },
    {
      "cell_type": "code",
      "execution_count": null,
      "id": "5c036901-eb0a-405c-ae1b-ca2bf4264308",
      "metadata": {
        "id": "5c036901-eb0a-405c-ae1b-ca2bf4264308",
        "colab": {
          "base_uri": "https://localhost:8080/"
        },
        "outputId": "17168a33-2af3-4d1b-bdf0-3d5672431dcb"
      },
      "outputs": [
        {
          "output_type": "stream",
          "name": "stdout",
          "text": [
            "These are the numerical features: ['Elevation', 'Aspect', 'Slope', 'Horizontal_Distance_To_Hydrology', 'Vertical_Distance_To_Hydrology', 'Horizontal_Distance_To_Roadways', 'Hillshade_9am', 'Hillshade_Noon', 'Hillshade_3pm', 'Horizontal_Distance_To_Fire_Points']\n",
            "\n",
            "These are the categorical features: ['Wilderness_Area', 'Soil_Type']\n"
          ]
        }
      ],
      "source": [
        "X = df1.drop('Cover_Type', axis=1)\n",
        "y = df1['Cover_Type']\n",
        "\n",
        "numerical_features = X.drop(columns=['Wilderness_Area', 'Soil_Type']).columns.tolist()\n",
        "categorical_features = ['Wilderness_Area', 'Soil_Type']\n",
        "\n",
        "print(f\"These are the numerical features: {numerical_features}\")\n",
        "print()\n",
        "print(f\"These are the categorical features: {categorical_features}\")"
      ]
    },
    {
      "cell_type": "markdown",
      "source": [
        "## 3.D - Counting Levels\n",
        "\n",
        "Determine the number of levels for each categorical feature. Display the results my printing a message of the following form for each feature:\n",
        "\n",
        "    [feature] has [num_levels] levels.\n",
        "\n",
        "The bracketed expressions should be replaced with the appropriate values."
      ],
      "metadata": {
        "id": "T_gFqd7-U7_z"
      },
      "id": "T_gFqd7-U7_z"
    },
    {
      "cell_type": "code",
      "execution_count": null,
      "id": "4811de7f-18fa-48fa-b8b3-ea4d6c07a918",
      "metadata": {
        "id": "4811de7f-18fa-48fa-b8b3-ea4d6c07a918",
        "colab": {
          "base_uri": "https://localhost:8080/"
        },
        "outputId": "b5d0a555-8ff2-431a-8001-21dc44745df0"
      },
      "outputs": [
        {
          "output_type": "stream",
          "name": "stdout",
          "text": [
            "Wilderness_Area has 4 levels.\n",
            "Soil_Type has 38 levels.\n"
          ]
        }
      ],
      "source": [
        "for c in categorical_features:\n",
        "    print(f'{c} has {len(df1[c].unique())} levels.')"
      ]
    },
    {
      "cell_type": "markdown",
      "source": [
        "## 3.E - Data Preprocessing\n",
        "\n",
        "Create instances of `StandardScaler` and `OneHotEncoder`, and then use them to create an instance of `ColumnTransformer`, applying each preprocessing object to the appropriate columns. Then fit and apply your `ColumnTransformer` to the DataFrame containing your training data. Store the resulting feature array in a variable.\n",
        "\n",
        "**Use the preprocessed features when training, evaluating, or applying models in Part 4.**"
      ],
      "metadata": {
        "id": "l6F3sr37VL_1"
      },
      "id": "l6F3sr37VL_1"
    },
    {
      "cell_type": "code",
      "execution_count": null,
      "id": "c3379436-ac71-48c3-ad1b-821d5d69a2e9",
      "metadata": {
        "id": "c3379436-ac71-48c3-ad1b-821d5d69a2e9",
        "colab": {
          "base_uri": "https://localhost:8080/"
        },
        "outputId": "c28bfc42-8ddc-4707-8170-59a1e71f04e2"
      },
      "outputs": [
        {
          "output_type": "stream",
          "name": "stdout",
          "text": [
            "(15120, 52)\n"
          ]
        }
      ],
      "source": [
        "scaler = StandardScaler()\n",
        "encoder = OneHotEncoder()\n",
        "\n",
        "preprocessor1 = ColumnTransformer(\n",
        "    transformers = [\n",
        "        ('sca', scaler, numerical_features),\n",
        "        ('enc', encoder, categorical_features)\n",
        "    ]\n",
        ")\n",
        "\n",
        "X = preprocessor1.fit_transform(df1)\n",
        "print(X.shape)"
      ]
    },
    {
      "cell_type": "markdown",
      "id": "40e9841d-d9b5-48ac-b050-ce569e306af6",
      "metadata": {
        "id": "40e9841d-d9b5-48ac-b050-ce569e306af6"
      },
      "source": [
        "# Part 4: Selecting and Applying a Model (Forest Cover Data)"
      ]
    },
    {
      "cell_type": "markdown",
      "source": [
        "## 4.A - Cross Validation for Logistic Regression\n",
        "\n",
        "Create an instance of `LogisticRegression`. Use `cross_value_score()` to estimate the model's out-of-sample\n",
        "performance on the dataset. Use 5-fold CV with accuracy as the metric. Print the scores for each fold, as well as mean score. Round all scores to 3 decimal places."
      ],
      "metadata": {
        "id": "-sKqpV1_V80k"
      },
      "id": "-sKqpV1_V80k"
    },
    {
      "cell_type": "code",
      "execution_count": null,
      "id": "43ca6b1b-a93d-44b8-b467-25cf9c015925",
      "metadata": {
        "id": "43ca6b1b-a93d-44b8-b467-25cf9c015925",
        "colab": {
          "base_uri": "https://localhost:8080/"
        },
        "outputId": "7496e2a2-9586-4a61-d7f8-f194f003a745"
      },
      "outputs": [
        {
          "output_type": "stream",
          "name": "stdout",
          "text": [
            "Scores: [0.591 0.597 0.666 0.676 0.714]\n",
            "CV Score: 0.649\n"
          ]
        }
      ],
      "source": [
        "lr_mod = LogisticRegression()\n",
        "\n",
        "scores = cross_val_score(lr_mod, X, y, cv=5, scoring='accuracy', n_jobs=-1)\n",
        "print('Scores:', scores.round(3))\n",
        "print('CV Score:', scores.mean().round(3))"
      ]
    },
    {
      "cell_type": "markdown",
      "source": [
        "## 4.B - Hyperparameter Tuning for KNN\n",
        "\n",
        "Create an instance of `KNeighborsClassifier` specifying no parameter values.  Use `GridSearchCV` to perform hyperparameter tuning with 5-fold cross validation for your KNN model. Score your models according to accuracy. Tune over the `n_neighbors` parameter, considering the following hyperparameter values: **1, 2, 3, 4, 5**\n",
        "\n",
        "Print the best hyperparameter value found by grid search, as well as the best score found. Print additional text to indicate the meaning of these values in the output."
      ],
      "metadata": {
        "id": "OqpDRDAzWA7A"
      },
      "id": "OqpDRDAzWA7A"
    },
    {
      "cell_type": "code",
      "execution_count": null,
      "id": "ece786d0-14a8-4012-a4fc-bb042557cc3a",
      "metadata": {
        "id": "ece786d0-14a8-4012-a4fc-bb042557cc3a",
        "colab": {
          "base_uri": "https://localhost:8080/"
        },
        "outputId": "d78ceed2-1b1c-4982-8199-8a0eab4a51a6"
      },
      "outputs": [
        {
          "output_type": "stream",
          "name": "stdout",
          "text": [
            "Best Parameters: {'n_neighbors': 1}\n",
            "Best CV Score:   0.7240079365079366\n"
          ]
        }
      ],
      "source": [
        "knn_mod = KNeighborsClassifier()\n",
        "\n",
        "knn_params = {\n",
        "    'n_neighbors' : [1, 2, 3, 4, 5]\n",
        "}\n",
        "\n",
        "knn_grid = GridSearchCV(knn_mod, knn_params, cv=5, n_jobs=-1)\n",
        "knn_grid.fit(X, y)\n",
        "\n",
        "print('Best Parameters:', knn_grid.best_params_)\n",
        "print('Best CV Score:  ', knn_grid.best_score_)"
      ]
    },
    {
      "cell_type": "markdown",
      "source": [
        "## 4.C - Visualizing Results\n",
        "\n",
        "Replace the blank in line 1 of this cell with the name of your parameter dictionary from 4.B. Replace the blank in line 2 with the name of your `GridSearchCV` object from 4.B. Then execute this cell to see how the CV scores varied with respect to the hyperparameter values. Use this graph to determine if you should re-run the previous cell with a different range of hyperparameter values."
      ],
      "metadata": {
        "id": "paa9mXi1Wlrx"
      },
      "id": "paa9mXi1Wlrx"
    },
    {
      "cell_type": "code",
      "execution_count": null,
      "id": "83c41d7e-d386-498c-adc4-340c9e56b1d7",
      "metadata": {
        "id": "83c41d7e-d386-498c-adc4-340c9e56b1d7",
        "colab": {
          "base_uri": "https://localhost:8080/",
          "height": 54
        },
        "outputId": "1449c340-cc0a-4537-87cc-5ce5944e2b34"
      },
      "outputs": [
        {
          "output_type": "display_data",
          "data": {
            "text/plain": [
              "<Figure size 400x200 with 1 Axes>"
            ],
            "image/png": "[encoded data removed]"
          },
          "metadata": {}
        }
      ],
      "source": [
        "# 4.C\n",
        "n_neighbors = knn_params['n_neighbors']\n",
        "scores = knn_grid.cv_results_['mean_test_score']\n",
        "\n",
        "plt.figure(figsize=[4,2])\n",
        "plt.plot(n_neighbors, scores)\n",
        "plt.xlabel('n_neighbors')\n",
        "plt.ylabel('CV Score')\n",
        "plt.grid()\n",
        "plt.show()"
      ]
    },
    {
      "cell_type": "markdown",
      "source": [
        "## 4.D - Hyperparameter Tuning for Decision Trees\n",
        "\n",
        "Create an instance of `DecisionTreeClassifer` with `random_state=1` but specifying no other parameter values.  Use `GridSearchCV` to perform hyperparameter tuning with 5-fold cross validation for your decision tree model. Score your models according to accuracy. Tune over the `max_depth` parameter, considering the following hyperparameter values: **4, 8, 12, 16, 20, 24**.\n",
        "\n",
        "Print the best hyperparameter value found by grid search, as well as the best score found. Print additional text to indicate the meaning of these values in the output."
      ],
      "metadata": {
        "id": "-6rdsXrZX__t"
      },
      "id": "-6rdsXrZX__t"
    },
    {
      "cell_type": "code",
      "execution_count": null,
      "id": "2e990e1c-9541-46f1-bfeb-cc88d580163c",
      "metadata": {
        "id": "2e990e1c-9541-46f1-bfeb-cc88d580163c",
        "colab": {
          "base_uri": "https://localhost:8080/"
        },
        "outputId": "adf71cd1-7d8a-4b88-e047-9be94a443b29"
      },
      "outputs": [
        {
          "output_type": "stream",
          "name": "stdout",
          "text": [
            "Best Parameters: {'max_depth': 20}\n",
            "Best CV Score:   0.7090608465608466\n"
          ]
        }
      ],
      "source": [
        "tree_mod = DecisionTreeClassifier(random_state=1)\n",
        "\n",
        "tree_params = {\n",
        "    'max_depth': [4,8, 12, 16, 20, 24],\n",
        "}\n",
        "\n",
        "tree_grid = GridSearchCV(tree_mod, tree_params, cv=5, n_jobs=-1)\n",
        "tree_grid.fit(X, y)\n",
        "\n",
        "print('Best Parameters:', tree_grid.best_params_)\n",
        "print('Best CV Score:  ', tree_grid.best_score_)"
      ]
    },
    {
      "cell_type": "markdown",
      "source": [
        "## 4.E - Visualizing Results\n",
        "\n",
        "Replace the blank in line 1 of this cell with the name of your parameter dictionary from 4.D. Replace the blank in line 2 with the name of your `GridSearchCV` object from 4.D. Then execute this cell to see how the CV scores varied with respect to the hyperparameter values. Use this graph to determine if you should re-run the previous cell with a different range of hyperparameter values."
      ],
      "metadata": {
        "id": "HHo0368rYKuj"
      },
      "id": "HHo0368rYKuj"
    },
    {
      "cell_type": "code",
      "execution_count": null,
      "id": "a937e00c-cdd4-42f4-ada0-dfa53e1d321d",
      "metadata": {
        "id": "a937e00c-cdd4-42f4-ada0-dfa53e1d321d",
        "colab": {
          "base_uri": "https://localhost:8080/",
          "height": 234
        },
        "outputId": "da9404b9-9fd9-4099-b723-6b361004c41a"
      },
      "outputs": [
        {
          "output_type": "display_data",
          "data": {
            "text/plain": [
              "<Figure size 400x200 with 1 Axes>"
            ],
            "image/png": "[encoded data removed]"
          },
          "metadata": {}
        }
      ],
      "source": [
        "# 4.E\n",
        "max_depth = tree_params['max_depth']\n",
        "scores = tree_grid.cv_results_['mean_test_score']\n",
        "\n",
        "plt.figure(figsize=[4,2])\n",
        "plt.plot(max_depth, scores)\n",
        "plt.xlabel('max_depth')\n",
        "plt.ylabel('CV Score')\n",
        "plt.grid()\n",
        "plt.show()"
      ]
    },
    {
      "cell_type": "markdown",
      "source": [
        "## 4.F - Hyperparameter Tuning for Random Forests\n",
        "\n",
        "Create an instance of `RandomForestClassifer` with `random_state=1` and `n_estimators=100` but specifying no other parameter values.  Use `GridSearchCV` to perform hyperparameter tuning with 5-fold cross validation for your random forest model. Score your models according to accuracy. Tune over the `max_depth` parameter, considering the following hyperparameter values: **24, 30, 36, 42, 48**.\n",
        "\n",
        "Print the best hyperparameter value found by grid search, as well as the best score found. Print additional text to indicate the meaning of these values in the output.\n"
      ],
      "metadata": {
        "id": "kTrBl_62YlWd"
      },
      "id": "kTrBl_62YlWd"
    },
    {
      "cell_type": "code",
      "execution_count": null,
      "id": "987414bf-7376-4212-a779-fb27d50d2c7c",
      "metadata": {
        "id": "987414bf-7376-4212-a779-fb27d50d2c7c",
        "colab": {
          "base_uri": "https://localhost:8080/"
        },
        "outputId": "3159ab98-1afd-4b69-f86b-8af1baa33cd8"
      },
      "outputs": [
        {
          "output_type": "stream",
          "name": "stdout",
          "text": [
            "Best Parameters: {'max_depth': 36}\n",
            "Best CV Score:   0.7822751322751322\n"
          ]
        }
      ],
      "source": [
        "forest_mod = RandomForestClassifier(random_state=1, n_estimators=100)\n",
        "\n",
        "forest_params = {\n",
        "    'max_depth': [24, 30, 36, 42, 48],\n",
        "}\n",
        "\n",
        "forest_grid = GridSearchCV(forest_mod, forest_params, cv=5, n_jobs=-1)\n",
        "forest_grid.fit(X, y)\n",
        "\n",
        "print('Best Parameters:', forest_grid.best_params_)\n",
        "print('Best CV Score:  ', forest_grid.best_score_)"
      ]
    },
    {
      "cell_type": "markdown",
      "source": [
        "## 4.G - Visualizing Results\n",
        "\n",
        "Replace the blank in line 1 of this cell with the name of your parameter dictionary from 4.F. Replace the blank in line 2 with the name of your `GridSearchCV` object from 4.F. Then execute this cell to see how the CV scores varied with respect to the hyperparameter values. Use this graph to determine if you should re-run the previous cell with a different range of hyperparameter values."
      ],
      "metadata": {
        "id": "HVCH9IA7YyeB"
      },
      "id": "HVCH9IA7YyeB"
    },
    {
      "cell_type": "code",
      "execution_count": null,
      "id": "41f31dd7-a048-4bff-a3d4-832ff0930be0",
      "metadata": {
        "id": "41f31dd7-a048-4bff-a3d4-832ff0930be0",
        "colab": {
          "base_uri": "https://localhost:8080/",
          "height": 54
        },
        "outputId": "d1c82c84-d2f6-4983-dee4-abbdedfe9302"
      },
      "outputs": [
        {
          "output_type": "display_data",
          "data": {
            "text/plain": [
              "<Figure size 400x200 with 1 Axes>"
            ],
            "image/png": "[encoded data removed]"
          },
          "metadata": {}
        }
      ],
      "source": [
        "# 4.G\n",
        "max_depth = forest_params['max_depth']\n",
        "scores = forest_grid.cv_results_['mean_test_score']\n",
        "\n",
        "plt.figure(figsize=[4,2])\n",
        "plt.plot(max_depth, scores)\n",
        "plt.xlabel('max_depth')\n",
        "plt.ylabel('CV Score')\n",
        "plt.grid()\n",
        "plt.show()"
      ]
    },
    {
      "cell_type": "markdown",
      "source": [
        "## 4.H - Classification Report\n",
        "\n",
        "Identify which of the models from above gave you the best results. Then use that model with `cross_val_predict()` with `cv=5` to generate out-of-sample predictions for the dataset. Use these predictions with `classification_report()` to generate a classification report."
      ],
      "metadata": {
        "id": "v5Y0BArLZOvT"
      },
      "id": "v5Y0BArLZOvT"
    },
    {
      "cell_type": "code",
      "execution_count": null,
      "id": "4c7d8bfa-5e4e-4346-8c7f-2dca19711e6f",
      "metadata": {
        "id": "4c7d8bfa-5e4e-4346-8c7f-2dca19711e6f",
        "colab": {
          "base_uri": "https://localhost:8080/"
        },
        "outputId": "ae948c02-89df-4882-dba6-5ef45c3b7142"
      },
      "outputs": [
        {
          "output_type": "stream",
          "name": "stdout",
          "text": [
            "              precision    recall  f1-score   support\n",
            "\n",
            "           1       0.65      0.65      0.65      2160\n",
            "           2       0.62      0.60      0.61      2160\n",
            "           3       0.77      0.73      0.75      2160\n",
            "           4       0.90      0.94      0.92      2160\n",
            "           5       0.85      0.86      0.86      2160\n",
            "           6       0.77      0.79      0.78      2160\n",
            "           7       0.90      0.90      0.90      2160\n",
            "\n",
            "    accuracy                           0.78     15120\n",
            "   macro avg       0.78      0.78      0.78     15120\n",
            "weighted avg       0.78      0.78      0.78     15120\n",
            "\n"
          ]
        }
      ],
      "source": [
        "final_model = forest_grid.best_estimator_\n",
        "\n",
        "cv_pred = cross_val_predict(final_model, X, y, cv=5, n_jobs=-1)\n",
        "\n",
        "print(classification_report(y, cv_pred))"
      ]
    },
    {
      "cell_type": "markdown",
      "source": [
        "## 4.I - Confusion Matrix\n",
        "\n",
        "Use your out-of-sample predictions with `confusion_matrix()` to generate a confusion matrix. Display the confusion matrix as a DataFrame, with the rows and columns labeled according to the actual class names."
      ],
      "metadata": {
        "id": "IOzkuprFZXuH"
      },
      "id": "IOzkuprFZXuH"
    },
    {
      "cell_type": "code",
      "execution_count": null,
      "id": "a87bb41f-cf84-492a-8480-a302a6116ff0",
      "metadata": {
        "id": "a87bb41f-cf84-492a-8480-a302a6116ff0",
        "colab": {
          "base_uri": "https://localhost:8080/",
          "height": 289
        },
        "outputId": "d21a523a-6701-4da1-bc9f-9a6cc712e49b"
      },
      "outputs": [
        {
          "output_type": "execute_result",
          "data": {
            "text/plain": [
              "      0     1     2     3     4     5     6\n",
              "0  1396   512     2     0    44     8   198\n",
              "1   547  1293    45     0   190    69    16\n",
              "2     0    30  1587   149    50   344     0\n",
              "3     0     0    79  2040     0    41     0\n",
              "4     8   188    59     0  1863    42     0\n",
              "5     1    43   290    85    31  1710     0\n",
              "6   202    15     2     0     2     0  1939"
            ],
            "text/html": [
              "\n",
              "  <div id=\"df-5416151c-0c1a-4d6e-a936-761a5345b5a7\" class=\"colab-df-container\">\n",
              "    <div>\n",
              "<style scoped>\n",
              "    .dataframe tbody tr th:only-of-type {\n",
              "        vertical-align: middle;\n",
              "    }\n",
              "\n",
              "    .dataframe tbody tr th {\n",
              "        vertical-align: top;\n",
              "    }\n",
              "\n",
              "    .dataframe thead th {\n",
              "        text-align: right;\n",
              "    }\n",
              "</style>\n",
              "<table border=\"1\" class=\"dataframe\">\n",
              "  <thead>\n",
              "    <tr style=\"text-align: right;\">\n",
              "      <th></th>\n",
              "      <th>0</th>\n",
              "      <th>1</th>\n",
              "      <th>2</th>\n",
              "      <th>3</th>\n",
              "      <th>4</th>\n",
              "      <th>5</th>\n",
              "      <th>6</th>\n",
              "    </tr>\n",
              "  </thead>\n",
              "  <tbody>\n",
              "    <tr>\n",
              "      <th>0</th>\n",
              "      <td>1396</td>\n",
              "      <td>512</td>\n",
              "      <td>2</td>\n",
              "      <td>0</td>\n",
              "      <td>44</td>\n",
              "      <td>8</td>\n",
              "      <td>198</td>\n",
              "    </tr>\n",
              "    <tr>\n",
              "      <th>1</th>\n",
              "      <td>547</td>\n",
              "      <td>1293</td>\n",
              "      <td>45</td>\n",
              "      <td>0</td>\n",
              "      <td>190</td>\n",
              "      <td>69</td>\n",
              "      <td>16</td>\n",
              "    </tr>\n",
              "    <tr>\n",
              "      <th>2</th>\n",
              "      <td>0</td>\n",
              "      <td>30</td>\n",
              "      <td>1587</td>\n",
              "      <td>149</td>\n",
              "      <td>50</td>\n",
              "      <td>344</td>\n",
              "      <td>0</td>\n",
              "    </tr>\n",
              "    <tr>\n",
              "      <th>3</th>\n",
              "      <td>0</td>\n",
              "      <td>0</td>\n",
              "      <td>79</td>\n",
              "      <td>2040</td>\n",
              "      <td>0</td>\n",
              "      <td>41</td>\n",
              "      <td>0</td>\n",
              "    </tr>\n",
              "    <tr>\n",
              "      <th>4</th>\n",
              "      <td>8</td>\n",
              "      <td>188</td>\n",
              "      <td>59</td>\n",
              "      <td>0</td>\n",
              "      <td>1863</td>\n",
              "      <td>42</td>\n",
              "      <td>0</td>\n",
              "    </tr>\n",
              "    <tr>\n",
              "      <th>5</th>\n",
              "      <td>1</td>\n",
              "      <td>43</td>\n",
              "      <td>290</td>\n",
              "      <td>85</td>\n",
              "      <td>31</td>\n",
              "      <td>1710</td>\n",
              "      <td>0</td>\n",
              "    </tr>\n",
              "    <tr>\n",
              "      <th>6</th>\n",
              "      <td>202</td>\n",
              "      <td>15</td>\n",
              "      <td>2</td>\n",
              "      <td>0</td>\n",
              "      <td>2</td>\n",
              "      <td>0</td>\n",
              "      <td>1939</td>\n",
              "    </tr>\n",
              "  </tbody>\n",
              "</table>\n",
              "</div>\n",
              "    <div class=\"colab-df-buttons\">\n",
              "\n",
              "  <div class=\"colab-df-container\">\n",
              "    <button class=\"colab-df-convert\" onclick=\"convertToInteractive('df-5416151c-0c1a-4d6e-a936-761a5345b5a7')\"\n",
              "            title=\"Convert this dataframe to an interactive table.\"\n",
              "            style=\"display:none;\">\n",
              "\n",
              "  <svg xmlns=\"http://www.w3.org/2000/svg\" height=\"24px\" viewBox=\"0 -960 960 960\">\n",
              "    <path d=\"M120-120v-720h720v720H120Zm60-500h600v-160H180v160Zm220 220h160v-160H400v160Zm0 220h160v-160H400v160ZM180-400h160v-160H180v160Zm440 0h160v-160H620v160ZM180-180h160v-160H180v160Zm440 0h160v-160H620v160Z\"/>\n",
              "  </svg>\n",
              "    </button>\n",
              "\n",
              "  <style>\n",
              "    .colab-df-container {\n",
              "      display:flex;\n",
              "      gap: 12px;\n",
              "    }\n",
              "\n",
              "    .colab-df-convert {\n",
              "      background-color: #E8F0FE;\n",
              "      border: none;\n",
              "      border-radius: 50%;\n",
              "      cursor: pointer;\n",
              "      display: none;\n",
              "      fill: #1967D2;\n",
              "      height: 32px;\n",
              "      padding: 0 0 0 0;\n",
              "      width: 32px;\n",
              "    }\n",
              "\n",
              "    .colab-df-convert:hover {\n",
              "      background-color: #E2EBFA;\n",
              "      box-shadow: 0px 1px 2px rgba(60, 64, 67, 0.3), 0px 1px 3px 1px rgba(60, 64, 67, 0.15);\n",
              "      fill: #174EA6;\n",
              "    }\n",
              "\n",
              "    .colab-df-buttons div {\n",
              "      margin-bottom: 4px;\n",
              "    }\n",
              "\n",
              "    [theme=dark] .colab-df-convert {\n",
              "      background-color: #3B4455;\n",
              "      fill: #D2E3FC;\n",
              "    }\n",
              "\n",
              "    [theme=dark] .colab-df-convert:hover {\n",
              "      background-color: #434B5C;\n",
              "      box-shadow: 0px 1px 3px 1px rgba(0, 0, 0, 0.15);\n",
              "      filter: drop-shadow(0px 1px 2px rgba(0, 0, 0, 0.3));\n",
              "      fill: #FFFFFF;\n",
              "    }\n",
              "  </style>\n",
              "\n",
              "    <script>\n",
              "      const buttonEl =\n",
              "        document.querySelector('#df-5416151c-0c1a-4d6e-a936-761a5345b5a7 button.colab-df-convert');\n",
              "      buttonEl.style.display =\n",
              "        google.colab.kernel.accessAllowed ? 'block' : 'none';\n",
              "\n",
              "      async function convertToInteractive(key) {\n",
              "        const element = document.querySelector('#df-5416151c-0c1a-4d6e-a936-761a5345b5a7');\n",
              "        const dataTable =\n",
              "          await google.colab.kernel.invokeFunction('convertToInteractive',\n",
              "                                                    [key], {});\n",
              "        if (!dataTable) return;\n",
              "\n",
              "        const docLinkHtml = 'Like what you see? Visit the ' +\n",
              "          '<a target=\"_blank\" href=https://colab.research.google.com/notebooks/data_table.ipynb>data table notebook</a>'\n",
              "          + ' to learn more about interactive tables.';\n",
              "        element.innerHTML = '';\n",
              "        dataTable['output_type'] = 'display_data';\n",
              "        await google.colab.output.renderOutput(dataTable, element);\n",
              "        const docLink = document.createElement('div');\n",
              "        docLink.innerHTML = docLinkHtml;\n",
              "        element.appendChild(docLink);\n",
              "      }\n",
              "    </script>\n",
              "  </div>\n",
              "\n",
              "\n",
              "<div id=\"df-7aa650c3-ffaf-4170-9f0c-71f721bc6cd7\">\n",
              "  <button class=\"colab-df-quickchart\" onclick=\"quickchart('df-7aa650c3-ffaf-4170-9f0c-71f721bc6cd7')\"\n",
              "            title=\"Suggest charts\"\n",
              "            style=\"display:none;\">\n",
              "\n",
              "<svg xmlns=\"http://www.w3.org/2000/svg\" height=\"24px\"viewBox=\"0 0 24 24\"\n",
              "     width=\"24px\">\n",
              "    <g>\n",
              "        <path d=\"M19 3H5c-1.1 0-2 .9-2 2v14c0 1.1.9 2 2 2h14c1.1 0 2-.9 2-2V5c0-1.1-.9-2-2-2zM9 17H7v-7h2v7zm4 0h-2V7h2v10zm4 0h-2v-4h2v4z\"/>\n",
              "    </g>\n",
              "</svg>\n",
              "  </button>\n",
              "\n",
              "<style>\n",
              "  .colab-df-quickchart {\n",
              "      --bg-color: #E8F0FE;\n",
              "      --fill-color: #1967D2;\n",
              "      --hover-bg-color: #E2EBFA;\n",
              "      --hover-fill-color: #174EA6;\n",
              "      --disabled-fill-color: #AAA;\n",
              "      --disabled-bg-color: #DDD;\n",
              "  }\n",
              "\n",
              "  [theme=dark] .colab-df-quickchart {\n",
              "      --bg-color: #3B4455;\n",
              "      --fill-color: #D2E3FC;\n",
              "      --hover-bg-color: #434B5C;\n",
              "      --hover-fill-color: #FFFFFF;\n",
              "      --disabled-bg-color: #3B4455;\n",
              "      --disabled-fill-color: #666;\n",
              "  }\n",
              "\n",
              "  .colab-df-quickchart {\n",
              "    background-color: var(--bg-color);\n",
              "    border: none;\n",
              "    border-radius: 50%;\n",
              "    cursor: pointer;\n",
              "    display: none;\n",
              "    fill: var(--fill-color);\n",
              "    height: 32px;\n",
              "    padding: 0;\n",
              "    width: 32px;\n",
              "  }\n",
              "\n",
              "  .colab-df-quickchart:hover {\n",
              "    background-color: var(--hover-bg-color);\n",
              "    box-shadow: 0 1px 2px rgba(60, 64, 67, 0.3), 0 1px 3px 1px rgba(60, 64, 67, 0.15);\n",
              "    fill: var(--button-hover-fill-color);\n",
              "  }\n",
              "\n",
              "  .colab-df-quickchart-complete:disabled,\n",
              "  .colab-df-quickchart-complete:disabled:hover {\n",
              "    background-color: var(--disabled-bg-color);\n",
              "    fill: var(--disabled-fill-color);\n",
              "    box-shadow: none;\n",
              "  }\n",
              "\n",
              "  .colab-df-spinner {\n",
              "    border: 2px solid var(--fill-color);\n",
              "    border-color: transparent;\n",
              "    border-bottom-color: var(--fill-color);\n",
              "    animation:\n",
              "      spin 1s steps(1) infinite;\n",
              "  }\n",
              "\n",
              "  @keyframes spin {\n",
              "    0% {\n",
              "      border-color: transparent;\n",
              "      border-bottom-color: var(--fill-color);\n",
              "      border-left-color: var(--fill-color);\n",
              "    }\n",
              "    20% {\n",
              "      border-color: transparent;\n",
              "      border-left-color: var(--fill-color);\n",
              "      border-top-color: var(--fill-color);\n",
              "    }\n",
              "    30% {\n",
              "      border-color: transparent;\n",
              "      border-left-color: var(--fill-color);\n",
              "      border-top-color: var(--fill-color);\n",
              "      border-right-color: var(--fill-color);\n",
              "    }\n",
              "    40% {\n",
              "      border-color: transparent;\n",
              "      border-right-color: var(--fill-color);\n",
              "      border-top-color: var(--fill-color);\n",
              "    }\n",
              "    60% {\n",
              "      border-color: transparent;\n",
              "      border-right-color: var(--fill-color);\n",
              "    }\n",
              "    80% {\n",
              "      border-color: transparent;\n",
              "      border-right-color: var(--fill-color);\n",
              "      border-bottom-color: var(--fill-color);\n",
              "    }\n",
              "    90% {\n",
              "      border-color: transparent;\n",
              "      border-bottom-color: var(--fill-color);\n",
              "    }\n",
              "  }\n",
              "</style>\n",
              "\n",
              "  <script>\n",
              "    async function quickchart(key) {\n",
              "      const quickchartButtonEl =\n",
              "        document.querySelector('#' + key + ' button');\n",
              "      quickchartButtonEl.disabled = true;  // To prevent multiple clicks.\n",
              "      quickchartButtonEl.classList.add('colab-df-spinner');\n",
              "      try {\n",
              "        const charts = await google.colab.kernel.invokeFunction(\n",
              "            'suggestCharts', [key], {});\n",
              "      } catch (error) {\n",
              "        console.error('Error during call to suggestCharts:', error);\n",
              "      }\n",
              "      quickchartButtonEl.classList.remove('colab-df-spinner');\n",
              "      quickchartButtonEl.classList.add('colab-df-quickchart-complete');\n",
              "    }\n",
              "    (() => {\n",
              "      let quickchartButtonEl =\n",
              "        document.querySelector('#df-7aa650c3-ffaf-4170-9f0c-71f721bc6cd7 button');\n",
              "      quickchartButtonEl.style.display =\n",
              "        google.colab.kernel.accessAllowed ? 'block' : 'none';\n",
              "    })();\n",
              "  </script>\n",
              "</div>\n",
              "\n",
              "    </div>\n",
              "  </div>\n"
            ],
            "application/vnd.google.colaboratory.intrinsic+json": {
              "type": "dataframe",
              "summary": "{\n  \"name\": \"pd\",\n  \"rows\": 7,\n  \"fields\": [\n    {\n      \"column\": 0,\n      \"properties\": {\n        \"dtype\": \"number\",\n        \"std\": 520,\n        \"min\": 0,\n        \"max\": 1396,\n        \"num_unique_values\": 6,\n        \"samples\": [\n          1396,\n          547,\n          202\n        ],\n        \"semantic_type\": \"\",\n        \"description\": \"\"\n      }\n    },\n    {\n      \"column\": 1,\n      \"properties\": {\n        \"dtype\": \"number\",\n        \"std\": 474,\n        \"min\": 0,\n        \"max\": 1293,\n        \"num_unique_values\": 7,\n        \"samples\": [\n          512,\n          1293,\n          43\n        ],\n        \"semantic_type\": \"\",\n        \"description\": \"\"\n      }\n    },\n    {\n      \"column\": 2,\n      \"properties\": {\n        \"dtype\": \"number\",\n        \"std\": 578,\n        \"min\": 2,\n        \"max\": 1587,\n        \"num_unique_values\": 6,\n        \"samples\": [\n          2,\n          45,\n          290\n        ],\n        \"semantic_type\": \"\",\n        \"description\": \"\"\n      }\n    },\n    {\n      \"column\": 3,\n      \"properties\": {\n        \"dtype\": \"number\",\n        \"std\": 758,\n        \"min\": 0,\n        \"max\": 2040,\n        \"num_unique_values\": 4,\n        \"samples\": [\n          149,\n          85,\n          0\n        ],\n        \"semantic_type\": \"\",\n        \"description\": \"\"\n      }\n    },\n    {\n      \"column\": 4,\n      \"properties\": {\n        \"dtype\": \"number\",\n        \"std\": 687,\n        \"min\": 0,\n        \"max\": 1863,\n        \"num_unique_values\": 7,\n        \"samples\": [\n          44,\n          190,\n          31\n        ],\n        \"semantic_type\": \"\",\n        \"description\": \"\"\n      }\n    },\n    {\n      \"column\": 5,\n      \"properties\": {\n        \"dtype\": \"number\",\n        \"std\": 625,\n        \"min\": 0,\n        \"max\": 1710,\n        \"num_unique_values\": 7,\n        \"samples\": [\n          8,\n          69,\n          1710\n        ],\n        \"semantic_type\": \"\",\n        \"description\": \"\"\n      }\n    },\n    {\n      \"column\": 6,\n      \"properties\": {\n        \"dtype\": \"number\",\n        \"std\": 723,\n        \"min\": 0,\n        \"max\": 1939,\n        \"num_unique_values\": 4,\n        \"samples\": [\n          16,\n          1939,\n          198\n        ],\n        \"semantic_type\": \"\",\n        \"description\": \"\"\n      }\n    }\n  ]\n}"
            }
          },
          "metadata": {},
          "execution_count": 30
        }
      ],
      "source": [
        "cm = confusion_matrix(y, cv_pred)\n",
        "pd.DataFrame(cm)"
      ]
    },
    {
      "cell_type": "markdown",
      "source": [
        "# Submission Instructions\n",
        "\n",
        "1. Perform a Restart and Run All by clicking **Tools > Restart session and run all**.\n",
        "2. Copy the link to your notebook by clicking **Share > Copy Link**.\n",
        "3. Paste the copied link into the `notebook_url` field in the [Notebook Renderer](https://colab.research.google.com/drive/1CJTipys46ldZxJFwnt7XbdjQUfkmoXeU?usp=sharing) tool and then execute the cell to render the notebook.\n",
        "4. The Notebook Renderer will open up a save file dialog. Save the resulting HTML file yo your local machine.\n",
        "5. Submit the HTML file to Canvas."
      ],
      "metadata": {
        "id": "555TmqJd9QFz"
      },
      "id": "555TmqJd9QFz"
    }
  ],
  "metadata": {
    "kernelspec": {
      "display_name": "Python 3 (ipykernel)",
      "language": "python",
      "name": "python3"
    },
    "language_info": {
      "codemirror_mode": {
        "name": "ipython",
        "version": 3
      },
      "file_extension": ".py",
      "mimetype": "text/x-python",
      "name": "python",
      "nbconvert_exporter": "python",
      "pygments_lexer": "ipython3",
      "version": "3.9.12"
    },
    "colab": {
      "provenance": [],
      "toc_visible": true,
      "include_colab_link": true
    }
  },
  "nbformat": 4,
  "nbformat_minor": 5
}