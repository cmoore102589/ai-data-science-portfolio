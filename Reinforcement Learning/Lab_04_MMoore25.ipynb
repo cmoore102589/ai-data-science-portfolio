{
  "cells": [
    {
      "cell_type": "markdown",
      "metadata": {
        "id": "view-in-github",
        "colab_type": "text"
      },
      "source": [
        "<a href=\"https://colab.research.google.com/github/cmoore102589/ai-data-science-portfolio/blob/main/Reinforcement%20Learning/Lab_04_MMoore25.ipynb\" target=\"_parent\"><img src=\"https://colab.research.google.com/assets/colab-badge.svg\" alt=\"Open In Colab\"/></a>"
      ]
    },
    {
      "cell_type": "markdown",
      "metadata": {
        "id": "olIxvoiunBqF"
      },
      "source": [
        "# COSC-635: Lab 4\n",
        "\n",
        "**Matthew Corley Moore**\n",
        "\n",
        "[PLACEHOLDER_FOR_NOTEBOOK_LINK]\n"
      ]
    },
    {
      "cell_type": "markdown",
      "metadata": {
        "id": "XUzXd0_jn2gT"
      },
      "source": [
        "## Getting Started\n",
        "\n",
        "Follow the instructions below to copy this notebook and to perform some initial setup.\n",
        "\n",
        "1. Copy this notebook by selecting `File > Save a copy in Drive`.\n",
        "2. A new window should open for the copied notebook. Move the new notebook to your course folder in Google Drive by selecting `File > Move` and then selecting the desired folder.\n",
        "3. Update the name of the notebook by removing \"Copy of\" and replacing \"Username\" with your actual username.\n",
        "4. Update the first cell in the notebook by specifying your course number (435 or 635) and by replacing \"Student Name\" with your actual name.\n",
        "5. Do not edit the line that says `PLACEHOLDER_FOR_NOTEBOOK_LINK`. This will be used by the [notebook renderer](https://colab.research.google.com/drive/1CJTipys46ldZxJFwnt7XbdjQUfkmoXeU?usp=sharing) tool to insert a link to your Colab notebook.\n",
        "6. Enable link sharing for your notebook."
      ]
    },
    {
      "cell_type": "markdown",
      "metadata": {
        "id": "2ae0PeIsHTiV"
      },
      "source": [
        "## Preparing the Colab Environment\n",
        "\n",
        "Run the cell below to install gymnasium and to download rltools to the virtual machine. This cell will also download csv files for two datasets used in this lab."
      ]
    },
    {
      "cell_type": "code",
      "execution_count": null,
      "metadata": {
        "id": "GF4uzGjlHQHU"
      },
      "outputs": [],
      "source": [
        "%%capture\n",
        "!pip install gymnasium==0.28.1\n",
        "!rm rltools -r\n",
        "!git clone https://github.com/drbeane/rltools.git\n",
        "!wget -nc https://raw.githubusercontent.com/drbeane/dsci_408/main/data/forest_cover.csv\n",
        "!wget -nc https://github.com/drbeane/datasets/raw/d861b43747ebc7fcd91274e88db0cd7a0827558f/fashion-mnist_train.csv.zip\n",
        "!unzip -n fashion-mnist_train.csv.zip"
      ]
    },
    {
      "cell_type": "markdown",
      "metadata": {
        "id": "qhAK3EnlHfwM"
      },
      "source": [
        "The cell below includes the import statements that you will need for this assignmnet. No other import statements should be added anywhere in the notebook."
      ]
    },
    {
      "cell_type": "code",
      "execution_count": null,
      "metadata": {
        "id": "q6THnr2YGq8S"
      },
      "outputs": [],
      "source": [
        "import pandas as pd\n",
        "import numpy as np\n",
        "import matplotlib.pyplot as plt\n",
        "import time\n",
        "\n",
        "from rltools.nnet import NNet\n",
        "\n",
        "import torch\n",
        "import torch.nn as nn\n",
        "import torch.nn.functional as F"
      ]
    },
    {
      "cell_type": "markdown",
      "metadata": {
        "id": "sU-GdVjfcF_b"
      },
      "source": [
        "## Note on Variable Names\n",
        "\n",
        "You are free to select the variable names for the objects that you create in this notebook. But please make sure that the variable names you select in each part are distinct from those in other parts. An exception to this rule can be made in instances where a particular variable will be used in a single cell, but no where else in the notebook."
      ]
    },
    {
      "cell_type": "markdown",
      "metadata": {
        "id": "cN-ePY5wnfG4"
      },
      "source": [
        "## GPU Acceleration\n",
        "\n",
        "GPU acceleration will be needed for some parts of this assignment. Specifically, you will need to use a GPU to run the code in 3.B in a reasonable amount of time. The rest of the notebook, however, can be run on CPU with no issues.\n",
        "\n",
        "Google Colab provides free GPU access, but this usage is subject to a daily limit. In order to preserve your GPU hours, I would recommend not enabling the GPU until you are ready to run code in 3.B.\n",
        "\n",
        "The GPU can be enabled by going to `Runtime > Change runtime type`. You should have `T4 GPU` selected."
      ]
    },
    {
      "cell_type": "markdown",
      "metadata": {
        "id": "EBkEzZ3JX-gu"
      },
      "source": [
        "# Part 1 - Forest Cover Dataset\n",
        "\n",
        "In Part 1 of this assignment, you will build a simple ANN to create a classification model for the [Forest Cover Dataset](https://www.kaggle.com/competitions/forest-cover-type-prediction)."
      ]
    },
    {
      "cell_type": "markdown",
      "metadata": {
        "id": "8kOpSVkFYS2o"
      },
      "source": [
        "## 1.A - Load the Dataset\n",
        "\n",
        "Use the cell below to load the file `forest_cover.csv` into a Pandas DataFrame. Then use the `sample()` method to shuffle the DataFrame, setting `random_state=1`. Print the shape of the shuffled DataFrame and then display its head."
      ]
    },
    {
      "cell_type": "code",
      "execution_count": null,
      "metadata": {
        "colab": {
          "base_uri": "https://localhost:8080/",
          "height": 244
        },
        "id": "hcw7XSolpAf5",
        "outputId": "7276857a-b495-4e05-fcc4-cfc951d6a3e3"
      },
      "outputs": [
        {
          "output_type": "stream",
          "name": "stdout",
          "text": [
            "(15120, 13)\n"
          ]
        },
        {
          "output_type": "execute_result",
          "data": {
            "text/plain": [
              "       Elevation  Aspect  Slope  Horizontal_Distance_To_Hydrology  \\\n",
              "5765        2489     333     18                               124   \n",
              "11340       2696       4     13                                30   \n",
              "9270        3413     140     17                               134   \n",
              "5710        2874     116     18                               153   \n",
              "1070        3001      57     18                               180   \n",
              "\n",
              "       Vertical_Distance_To_Hydrology  Horizontal_Distance_To_Roadways  \\\n",
              "5765                               39                              458   \n",
              "11340                              10                             2800   \n",
              "9270                                6                             4271   \n",
              "5710                               17                             2379   \n",
              "1070                               28                             4673   \n",
              "\n",
              "       Hillshade_9am  Hillshade_Noon  Hillshade_3pm  \\\n",
              "5765             176             214            176   \n",
              "11340            202             214            148   \n",
              "9270             243             233            113   \n",
              "5710             248             220             94   \n",
              "1070             229             200             97   \n",
              "\n",
              "       Horizontal_Distance_To_Fire_Points  Wilderness_Area  Soil_Type  \\\n",
              "5765                                 1409  Cache la Poudre         10   \n",
              "11340                                6524            Rawah         29   \n",
              "9270                                 4272    Comanche Peak         23   \n",
              "5710                                  564    Comanche Peak         13   \n",
              "1070                                 1864            Rawah         29   \n",
              "\n",
              "       Cover_Type  \n",
              "5765            6  \n",
              "11340           1  \n",
              "9270            7  \n",
              "5710            5  \n",
              "1070            1  "
            ],
            "text/html": [
              "\n",
              "  <div id=\"df-d7fa3537-cb27-41e9-b399-9ed8408f624b\" class=\"colab-df-container\">\n",
              "    <div>\n",
              "<style scoped>\n",
              "    .dataframe tbody tr th:only-of-type {\n",
              "        vertical-align: middle;\n",
              "    }\n",
              "\n",
              "    .dataframe tbody tr th {\n",
              "        vertical-align: top;\n",
              "    }\n",
              "\n",
              "    .dataframe thead th {\n",
              "        text-align: right;\n",
              "    }\n",
              "</style>\n",
              "<table border=\"1\" class=\"dataframe\">\n",
              "  <thead>\n",
              "    <tr style=\"text-align: right;\">\n",
              "      <th></th>\n",
              "      <th>Elevation</th>\n",
              "      <th>Aspect</th>\n",
              "      <th>Slope</th>\n",
              "      <th>Horizontal_Distance_To_Hydrology</th>\n",
              "      <th>Vertical_Distance_To_Hydrology</th>\n",
              "      <th>Horizontal_Distance_To_Roadways</th>\n",
              "      <th>Hillshade_9am</th>\n",
              "      <th>Hillshade_Noon</th>\n",
              "      <th>Hillshade_3pm</th>\n",
              "      <th>Horizontal_Distance_To_Fire_Points</th>\n",
              "      <th>Wilderness_Area</th>\n",
              "      <th>Soil_Type</th>\n",
              "      <th>Cover_Type</th>\n",
              "    </tr>\n",
              "  </thead>\n",
              "  <tbody>\n",
              "    <tr>\n",
              "      <th>5765</th>\n",
              "      <td>2489</td>\n",
              "      <td>333</td>\n",
              "      <td>18</td>\n",
              "      <td>124</td>\n",
              "      <td>39</td>\n",
              "      <td>458</td>\n",
              "      <td>176</td>\n",
              "      <td>214</td>\n",
              "      <td>176</td>\n",
              "      <td>1409</td>\n",
              "      <td>Cache la Poudre</td>\n",
              "      <td>10</td>\n",
              "      <td>6</td>\n",
              "    </tr>\n",
              "    <tr>\n",
              "      <th>11340</th>\n",
              "      <td>2696</td>\n",
              "      <td>4</td>\n",
              "      <td>13</td>\n",
              "      <td>30</td>\n",
              "      <td>10</td>\n",
              "      <td>2800</td>\n",
              "      <td>202</td>\n",
              "      <td>214</td>\n",
              "      <td>148</td>\n",
              "      <td>6524</td>\n",
              "      <td>Rawah</td>\n",
              "      <td>29</td>\n",
              "      <td>1</td>\n",
              "    </tr>\n",
              "    <tr>\n",
              "      <th>9270</th>\n",
              "      <td>3413</td>\n",
              "      <td>140</td>\n",
              "      <td>17</td>\n",
              "      <td>134</td>\n",
              "      <td>6</td>\n",
              "      <td>4271</td>\n",
              "      <td>243</td>\n",
              "      <td>233</td>\n",
              "      <td>113</td>\n",
              "      <td>4272</td>\n",
              "      <td>Comanche Peak</td>\n",
              "      <td>23</td>\n",
              "      <td>7</td>\n",
              "    </tr>\n",
              "    <tr>\n",
              "      <th>5710</th>\n",
              "      <td>2874</td>\n",
              "      <td>116</td>\n",
              "      <td>18</td>\n",
              "      <td>153</td>\n",
              "      <td>17</td>\n",
              "      <td>2379</td>\n",
              "      <td>248</td>\n",
              "      <td>220</td>\n",
              "      <td>94</td>\n",
              "      <td>564</td>\n",
              "      <td>Comanche Peak</td>\n",
              "      <td>13</td>\n",
              "      <td>5</td>\n",
              "    </tr>\n",
              "    <tr>\n",
              "      <th>1070</th>\n",
              "      <td>3001</td>\n",
              "      <td>57</td>\n",
              "      <td>18</td>\n",
              "      <td>180</td>\n",
              "      <td>28</td>\n",
              "      <td>4673</td>\n",
              "      <td>229</td>\n",
              "      <td>200</td>\n",
              "      <td>97</td>\n",
              "      <td>1864</td>\n",
              "      <td>Rawah</td>\n",
              "      <td>29</td>\n",
              "      <td>1</td>\n",
              "    </tr>\n",
              "  </tbody>\n",
              "</table>\n",
              "</div>\n",
              "    <div class=\"colab-df-buttons\">\n",
              "\n",
              "  <div class=\"colab-df-container\">\n",
              "    <button class=\"colab-df-convert\" onclick=\"convertToInteractive('df-d7fa3537-cb27-41e9-b399-9ed8408f624b')\"\n",
              "            title=\"Convert this dataframe to an interactive table.\"\n",
              "            style=\"display:none;\">\n",
              "\n",
              "  <svg xmlns=\"http://www.w3.org/2000/svg\" height=\"24px\" viewBox=\"0 -960 960 960\">\n",
              "    <path d=\"M120-120v-720h720v720H120Zm60-500h600v-160H180v160Zm220 220h160v-160H400v160Zm0 220h160v-160H400v160ZM180-400h160v-160H180v160Zm440 0h160v-160H620v160ZM180-180h160v-160H180v160Zm440 0h160v-160H620v160Z\"/>\n",
              "  </svg>\n",
              "    </button>\n",
              "\n",
              "  <style>\n",
              "    .colab-df-container {\n",
              "      display:flex;\n",
              "      gap: 12px;\n",
              "    }\n",
              "\n",
              "    .colab-df-convert {\n",
              "      background-color: #E8F0FE;\n",
              "      border: none;\n",
              "      border-radius: 50%;\n",
              "      cursor: pointer;\n",
              "      display: none;\n",
              "      fill: #1967D2;\n",
              "      height: 32px;\n",
              "      padding: 0 0 0 0;\n",
              "      width: 32px;\n",
              "    }\n",
              "\n",
              "    .colab-df-convert:hover {\n",
              "      background-color: #E2EBFA;\n",
              "      box-shadow: 0px 1px 2px rgba(60, 64, 67, 0.3), 0px 1px 3px 1px rgba(60, 64, 67, 0.15);\n",
              "      fill: #174EA6;\n",
              "    }\n",
              "\n",
              "    .colab-df-buttons div {\n",
              "      margin-bottom: 4px;\n",
              "    }\n",
              "\n",
              "    [theme=dark] .colab-df-convert {\n",
              "      background-color: #3B4455;\n",
              "      fill: #D2E3FC;\n",
              "    }\n",
              "\n",
              "    [theme=dark] .colab-df-convert:hover {\n",
              "      background-color: #434B5C;\n",
              "      box-shadow: 0px 1px 3px 1px rgba(0, 0, 0, 0.15);\n",
              "      filter: drop-shadow(0px 1px 2px rgba(0, 0, 0, 0.3));\n",
              "      fill: #FFFFFF;\n",
              "    }\n",
              "  </style>\n",
              "\n",
              "    <script>\n",
              "      const buttonEl =\n",
              "        document.querySelector('#df-d7fa3537-cb27-41e9-b399-9ed8408f624b button.colab-df-convert');\n",
              "      buttonEl.style.display =\n",
              "        google.colab.kernel.accessAllowed ? 'block' : 'none';\n",
              "\n",
              "      async function convertToInteractive(key) {\n",
              "        const element = document.querySelector('#df-d7fa3537-cb27-41e9-b399-9ed8408f624b');\n",
              "        const dataTable =\n",
              "          await google.colab.kernel.invokeFunction('convertToInteractive',\n",
              "                                                    [key], {});\n",
              "        if (!dataTable) return;\n",
              "\n",
              "        const docLinkHtml = 'Like what you see? Visit the ' +\n",
              "          '<a target=\"_blank\" href=https://colab.research.google.com/notebooks/data_table.ipynb>data table notebook</a>'\n",
              "          + ' to learn more about interactive tables.';\n",
              "        element.innerHTML = '';\n",
              "        dataTable['output_type'] = 'display_data';\n",
              "        await google.colab.output.renderOutput(dataTable, element);\n",
              "        const docLink = document.createElement('div');\n",
              "        docLink.innerHTML = docLinkHtml;\n",
              "        element.appendChild(docLink);\n",
              "      }\n",
              "    </script>\n",
              "  </div>\n",
              "\n",
              "\n",
              "<div id=\"df-6e62c564-a629-4056-b8c6-34a82b2c5a99\">\n",
              "  <button class=\"colab-df-quickchart\" onclick=\"quickchart('df-6e62c564-a629-4056-b8c6-34a82b2c5a99')\"\n",
              "            title=\"Suggest charts\"\n",
              "            style=\"display:none;\">\n",
              "\n",
              "<svg xmlns=\"http://www.w3.org/2000/svg\" height=\"24px\"viewBox=\"0 0 24 24\"\n",
              "     width=\"24px\">\n",
              "    <g>\n",
              "        <path d=\"M19 3H5c-1.1 0-2 .9-2 2v14c0 1.1.9 2 2 2h14c1.1 0 2-.9 2-2V5c0-1.1-.9-2-2-2zM9 17H7v-7h2v7zm4 0h-2V7h2v10zm4 0h-2v-4h2v4z\"/>\n",
              "    </g>\n",
              "</svg>\n",
              "  </button>\n",
              "\n",
              "<style>\n",
              "  .colab-df-quickchart {\n",
              "      --bg-color: #E8F0FE;\n",
              "      --fill-color: #1967D2;\n",
              "      --hover-bg-color: #E2EBFA;\n",
              "      --hover-fill-color: #174EA6;\n",
              "      --disabled-fill-color: #AAA;\n",
              "      --disabled-bg-color: #DDD;\n",
              "  }\n",
              "\n",
              "  [theme=dark] .colab-df-quickchart {\n",
              "      --bg-color: #3B4455;\n",
              "      --fill-color: #D2E3FC;\n",
              "      --hover-bg-color: #434B5C;\n",
              "      --hover-fill-color: #FFFFFF;\n",
              "      --disabled-bg-color: #3B4455;\n",
              "      --disabled-fill-color: #666;\n",
              "  }\n",
              "\n",
              "  .colab-df-quickchart {\n",
              "    background-color: var(--bg-color);\n",
              "    border: none;\n",
              "    border-radius: 50%;\n",
              "    cursor: pointer;\n",
              "    display: none;\n",
              "    fill: var(--fill-color);\n",
              "    height: 32px;\n",
              "    padding: 0;\n",
              "    width: 32px;\n",
              "  }\n",
              "\n",
              "  .colab-df-quickchart:hover {\n",
              "    background-color: var(--hover-bg-color);\n",
              "    box-shadow: 0 1px 2px rgba(60, 64, 67, 0.3), 0 1px 3px 1px rgba(60, 64, 67, 0.15);\n",
              "    fill: var(--button-hover-fill-color);\n",
              "  }\n",
              "\n",
              "  .colab-df-quickchart-complete:disabled,\n",
              "  .colab-df-quickchart-complete:disabled:hover {\n",
              "    background-color: var(--disabled-bg-color);\n",
              "    fill: var(--disabled-fill-color);\n",
              "    box-shadow: none;\n",
              "  }\n",
              "\n",
              "  .colab-df-spinner {\n",
              "    border: 2px solid var(--fill-color);\n",
              "    border-color: transparent;\n",
              "    border-bottom-color: var(--fill-color);\n",
              "    animation:\n",
              "      spin 1s steps(1) infinite;\n",
              "  }\n",
              "\n",
              "  @keyframes spin {\n",
              "    0% {\n",
              "      border-color: transparent;\n",
              "      border-bottom-color: var(--fill-color);\n",
              "      border-left-color: var(--fill-color);\n",
              "    }\n",
              "    20% {\n",
              "      border-color: transparent;\n",
              "      border-left-color: var(--fill-color);\n",
              "      border-top-color: var(--fill-color);\n",
              "    }\n",
              "    30% {\n",
              "      border-color: transparent;\n",
              "      border-left-color: var(--fill-color);\n",
              "      border-top-color: var(--fill-color);\n",
              "      border-right-color: var(--fill-color);\n",
              "    }\n",
              "    40% {\n",
              "      border-color: transparent;\n",
              "      border-right-color: var(--fill-color);\n",
              "      border-top-color: var(--fill-color);\n",
              "    }\n",
              "    60% {\n",
              "      border-color: transparent;\n",
              "      border-right-color: var(--fill-color);\n",
              "    }\n",
              "    80% {\n",
              "      border-color: transparent;\n",
              "      border-right-color: var(--fill-color);\n",
              "      border-bottom-color: var(--fill-color);\n",
              "    }\n",
              "    90% {\n",
              "      border-color: transparent;\n",
              "      border-bottom-color: var(--fill-color);\n",
              "    }\n",
              "  }\n",
              "</style>\n",
              "\n",
              "  <script>\n",
              "    async function quickchart(key) {\n",
              "      const quickchartButtonEl =\n",
              "        document.querySelector('#' + key + ' button');\n",
              "      quickchartButtonEl.disabled = true;  // To prevent multiple clicks.\n",
              "      quickchartButtonEl.classList.add('colab-df-spinner');\n",
              "      try {\n",
              "        const charts = await google.colab.kernel.invokeFunction(\n",
              "            'suggestCharts', [key], {});\n",
              "      } catch (error) {\n",
              "        console.error('Error during call to suggestCharts:', error);\n",
              "      }\n",
              "      quickchartButtonEl.classList.remove('colab-df-spinner');\n",
              "      quickchartButtonEl.classList.add('colab-df-quickchart-complete');\n",
              "    }\n",
              "    (() => {\n",
              "      let quickchartButtonEl =\n",
              "        document.querySelector('#df-6e62c564-a629-4056-b8c6-34a82b2c5a99 button');\n",
              "      quickchartButtonEl.style.display =\n",
              "        google.colab.kernel.accessAllowed ? 'block' : 'none';\n",
              "    })();\n",
              "  </script>\n",
              "</div>\n",
              "\n",
              "    </div>\n",
              "  </div>\n"
            ],
            "application/vnd.google.colaboratory.intrinsic+json": {
              "type": "dataframe",
              "variable_name": "df",
              "summary": "{\n  \"name\": \"df\",\n  \"rows\": 15120,\n  \"fields\": [\n    {\n      \"column\": \"Elevation\",\n      \"properties\": {\n        \"dtype\": \"number\",\n        \"std\": 417,\n        \"min\": 1863,\n        \"max\": 3849,\n        \"num_unique_values\": 1665,\n        \"samples\": [\n          2397,\n          2056,\n          2877\n        ],\n        \"semantic_type\": \"\",\n        \"description\": \"\"\n      }\n    },\n    {\n      \"column\": \"Aspect\",\n      \"properties\": {\n        \"dtype\": \"number\",\n        \"std\": 110,\n        \"min\": 0,\n        \"max\": 360,\n        \"num_unique_values\": 361,\n        \"samples\": [\n          10,\n          330,\n          299\n        ],\n        \"semantic_type\": \"\",\n        \"description\": \"\"\n      }\n    },\n    {\n      \"column\": \"Slope\",\n      \"properties\": {\n        \"dtype\": \"number\",\n        \"std\": 8,\n        \"min\": 0,\n        \"max\": 52,\n        \"num_unique_values\": 52,\n        \"samples\": [\n          30,\n          34,\n          44\n        ],\n        \"semantic_type\": \"\",\n        \"description\": \"\"\n      }\n    },\n    {\n      \"column\": \"Horizontal_Distance_To_Hydrology\",\n      \"properties\": {\n        \"dtype\": \"number\",\n        \"std\": 210,\n        \"min\": 0,\n        \"max\": 1343,\n        \"num_unique_values\": 400,\n        \"samples\": [\n          510,\n          890,\n          228\n        ],\n        \"semantic_type\": \"\",\n        \"description\": \"\"\n      }\n    },\n    {\n      \"column\": \"Vertical_Distance_To_Hydrology\",\n      \"properties\": {\n        \"dtype\": \"number\",\n        \"std\": 61,\n        \"min\": -146,\n        \"max\": 554,\n        \"num_unique_values\": 423,\n        \"samples\": [\n          62,\n          245,\n          -25\n        ],\n        \"semantic_type\": \"\",\n        \"description\": \"\"\n      }\n    },\n    {\n      \"column\": \"Horizontal_Distance_To_Roadways\",\n      \"properties\": {\n        \"dtype\": \"number\",\n        \"std\": 1325,\n        \"min\": 0,\n        \"max\": 6890,\n        \"num_unique_values\": 3250,\n        \"samples\": [\n          3501,\n          4497,\n          3389\n        ],\n        \"semantic_type\": \"\",\n        \"description\": \"\"\n      }\n    },\n    {\n      \"column\": \"Hillshade_9am\",\n      \"properties\": {\n        \"dtype\": \"number\",\n        \"std\": 30,\n        \"min\": 0,\n        \"max\": 254,\n        \"num_unique_values\": 176,\n        \"samples\": [\n          228,\n          216,\n          115\n        ],\n        \"semantic_type\": \"\",\n        \"description\": \"\"\n      }\n    },\n    {\n      \"column\": \"Hillshade_Noon\",\n      \"properties\": {\n        \"dtype\": \"number\",\n        \"std\": 22,\n        \"min\": 99,\n        \"max\": 254,\n        \"num_unique_values\": 141,\n        \"samples\": [\n          171,\n          176,\n          160\n        ],\n        \"semantic_type\": \"\",\n        \"description\": \"\"\n      }\n    },\n    {\n      \"column\": \"Hillshade_3pm\",\n      \"properties\": {\n        \"dtype\": \"number\",\n        \"std\": 45,\n        \"min\": 0,\n        \"max\": 248,\n        \"num_unique_values\": 247,\n        \"samples\": [\n          177,\n          104,\n          43\n        ],\n        \"semantic_type\": \"\",\n        \"description\": \"\"\n      }\n    },\n    {\n      \"column\": \"Horizontal_Distance_To_Fire_Points\",\n      \"properties\": {\n        \"dtype\": \"number\",\n        \"std\": 1099,\n        \"min\": 0,\n        \"max\": 6993,\n        \"num_unique_values\": 2710,\n        \"samples\": [\n          4734,\n          5745,\n          1339\n        ],\n        \"semantic_type\": \"\",\n        \"description\": \"\"\n      }\n    },\n    {\n      \"column\": \"Wilderness_Area\",\n      \"properties\": {\n        \"dtype\": \"category\",\n        \"num_unique_values\": 4,\n        \"samples\": [\n          \"Rawah\",\n          \"Neota\",\n          \"Cache la Poudre\"\n        ],\n        \"semantic_type\": \"\",\n        \"description\": \"\"\n      }\n    },\n    {\n      \"column\": \"Soil_Type\",\n      \"properties\": {\n        \"dtype\": \"number\",\n        \"std\": 12,\n        \"min\": 1,\n        \"max\": 40,\n        \"num_unique_values\": 38,\n        \"samples\": [\n          37,\n          8,\n          4\n        ],\n        \"semantic_type\": \"\",\n        \"description\": \"\"\n      }\n    },\n    {\n      \"column\": \"Cover_Type\",\n      \"properties\": {\n        \"dtype\": \"number\",\n        \"std\": 2,\n        \"min\": 1,\n        \"max\": 7,\n        \"num_unique_values\": 7,\n        \"samples\": [\n          6,\n          1,\n          4\n        ],\n        \"semantic_type\": \"\",\n        \"description\": \"\"\n      }\n    }\n  ]\n}"
            }
          },
          "metadata": {},
          "execution_count": 3
        }
      ],
      "source": [
        "df = pd.read_csv('forest_cover.csv')\n",
        "df = df.sample(frac = 1,random_state=1)\n",
        "print(df.shape)\n",
        "df.head()"
      ]
    },
    {
      "cell_type": "markdown",
      "metadata": {
        "id": "MbO065sPZAsR"
      },
      "source": [
        "## 1.B - Create Feature and Label Arrays\n",
        "\n",
        "This dataset contains 10 numerical features, two categorical features, and a single label. The first 10 columns of the dataset represent the numerical features. The next two columns, named `Wilderness_Area` and `Soil_Type`, represent the categorical features. The final column, `Cover_Type`, provides the integer-encoded labels. We will ignore the categorical features for this assignment.\n",
        "\n",
        "In the cell below, create a feature array and a label array. The feature array should contains only the 10 numerical features.\n",
        "\n",
        "The labels are encoded using integers 1 - 7, but they need to be encoded using integers 0 - 6. When creating the label array, please subtract 1 from all of the label values.\n",
        "\n",
        "After creating the two arrays, print the shape of each array.\n"
      ]
    },
    {
      "cell_type": "code",
      "execution_count": null,
      "metadata": {
        "colab": {
          "base_uri": "https://localhost:8080/"
        },
        "id": "pi-VxIXupAda",
        "outputId": "82fb8fc8-8220-4cd5-bdfe-cb26e3a2898d"
      },
      "outputs": [
        {
          "output_type": "stream",
          "name": "stdout",
          "text": [
            "Shape of the feautre array: (15120, 10)\n",
            "Shape of the label array: (15120,)\n"
          ]
        }
      ],
      "source": [
        "X = df.iloc[:, :10].values\n",
        "y = df['Cover_Type'].values - 1\n",
        "print(\"Shape of the feautre array:\", X.shape)\n",
        "print(\"Shape of the label array:\", y.shape)"
      ]
    },
    {
      "cell_type": "markdown",
      "metadata": {
        "id": "z_AAe44Ka-ZZ"
      },
      "source": [
        "## 1.C - Build and Train the Model\n",
        "\n",
        "Use `nn.Sequential` to construct a neural network for use with this problem. You can use `Linear` and `ReLu` layers for this part. You can select any architecture you would like, as long as you meet the goal described below. Wrap your network using the `NNet` class provided in the course module.\n",
        "\n",
        "After creating the model, call the `train_model()` method to train the model on the forest cover data. Set `val_split=0.2` and `seed=1`. Select values the `epochs`, `batch_size`, `lr`, and `updates`, parameters.\n",
        "\n",
        "To limit the number of lines of ouput displayed to fewer than 100, please select a value for `updates` that is not less than `epochs / 100`.\n",
        "\n",
        "Your goal is to reach a final validation accuracy of **at least 0.7**. To show that your model is relatively stable, your validation accuracy should be above this threshold for the last several training epochs. Adjust the training parameters until this goal is met."
      ]
    },
    {
      "cell_type": "code",
      "execution_count": null,
      "metadata": {
        "colab": {
          "base_uri": "https://localhost:8080/"
        },
        "id": "uLkTwpCca3Ll",
        "outputId": "5568ff4f-490a-4dea-effe-7ac7ade65562"
      },
      "outputs": [
        {
          "output_type": "stream",
          "name": "stdout",
          "text": [
            "Epoch 50: Training loss: 0.7423, Training Acc: 0.6916, Val Loss: 0.8584, Val Acc 0.6419\n",
            "Epoch 100: Training loss: 0.5917, Training Acc: 0.7576, Val Loss: 0.6533, Val Acc 0.7295\n",
            "Epoch 150: Training loss: 0.5330, Training Acc: 0.7817, Val Loss: 0.6308, Val Acc 0.7454\n",
            "Epoch 200: Training loss: 0.4886, Training Acc: 0.8003, Val Loss: 0.6631, Val Acc 0.7467\n",
            "Epoch 250: Training loss: 0.4757, Training Acc: 0.8033, Val Loss: 0.6358, Val Acc 0.7507\n",
            "Epoch 300: Training loss: 0.4574, Training Acc: 0.8143, Val Loss: 0.6562, Val Acc 0.7622\n",
            "Epoch 350: Training loss: 0.4550, Training Acc: 0.8161, Val Loss: 0.6452, Val Acc 0.7540\n",
            "Epoch 400: Training loss: 0.4317, Training Acc: 0.8275, Val Loss: 0.6305, Val Acc 0.7566\n",
            "Epoch 450: Training loss: 0.4438, Training Acc: 0.8204, Val Loss: 0.7090, Val Acc 0.7378\n",
            "Epoch 500: Training loss: 0.4165, Training Acc: 0.8279, Val Loss: 0.6454, Val Acc 0.7669\n",
            "Epoch 550: Training loss: 0.4207, Training Acc: 0.8273, Val Loss: 0.7317, Val Acc 0.7384\n",
            "Epoch 600: Training loss: 0.4229, Training Acc: 0.8261, Val Loss: 0.6917, Val Acc 0.7573\n"
          ]
        }
      ],
      "source": [
        "model = nn.Sequential(\n",
        "    nn.Linear(10, 128),\n",
        "    nn.ReLU(),\n",
        "    nn.Linear(128, 64),\n",
        "    nn.ReLU(),\n",
        "    nn.Linear(64, 32)\n",
        ")\n",
        "\n",
        "model = NNet(model)\n",
        "\n",
        "model.train_model(X,y, epochs = 600, batch_size = 50, lr = 0.001, val_split = 0.2, seed = 1, updates = 50)"
      ]
    },
    {
      "cell_type": "markdown",
      "metadata": {
        "id": "3fX_eEZrbkJ4"
      },
      "source": [
        "## 1.D - Display the Training Curves\n",
        "\n",
        "Call the `training_curves()` method to display the training curves for your model."
      ]
    },
    {
      "cell_type": "code",
      "execution_count": null,
      "metadata": {
        "colab": {
          "base_uri": "https://localhost:8080/",
          "height": 410
        },
        "id": "iG4ZD0hYBOZa",
        "outputId": "8093968e-7332-43b4-d920-2025b41431fb"
      },
      "outputs": [
        {
          "output_type": "display_data",
          "data": {
            "text/plain": [
              "<Figure size 1200x400 with 2 Axes>"
            ],
            "image/png": "[encoded data removed]"
          },
          "metadata": {}
        }
      ],
      "source": [
        "model.training_curves()"
      ]
    },
    {
      "cell_type": "markdown",
      "metadata": {
        "id": "tGwRRKnsdp19"
      },
      "source": [
        "# Part 2 - Fashion MNIST (ANN)\n",
        "\n",
        "In Parts 2 and 3 of this assignment, you will work with the [Fashion MNIST](https://www.kaggle.com/datasets/zalando-research/fashionmnist) dataset. In Part 2, you will build a simple ANN to create a classification model for this dataset. In Part 3, you will build a CNN for this purpose.\n"
      ]
    },
    {
      "cell_type": "markdown",
      "metadata": {
        "id": "ug0oiw1ceDan"
      },
      "source": [
        "## 2.A - Load the Dataset\n",
        "\n",
        "Use the cell below to load the file `fasion-mnist_train.csv` into a Pandas DataFrame. Then use the `sample()` method to shuffle the DataFrame, setting `random_state=1`. Print the shape of the shuffled DataFrame and then display its head."
      ]
    },
    {
      "cell_type": "code",
      "execution_count": null,
      "metadata": {
        "colab": {
          "base_uri": "https://localhost:8080/",
          "height": 273
        },
        "id": "ue9STiryM2MI",
        "outputId": "8c66cf42-281d-48be-87b3-b83ec2f38683"
      },
      "outputs": [
        {
          "output_type": "stream",
          "name": "stdout",
          "text": [
            "(60000, 785)\n"
          ]
        },
        {
          "output_type": "execute_result",
          "data": {
            "text/plain": [
              "       label  pixel1  pixel2  pixel3  pixel4  pixel5  pixel6  pixel7  pixel8  \\\n",
              "15281      8       0       0       0       0       0       0       0       0   \n",
              "21435      5       0       0       0       0       0       0       0       0   \n",
              "44536      8       0       0       0       0       0       0       0       0   \n",
              "13518      4       0       0       0       0       0       0       0       1   \n",
              "47529      5       0       0       0       0       0       0       0       0   \n",
              "\n",
              "       pixel9  ...  pixel775  pixel776  pixel777  pixel778  pixel779  \\\n",
              "15281       0  ...         0         0         0         0         0   \n",
              "21435       0  ...         0         0         0         0         0   \n",
              "44536       0  ...         0         0         0         0         0   \n",
              "13518       0  ...         0         0         0         0         0   \n",
              "47529       0  ...         0         0         0         0         0   \n",
              "\n",
              "       pixel780  pixel781  pixel782  pixel783  pixel784  \n",
              "15281         0         0         0         0         0  \n",
              "21435         0         0         0         0         0  \n",
              "44536         0         0         0         0         0  \n",
              "13518         0         0         0         0         0  \n",
              "47529         0         0         0         0         0  \n",
              "\n",
              "[5 rows x 785 columns]"
            ],
            "text/html": [
              "\n",
              "  <div id=\"df-5e71efef-a2b1-495e-bdee-501cb1df1738\" class=\"colab-df-container\">\n",
              "    <div>\n",
              "<style scoped>\n",
              "    .dataframe tbody tr th:only-of-type {\n",
              "        vertical-align: middle;\n",
              "    }\n",
              "\n",
              "    .dataframe tbody tr th {\n",
              "        vertical-align: top;\n",
              "    }\n",
              "\n",
              "    .dataframe thead th {\n",
              "        text-align: right;\n",
              "    }\n",
              "</style>\n",
              "<table border=\"1\" class=\"dataframe\">\n",
              "  <thead>\n",
              "    <tr style=\"text-align: right;\">\n",
              "      <th></th>\n",
              "      <th>label</th>\n",
              "      <th>pixel1</th>\n",
              "      <th>pixel2</th>\n",
              "      <th>pixel3</th>\n",
              "      <th>pixel4</th>\n",
              "      <th>pixel5</th>\n",
              "      <th>pixel6</th>\n",
              "      <th>pixel7</th>\n",
              "      <th>pixel8</th>\n",
              "      <th>pixel9</th>\n",
              "      <th>...</th>\n",
              "      <th>pixel775</th>\n",
              "      <th>pixel776</th>\n",
              "      <th>pixel777</th>\n",
              "      <th>pixel778</th>\n",
              "      <th>pixel779</th>\n",
              "      <th>pixel780</th>\n",
              "      <th>pixel781</th>\n",
              "      <th>pixel782</th>\n",
              "      <th>pixel783</th>\n",
              "      <th>pixel784</th>\n",
              "    </tr>\n",
              "  </thead>\n",
              "  <tbody>\n",
              "    <tr>\n",
              "      <th>15281</th>\n",
              "      <td>8</td>\n",
              "      <td>0</td>\n",
              "      <td>0</td>\n",
              "      <td>0</td>\n",
              "      <td>0</td>\n",
              "      <td>0</td>\n",
              "      <td>0</td>\n",
              "      <td>0</td>\n",
              "      <td>0</td>\n",
              "      <td>0</td>\n",
              "      <td>...</td>\n",
              "      <td>0</td>\n",
              "      <td>0</td>\n",
              "      <td>0</td>\n",
              "      <td>0</td>\n",
              "      <td>0</td>\n",
              "      <td>0</td>\n",
              "      <td>0</td>\n",
              "      <td>0</td>\n",
              "      <td>0</td>\n",
              "      <td>0</td>\n",
              "    </tr>\n",
              "    <tr>\n",
              "      <th>21435</th>\n",
              "      <td>5</td>\n",
              "      <td>0</td>\n",
              "      <td>0</td>\n",
              "      <td>0</td>\n",
              "      <td>0</td>\n",
              "      <td>0</td>\n",
              "      <td>0</td>\n",
              "      <td>0</td>\n",
              "      <td>0</td>\n",
              "      <td>0</td>\n",
              "      <td>...</td>\n",
              "      <td>0</td>\n",
              "      <td>0</td>\n",
              "      <td>0</td>\n",
              "      <td>0</td>\n",
              "      <td>0</td>\n",
              "      <td>0</td>\n",
              "      <td>0</td>\n",
              "      <td>0</td>\n",
              "      <td>0</td>\n",
              "      <td>0</td>\n",
              "    </tr>\n",
              "    <tr>\n",
              "      <th>44536</th>\n",
              "      <td>8</td>\n",
              "      <td>0</td>\n",
              "      <td>0</td>\n",
              "      <td>0</td>\n",
              "      <td>0</td>\n",
              "      <td>0</td>\n",
              "      <td>0</td>\n",
              "      <td>0</td>\n",
              "      <td>0</td>\n",
              "      <td>0</td>\n",
              "      <td>...</td>\n",
              "      <td>0</td>\n",
              "      <td>0</td>\n",
              "      <td>0</td>\n",
              "      <td>0</td>\n",
              "      <td>0</td>\n",
              "      <td>0</td>\n",
              "      <td>0</td>\n",
              "      <td>0</td>\n",
              "      <td>0</td>\n",
              "      <td>0</td>\n",
              "    </tr>\n",
              "    <tr>\n",
              "      <th>13518</th>\n",
              "      <td>4</td>\n",
              "      <td>0</td>\n",
              "      <td>0</td>\n",
              "      <td>0</td>\n",
              "      <td>0</td>\n",
              "      <td>0</td>\n",
              "      <td>0</td>\n",
              "      <td>0</td>\n",
              "      <td>1</td>\n",
              "      <td>0</td>\n",
              "      <td>...</td>\n",
              "      <td>0</td>\n",
              "      <td>0</td>\n",
              "      <td>0</td>\n",
              "      <td>0</td>\n",
              "      <td>0</td>\n",
              "      <td>0</td>\n",
              "      <td>0</td>\n",
              "      <td>0</td>\n",
              "      <td>0</td>\n",
              "      <td>0</td>\n",
              "    </tr>\n",
              "    <tr>\n",
              "      <th>47529</th>\n",
              "      <td>5</td>\n",
              "      <td>0</td>\n",
              "      <td>0</td>\n",
              "      <td>0</td>\n",
              "      <td>0</td>\n",
              "      <td>0</td>\n",
              "      <td>0</td>\n",
              "      <td>0</td>\n",
              "      <td>0</td>\n",
              "      <td>0</td>\n",
              "      <td>...</td>\n",
              "      <td>0</td>\n",
              "      <td>0</td>\n",
              "      <td>0</td>\n",
              "      <td>0</td>\n",
              "      <td>0</td>\n",
              "      <td>0</td>\n",
              "      <td>0</td>\n",
              "      <td>0</td>\n",
              "      <td>0</td>\n",
              "      <td>0</td>\n",
              "    </tr>\n",
              "  </tbody>\n",
              "</table>\n",
              "<p>5 rows × 785 columns</p>\n",
              "</div>\n",
              "    <div class=\"colab-df-buttons\">\n",
              "\n",
              "  <div class=\"colab-df-container\">\n",
              "    <button class=\"colab-df-convert\" onclick=\"convertToInteractive('df-5e71efef-a2b1-495e-bdee-501cb1df1738')\"\n",
              "            title=\"Convert this dataframe to an interactive table.\"\n",
              "            style=\"display:none;\">\n",
              "\n",
              "  <svg xmlns=\"http://www.w3.org/2000/svg\" height=\"24px\" viewBox=\"0 -960 960 960\">\n",
              "    <path d=\"M120-120v-720h720v720H120Zm60-500h600v-160H180v160Zm220 220h160v-160H400v160Zm0 220h160v-160H400v160ZM180-400h160v-160H180v160Zm440 0h160v-160H620v160ZM180-180h160v-160H180v160Zm440 0h160v-160H620v160Z\"/>\n",
              "  </svg>\n",
              "    </button>\n",
              "\n",
              "  <style>\n",
              "    .colab-df-container {\n",
              "      display:flex;\n",
              "      gap: 12px;\n",
              "    }\n",
              "\n",
              "    .colab-df-convert {\n",
              "      background-color: #E8F0FE;\n",
              "      border: none;\n",
              "      border-radius: 50%;\n",
              "      cursor: pointer;\n",
              "      display: none;\n",
              "      fill: #1967D2;\n",
              "      height: 32px;\n",
              "      padding: 0 0 0 0;\n",
              "      width: 32px;\n",
              "    }\n",
              "\n",
              "    .colab-df-convert:hover {\n",
              "      background-color: #E2EBFA;\n",
              "      box-shadow: 0px 1px 2px rgba(60, 64, 67, 0.3), 0px 1px 3px 1px rgba(60, 64, 67, 0.15);\n",
              "      fill: #174EA6;\n",
              "    }\n",
              "\n",
              "    .colab-df-buttons div {\n",
              "      margin-bottom: 4px;\n",
              "    }\n",
              "\n",
              "    [theme=dark] .colab-df-convert {\n",
              "      background-color: #3B4455;\n",
              "      fill: #D2E3FC;\n",
              "    }\n",
              "\n",
              "    [theme=dark] .colab-df-convert:hover {\n",
              "      background-color: #434B5C;\n",
              "      box-shadow: 0px 1px 3px 1px rgba(0, 0, 0, 0.15);\n",
              "      filter: drop-shadow(0px 1px 2px rgba(0, 0, 0, 0.3));\n",
              "      fill: #FFFFFF;\n",
              "    }\n",
              "  </style>\n",
              "\n",
              "    <script>\n",
              "      const buttonEl =\n",
              "        document.querySelector('#df-5e71efef-a2b1-495e-bdee-501cb1df1738 button.colab-df-convert');\n",
              "      buttonEl.style.display =\n",
              "        google.colab.kernel.accessAllowed ? 'block' : 'none';\n",
              "\n",
              "      async function convertToInteractive(key) {\n",
              "        const element = document.querySelector('#df-5e71efef-a2b1-495e-bdee-501cb1df1738');\n",
              "        const dataTable =\n",
              "          await google.colab.kernel.invokeFunction('convertToInteractive',\n",
              "                                                    [key], {});\n",
              "        if (!dataTable) return;\n",
              "\n",
              "        const docLinkHtml = 'Like what you see? Visit the ' +\n",
              "          '<a target=\"_blank\" href=https://colab.research.google.com/notebooks/data_table.ipynb>data table notebook</a>'\n",
              "          + ' to learn more about interactive tables.';\n",
              "        element.innerHTML = '';\n",
              "        dataTable['output_type'] = 'display_data';\n",
              "        await google.colab.output.renderOutput(dataTable, element);\n",
              "        const docLink = document.createElement('div');\n",
              "        docLink.innerHTML = docLinkHtml;\n",
              "        element.appendChild(docLink);\n",
              "      }\n",
              "    </script>\n",
              "  </div>\n",
              "\n",
              "\n",
              "<div id=\"df-91b3391a-2f12-4d5a-b943-d60727bde18d\">\n",
              "  <button class=\"colab-df-quickchart\" onclick=\"quickchart('df-91b3391a-2f12-4d5a-b943-d60727bde18d')\"\n",
              "            title=\"Suggest charts\"\n",
              "            style=\"display:none;\">\n",
              "\n",
              "<svg xmlns=\"http://www.w3.org/2000/svg\" height=\"24px\"viewBox=\"0 0 24 24\"\n",
              "     width=\"24px\">\n",
              "    <g>\n",
              "        <path d=\"M19 3H5c-1.1 0-2 .9-2 2v14c0 1.1.9 2 2 2h14c1.1 0 2-.9 2-2V5c0-1.1-.9-2-2-2zM9 17H7v-7h2v7zm4 0h-2V7h2v10zm4 0h-2v-4h2v4z\"/>\n",
              "    </g>\n",
              "</svg>\n",
              "  </button>\n",
              "\n",
              "<style>\n",
              "  .colab-df-quickchart {\n",
              "      --bg-color: #E8F0FE;\n",
              "      --fill-color: #1967D2;\n",
              "      --hover-bg-color: #E2EBFA;\n",
              "      --hover-fill-color: #174EA6;\n",
              "      --disabled-fill-color: #AAA;\n",
              "      --disabled-bg-color: #DDD;\n",
              "  }\n",
              "\n",
              "  [theme=dark] .colab-df-quickchart {\n",
              "      --bg-color: #3B4455;\n",
              "      --fill-color: #D2E3FC;\n",
              "      --hover-bg-color: #434B5C;\n",
              "      --hover-fill-color: #FFFFFF;\n",
              "      --disabled-bg-color: #3B4455;\n",
              "      --disabled-fill-color: #666;\n",
              "  }\n",
              "\n",
              "  .colab-df-quickchart {\n",
              "    background-color: var(--bg-color);\n",
              "    border: none;\n",
              "    border-radius: 50%;\n",
              "    cursor: pointer;\n",
              "    display: none;\n",
              "    fill: var(--fill-color);\n",
              "    height: 32px;\n",
              "    padding: 0;\n",
              "    width: 32px;\n",
              "  }\n",
              "\n",
              "  .colab-df-quickchart:hover {\n",
              "    background-color: var(--hover-bg-color);\n",
              "    box-shadow: 0 1px 2px rgba(60, 64, 67, 0.3), 0 1px 3px 1px rgba(60, 64, 67, 0.15);\n",
              "    fill: var(--button-hover-fill-color);\n",
              "  }\n",
              "\n",
              "  .colab-df-quickchart-complete:disabled,\n",
              "  .colab-df-quickchart-complete:disabled:hover {\n",
              "    background-color: var(--disabled-bg-color);\n",
              "    fill: var(--disabled-fill-color);\n",
              "    box-shadow: none;\n",
              "  }\n",
              "\n",
              "  .colab-df-spinner {\n",
              "    border: 2px solid var(--fill-color);\n",
              "    border-color: transparent;\n",
              "    border-bottom-color: var(--fill-color);\n",
              "    animation:\n",
              "      spin 1s steps(1) infinite;\n",
              "  }\n",
              "\n",
              "  @keyframes spin {\n",
              "    0% {\n",
              "      border-color: transparent;\n",
              "      border-bottom-color: var(--fill-color);\n",
              "      border-left-color: var(--fill-color);\n",
              "    }\n",
              "    20% {\n",
              "      border-color: transparent;\n",
              "      border-left-color: var(--fill-color);\n",
              "      border-top-color: var(--fill-color);\n",
              "    }\n",
              "    30% {\n",
              "      border-color: transparent;\n",
              "      border-left-color: var(--fill-color);\n",
              "      border-top-color: var(--fill-color);\n",
              "      border-right-color: var(--fill-color);\n",
              "    }\n",
              "    40% {\n",
              "      border-color: transparent;\n",
              "      border-right-color: var(--fill-color);\n",
              "      border-top-color: var(--fill-color);\n",
              "    }\n",
              "    60% {\n",
              "      border-color: transparent;\n",
              "      border-right-color: var(--fill-color);\n",
              "    }\n",
              "    80% {\n",
              "      border-color: transparent;\n",
              "      border-right-color: var(--fill-color);\n",
              "      border-bottom-color: var(--fill-color);\n",
              "    }\n",
              "    90% {\n",
              "      border-color: transparent;\n",
              "      border-bottom-color: var(--fill-color);\n",
              "    }\n",
              "  }\n",
              "</style>\n",
              "\n",
              "  <script>\n",
              "    async function quickchart(key) {\n",
              "      const quickchartButtonEl =\n",
              "        document.querySelector('#' + key + ' button');\n",
              "      quickchartButtonEl.disabled = true;  // To prevent multiple clicks.\n",
              "      quickchartButtonEl.classList.add('colab-df-spinner');\n",
              "      try {\n",
              "        const charts = await google.colab.kernel.invokeFunction(\n",
              "            'suggestCharts', [key], {});\n",
              "      } catch (error) {\n",
              "        console.error('Error during call to suggestCharts:', error);\n",
              "      }\n",
              "      quickchartButtonEl.classList.remove('colab-df-spinner');\n",
              "      quickchartButtonEl.classList.add('colab-df-quickchart-complete');\n",
              "    }\n",
              "    (() => {\n",
              "      let quickchartButtonEl =\n",
              "        document.querySelector('#df-91b3391a-2f12-4d5a-b943-d60727bde18d button');\n",
              "      quickchartButtonEl.style.display =\n",
              "        google.colab.kernel.accessAllowed ? 'block' : 'none';\n",
              "    })();\n",
              "  </script>\n",
              "</div>\n",
              "\n",
              "    </div>\n",
              "  </div>\n"
            ],
            "application/vnd.google.colaboratory.intrinsic+json": {
              "type": "dataframe",
              "variable_name": "df1"
            }
          },
          "metadata": {},
          "execution_count": 7
        }
      ],
      "source": [
        "df1 = pd.read_csv('fashion-mnist_train.csv')\n",
        "df1 = df1.sample(frac = 1,random_state=1)\n",
        "print(df1.shape)\n",
        "df1.head()"
      ]
    },
    {
      "cell_type": "markdown",
      "metadata": {
        "id": "cs9nj_EVeSIb"
      },
      "source": [
        "## 2.B - Create Feature and Label Arrays\n",
        "\n",
        "This dataset contains 784 numerical features, which represent pixel values for 28x28 black-and-white images. The integer-encoded label indicates the class that each image belongs to.\n",
        "\n",
        "In the cell below, create a feature array and a label array. The pixel values range from 0 to 255, but your models will learn more easily if these feature values are scaled to be betwen 0 and 1. To that end, please divide the values by 255 when creating the feature array.\n",
        "\n",
        "Print the shape of each array."
      ]
    },
    {
      "cell_type": "code",
      "execution_count": null,
      "metadata": {
        "colab": {
          "base_uri": "https://localhost:8080/"
        },
        "id": "uqK6gykbM2KE",
        "outputId": "9192e1c6-689f-4b60-d934-d6ae7b3035fa"
      },
      "outputs": [
        {
          "output_type": "stream",
          "name": "stdout",
          "text": [
            "Shape of the feautre array: (60000, 784)\n",
            "Shape of the label array: (60000,)\n"
          ]
        }
      ],
      "source": [
        "X = df1.iloc[:, 1:].values / 255\n",
        "y = df1['label'].values\n",
        "print(\"Shape of the feautre array:\", X.shape)\n",
        "print(\"Shape of the label array:\", y.shape)"
      ]
    },
    {
      "cell_type": "markdown",
      "metadata": {
        "id": "gHZkv3uJfV7a"
      },
      "source": [
        "## 2.C - Build and Train the Model\n",
        "\n",
        "Use `nn.Sequential` to construct a neural network for use with this problem. You can use `Linear` and `ReLu` layers for this part. You can select any architecture you would like, as long as you meet the goal described below. Wrap your network using the `NNet` class provided in the course module.\n",
        "\n",
        "After creating the model, call the `train_model()` method to train the model on the Fashion MNIST data. Set `val_split=0.2` and `seed=1`. Select values the `epochs`, `batch_size`, `lr`, and `updates`, parameters.\n",
        "\n",
        "To limit the number of lines of ouput displayed to fewer than 100, please select a value for `updates` that is not less than `epochs / 100`.\n",
        "\n",
        "Your goal is to reach a final validation accuracy of **at least 0.87**. To show that your model is relatively stable, your validation accuracy should be above this threshold for the last several training epochs. Adjust the training parameters until this goal is met."
      ]
    },
    {
      "cell_type": "code",
      "execution_count": null,
      "metadata": {
        "colab": {
          "base_uri": "https://localhost:8080/"
        },
        "id": "rxcIWQdOM2IP",
        "outputId": "70cb6595-cfb0-48ec-db05-0cc043f5ac76"
      },
      "outputs": [
        {
          "output_type": "stream",
          "name": "stdout",
          "text": [
            "Epoch 15: Training loss: 0.7149, Training Acc: 0.7591, Val Loss: 0.7060, Val Acc 0.7622\n",
            "Epoch 30: Training loss: 0.5580, Training Acc: 0.8086, Val Loss: 0.5593, Val Acc 0.8052\n",
            "Epoch 45: Training loss: 0.5003, Training Acc: 0.8286, Val Loss: 0.5053, Val Acc 0.8243\n",
            "Epoch 60: Training loss: 0.4675, Training Acc: 0.8390, Val Loss: 0.4749, Val Acc 0.8341\n",
            "Epoch 75: Training loss: 0.4453, Training Acc: 0.8466, Val Loss: 0.4547, Val Acc 0.8408\n",
            "Epoch 90: Training loss: 0.4285, Training Acc: 0.8517, Val Loss: 0.4396, Val Acc 0.8463\n",
            "Epoch 105: Training loss: 0.4148, Training Acc: 0.8559, Val Loss: 0.4277, Val Acc 0.8511\n",
            "Epoch 120: Training loss: 0.4033, Training Acc: 0.8600, Val Loss: 0.4177, Val Acc 0.8542\n",
            "Epoch 135: Training loss: 0.3932, Training Acc: 0.8632, Val Loss: 0.4091, Val Acc 0.8573\n",
            "Epoch 150: Training loss: 0.3843, Training Acc: 0.8658, Val Loss: 0.4017, Val Acc 0.8596\n",
            "Epoch 165: Training loss: 0.3763, Training Acc: 0.8688, Val Loss: 0.3952, Val Acc 0.8627\n",
            "Epoch 180: Training loss: 0.3692, Training Acc: 0.8715, Val Loss: 0.3895, Val Acc 0.8652\n",
            "Epoch 195: Training loss: 0.3627, Training Acc: 0.8738, Val Loss: 0.3846, Val Acc 0.8664\n",
            "Epoch 210: Training loss: 0.3568, Training Acc: 0.8756, Val Loss: 0.3802, Val Acc 0.8677\n",
            "Epoch 225: Training loss: 0.3514, Training Acc: 0.8771, Val Loss: 0.3761, Val Acc 0.8683\n",
            "Epoch 240: Training loss: 0.3463, Training Acc: 0.8787, Val Loss: 0.3724, Val Acc 0.8700\n",
            "Epoch 255: Training loss: 0.3415, Training Acc: 0.8804, Val Loss: 0.3692, Val Acc 0.8716\n",
            "Epoch 270: Training loss: 0.3370, Training Acc: 0.8819, Val Loss: 0.3663, Val Acc 0.8722\n",
            "Epoch 285: Training loss: 0.3328, Training Acc: 0.8836, Val Loss: 0.3637, Val Acc 0.8728\n",
            "Epoch 300: Training loss: 0.3287, Training Acc: 0.8848, Val Loss: 0.3613, Val Acc 0.8742\n"
          ]
        }
      ],
      "source": [
        "model1 = nn.Sequential(\n",
        "    nn.Linear(784, 128),\n",
        "    nn.ReLU(),\n",
        "    nn.Linear(128, 64),\n",
        "    nn.ReLU(),\n",
        "    nn.Linear(64, 32)\n",
        ")\n",
        "\n",
        "model1 = NNet(model1)\n",
        "\n",
        "model1.train_model(X,y, epochs = 300, batch_size = 128, lr = 0.00001, val_split = 0.2, seed = 1, updates = 15)\n"
      ]
    },
    {
      "cell_type": "markdown",
      "metadata": {
        "id": "5scuin1Ng1FO"
      },
      "source": [
        "## 2.D - Display the Training Curves\n",
        "\n",
        "Call the `training_curves()` method to display the training curves for your model."
      ]
    },
    {
      "cell_type": "code",
      "execution_count": null,
      "metadata": {
        "colab": {
          "base_uri": "https://localhost:8080/",
          "height": 410
        },
        "id": "e01PzDNZfhTF",
        "outputId": "c02f98a1-8694-4c5a-d045-dd1fbf6df076"
      },
      "outputs": [
        {
          "output_type": "display_data",
          "data": {
            "text/plain": [
              "<Figure size 1200x400 with 2 Axes>"
            ],
            "image/png": "[encoded data removed]"
          },
          "metadata": {}
        }
      ],
      "source": [
        "model1.training_curves()"
      ]
    },
    {
      "cell_type": "markdown",
      "metadata": {
        "id": "YvxbUhH0g3Zp"
      },
      "source": [
        "# Part 3 - Fashion MNIST (ANN)\n",
        "\n",
        "In Part 3 of this assignment, you will build a CNN for the [Fashion MNIST](https://www.kaggle.com/datasets/zalando-research/fashionmnist) dataset.\n"
      ]
    },
    {
      "cell_type": "markdown",
      "metadata": {
        "id": "nT2wFDtthAdg"
      },
      "source": [
        "## 3.A - Reshape the Feature Array\n",
        "\n",
        "Use the `reshape()` array method to reshape the feature array from Part 2 to have shape `(60000, 1, 28, 28)`. In this part, you will reuse the label array from Part 2. You can assign it to a new variable name, if you would like.\n",
        "\n",
        "Print the shape of the feature array."
      ]
    },
    {
      "cell_type": "code",
      "execution_count": null,
      "metadata": {
        "colab": {
          "base_uri": "https://localhost:8080/"
        },
        "id": "FdPIPm-6hFg4",
        "outputId": "1d45d6ba-0eb8-4364-f30d-fc29c41b5db1"
      },
      "outputs": [
        {
          "output_type": "stream",
          "name": "stdout",
          "text": [
            "Shape of the feautre array: (60000, 1, 28, 28)\n"
          ]
        }
      ],
      "source": [
        "X_reshaped = X.reshape(60000, 1, 28, 28)\n",
        "print(\"Shape of the feautre array:\", X_reshaped.shape)"
      ]
    },
    {
      "cell_type": "markdown",
      "metadata": {
        "id": "1BfKux_8heTx"
      },
      "source": [
        "## 3.B - Build and Train the Model\n",
        "\n",
        "Use `nn.Sequential` to construct a neural network for use with this problem. You can use `Conv2d`, `MaxPool2d`, `Flatten`, `Linear` and `ReLu` layers for this part. You can select any architecture you would like, as long as you meet the goal described below. Wrap your network using the `NNet` class provided in the course module.\n",
        "\n",
        "After creating the model, call the `train_model()` method to train the model on the Fashion MNIST data. Set `val_split=0.2` and `seed=1`. Select values the `epochs`, `batch_size`, `lr`, and `updates`, parameters.\n",
        "\n",
        "To limit the number of lines of ouput displayed to fewer than 100, please select a value for `updates` that is not less than `epochs / 100`.\n",
        "\n",
        "Your goal is to reach a final validation accuracy of **at least 0.91**. To show that your model is relatively stable, your validation accuracy should be above this threshold for the last several training epochs. Adjust the training parameters until this goal is met."
      ]
    },
    {
      "cell_type": "code",
      "execution_count": null,
      "metadata": {
        "colab": {
          "base_uri": "https://localhost:8080/"
        },
        "id": "fh9EXgx5M2GU",
        "outputId": "6eee9997-6bcb-48c5-dd02-12cbd4368be4"
      },
      "outputs": [
        {
          "output_type": "stream",
          "name": "stdout",
          "text": [
            "Epoch 10: Training loss: 0.4709, Training Acc: 0.8350, Val Loss: 0.4653, Val Acc 0.8333\n",
            "Epoch 20: Training loss: 0.3938, Training Acc: 0.8628, Val Loss: 0.3976, Val Acc 0.8559\n",
            "Epoch 30: Training loss: 0.3580, Training Acc: 0.8749, Val Loss: 0.3662, Val Acc 0.8678\n",
            "Epoch 40: Training loss: 0.3344, Training Acc: 0.8824, Val Loss: 0.3455, Val Acc 0.8763\n",
            "Epoch 50: Training loss: 0.3166, Training Acc: 0.8894, Val Loss: 0.3302, Val Acc 0.8828\n",
            "Epoch 60: Training loss: 0.3023, Training Acc: 0.8939, Val Loss: 0.3180, Val Acc 0.8864\n",
            "Epoch 70: Training loss: 0.2903, Training Acc: 0.8977, Val Loss: 0.3079, Val Acc 0.8895\n",
            "Epoch 80: Training loss: 0.2799, Training Acc: 0.9010, Val Loss: 0.2995, Val Acc 0.8927\n",
            "Epoch 90: Training loss: 0.2709, Training Acc: 0.9042, Val Loss: 0.2925, Val Acc 0.8955\n",
            "Epoch 100: Training loss: 0.2629, Training Acc: 0.9071, Val Loss: 0.2865, Val Acc 0.8988\n",
            "Epoch 110: Training loss: 0.2556, Training Acc: 0.9096, Val Loss: 0.2810, Val Acc 0.9008\n",
            "Epoch 120: Training loss: 0.2488, Training Acc: 0.9118, Val Loss: 0.2762, Val Acc 0.9027\n",
            "Epoch 130: Training loss: 0.2424, Training Acc: 0.9138, Val Loss: 0.2719, Val Acc 0.9042\n",
            "Epoch 140: Training loss: 0.2364, Training Acc: 0.9158, Val Loss: 0.2679, Val Acc 0.9056\n",
            "Epoch 150: Training loss: 0.2308, Training Acc: 0.9176, Val Loss: 0.2643, Val Acc 0.9070\n",
            "Epoch 160: Training loss: 0.2254, Training Acc: 0.9193, Val Loss: 0.2610, Val Acc 0.9087\n",
            "Epoch 170: Training loss: 0.2202, Training Acc: 0.9210, Val Loss: 0.2581, Val Acc 0.9093\n",
            "Epoch 180: Training loss: 0.2152, Training Acc: 0.9230, Val Loss: 0.2553, Val Acc 0.9103\n",
            "Epoch 190: Training loss: 0.2105, Training Acc: 0.9250, Val Loss: 0.2528, Val Acc 0.9114\n",
            "Epoch 200: Training loss: 0.2058, Training Acc: 0.9269, Val Loss: 0.2504, Val Acc 0.9125\n"
          ]
        }
      ],
      "source": [
        "model2 = nn.Sequential(\n",
        "    nn.Conv2d(1, 64, kernel_size=3, padding=1),\n",
        "    nn.ReLU(),\n",
        "    nn.MaxPool2d(kernel_size=2, stride=2),\n",
        "    nn.Conv2d(64, 128, kernel_size=3, padding=1),\n",
        "    nn.ReLU(),\n",
        "    nn.MaxPool2d(kernel_size=2, stride=2),\n",
        "    nn.Flatten(),\n",
        "    nn.Linear(128 * 7 * 7, 256),\n",
        "    nn.ReLU(),\n",
        "    nn.Linear(256, 10)\n",
        ")\n",
        "\n",
        "model2 = NNet(model2)\n",
        "\n",
        "model2.train_model(X_reshaped, y, epochs = 200, batch_size = 128, lr = 0.00001, val_split=0.2, seed=1, updates = 10)"
      ]
    },
    {
      "cell_type": "markdown",
      "metadata": {
        "id": "PepN5326iSk9"
      },
      "source": [
        "## 3.C - Display the Training Curves\n",
        "\n",
        "Call the `training_curves()` method to display the training curves for your model."
      ]
    },
    {
      "cell_type": "code",
      "execution_count": null,
      "metadata": {
        "colab": {
          "base_uri": "https://localhost:8080/",
          "height": 410
        },
        "id": "liSvbGVvM2EQ",
        "outputId": "a2ae86d0-6d1f-4919-e0b6-ec8f583e9dea"
      },
      "outputs": [
        {
          "output_type": "display_data",
          "data": {
            "text/plain": [
              "<Figure size 1200x400 with 2 Axes>"
            ],
            "image/png": "[encoded data removed]"
          },
          "metadata": {}
        }
      ],
      "source": [
        "model2.training_curves()"
      ]
    },
    {
      "cell_type": "markdown",
      "metadata": {
        "id": "yMMAAQEzlGvm"
      },
      "source": [
        "# Submission Instructions\n",
        "\n",
        "1. Perform a Restart and Run All by clicking **Runtime > Restart session and run all**.\n",
        "2. Copy the link to your notebook by clicking **Share > Copy Link**.\n",
        "3. Paste the copied link into the `notebook_url` field in the [Notebook Renderer](https://colab.research.google.com/drive/1CJTipys46ldZxJFwnt7XbdjQUfkmoXeU?usp=sharing) tool and then execute the cell to render the notebook.\n",
        "4. The Notebook Renderer will open up a save file dialog. Save the resulting HTML file yo your local machine.\n",
        "5. Submit the HTML file to Canvas.\n"
      ]
    }
  ],
  "metadata": {
    "accelerator": "GPU",
    "colab": {
      "gpuType": "T4",
      "provenance": [],
      "toc_visible": true,
      "include_colab_link": true
    },
    "kernelspec": {
      "display_name": "Python 3",
      "name": "python3"
    },
    "language_info": {
      "name": "python"
    }
  },
  "nbformat": 4,
  "nbformat_minor": 0
}