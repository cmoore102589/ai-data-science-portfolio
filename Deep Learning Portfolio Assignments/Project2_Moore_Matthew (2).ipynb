{
 "cells": [
  {
   "cell_type": "markdown",
   "id": "1f838014",
   "metadata": {},
   "source": [
    "# Project 2: "
   ]
  },
  {
   "cell_type": "markdown",
   "id": "52c16de1",
   "metadata": {},
   "source": [
    "## Assignment Scenario"
   ]
  },
  {
   "cell_type": "markdown",
   "id": "683cc9a1",
   "metadata": {},
   "source": [
    "You are a data scientist in ClimateChange company. You are given an air-quality data set. The dataset contains the following features/predictors and label/target.\n",
    "\n",
    "This dataset has the following features:\n",
    "\n",
    "No: row number, \n",
    "\n",
    "year,\n",
    "\n",
    "month,\n",
    "\n",
    "day,\n",
    "\n",
    "hour: hour of data in this row,\n",
    "\n",
    "PM10: PM10 concentration (ug/m^3),\n",
    "\n",
    "SO2: SO2 concentration (ug/m^3),\n",
    "\n",
    "NO2: NO2 concentration (ug/m^3),\n",
    "\n",
    "CO: CO concentration (ug/m^3),\n",
    "\n",
    "O3: O3 concentration (ug/m^3),\n",
    "\n",
    "TEMP: temperature (degree Celsius),\n",
    "\n",
    "PRES: pressure (hPa),\n",
    "\n",
    "DEWP: dew point temperature (degree Celsius),\n",
    "\n",
    "RAIN: precipitation (mm),\n",
    "\n",
    "wd: wind direction,\n",
    "\n",
    "WSPM: wind speed (m/s),\n",
    "\n",
    "The only target/label is: PM2.5: PM2.5 concentration (ug/m^3).\n",
    "\n",
    "You are asked to perform the following tasks by using the attached Jupyter Notebook and writing a script in Python and run all the cells. You only need to submit a JupyterNotebook.\n",
    "\n",
    "Data Source: Beijing Multi-site Air Quality Data SetLinks to an external site.\n"
   ]
  },
  {
   "cell_type": "markdown",
   "id": "4dfc9831",
   "metadata": {},
   "source": [
    "### Steps and Questions\n",
    "\n",
    "1. Load the dataset, PRSA_Data.csv, into memory.\n",
    "\n",
    "2. Clean the data and check missing values for this dataset.\n",
    "\n",
    "3. Convert all categorical variables to numerical values.\n",
    "\n",
    "4. Split the data into 80% of training and 20% of the test dataset.\n",
    "\n",
    "5. Preprocess the data using the normalization method to convert all features into the range of [0,1]\n",
    "\n",
    "6. Build a neuron network with two hidden layers of 20 and 10 neurons to forecast PM2.5 using all other features and TensorFlow. Does it overfit or underfit the data? Please justify your answer.\n",
    "\n",
    "7. Tune the model using the following hyperparameters using keras-tuner:\n",
    "    First hidden layer with units between 20 and 50 with a step size of 5\n",
    "    Second hidden layer with units between 5 and 10 with a step size of 1\n",
    "    The dropout rate for both hidden layer is between 0.2 and 0.8 with a step size of 0.1\n",
    "    \n",
    "    Please recommend the optimal model and specify the hyperparameters.\n",
    "\n",
    "8. Build a neuron network with two hidden layers of 20 and 10 neurons to forecast PM2.5 using all other features and PyTorch. Does it overfit or underfit the data? Please justify your answer."
   ]
  },
  {
   "cell_type": "markdown",
   "id": "df627f17",
   "metadata": {},
   "source": [
    "## Load Necessary Libraries"
   ]
  },
  {
   "cell_type": "code",
   "execution_count": 1,
   "id": "14ba424d",
   "metadata": {},
   "outputs": [],
   "source": [
    "# Import necessary libraries for data handling, preprocessing, model building, and evaluation\n",
    "\n",
    "# Data handling and preprocessing\n",
    "import os\n",
    "import pandas as pd\n",
    "import numpy as np\n",
    "import seaborn as sns\n",
    "from sklearn.model_selection import train_test_split\n",
    "from sklearn.linear_model import LinearRegression\n",
    "from sklearn.metrics import mean_squared_error\n",
    "from sklearn.model_selection import train_test_split\n",
    "from sklearn.preprocessing import MinMaxScaler\n",
    "from sklearn.metrics import mean_squared_error\n",
    "\n",
    "# TensorFlow for deep learning models\n",
    "import tensorflow as tf\n",
    "from tensorflow.keras import Sequential, layers\n",
    "from tensorflow.keras.layers import Dense\n",
    "from tensorflow.keras.optimizers import Adam\n",
    "from keras_tuner import RandomSearch\n",
    "from tensorflow.keras.layers import Dropout\n",
    "\n",
    "# PyTorch for alternative deep learning model\n",
    "import torch\n",
    "import torch.nn as nn\n",
    "import torch.optim as optim\n",
    "\n",
    "# Plotting and visualization\n",
    "import matplotlib.pyplot as plt\n",
    "\n",
    "# Set random seed for reproducibility\n",
    "import random\n",
    "np.random.seed(42)\n",
    "tf.random.set_seed(42)\n",
    "torch.manual_seed(42)\n",
    "random.seed(42)\n",
    "\n",
    "# Display configuration for plots\n",
    "%matplotlib inline"
   ]
  },
  {
   "cell_type": "markdown",
   "id": "4e5676f0",
   "metadata": {},
   "source": [
    "### Question 1: Load the Dataset"
   ]
  },
  {
   "cell_type": "code",
   "execution_count": 2,
   "id": "84e61781",
   "metadata": {},
   "outputs": [],
   "source": [
    "# Define the folder path containing the CSV files\n",
    "folder_path = '/Users/matthewmoore/Downloads/beijing+multi+site+air+quality+data/PRSA_Data_20130301-20170228'\n",
    "\n",
    "# Initialize an empty list to store DataFrames\n",
    "data_frames = []\n",
    "\n",
    "# Loop through each file in the folder\n",
    "for file_name in os.listdir(folder_path):\n",
    "    if file_name.endswith('.csv'):\n",
    "        # Load each CSV file into a DataFrame\n",
    "        file_path = os.path.join(folder_path, file_name)\n",
    "        df = pd.read_csv(file_path)\n",
    "        \n",
    "        # Append to the list\n",
    "        data_frames.append(df)\n",
    "\n",
    "# Concatenate all DataFrames in the list into a single DataFrame\n",
    "df_aq = pd.concat(data_frames, ignore_index=True)\n"
   ]
  },
  {
   "cell_type": "code",
   "execution_count": 3,
   "id": "e442b751",
   "metadata": {},
   "outputs": [
    {
     "data": {
      "text/html": [
       "<div>\n",
       "<style scoped>\n",
       "    .dataframe tbody tr th:only-of-type {\n",
       "        vertical-align: middle;\n",
       "    }\n",
       "\n",
       "    .dataframe tbody tr th {\n",
       "        vertical-align: top;\n",
       "    }\n",
       "\n",
       "    .dataframe thead th {\n",
       "        text-align: right;\n",
       "    }\n",
       "</style>\n",
       "<table border=\"1\" class=\"dataframe\">\n",
       "  <thead>\n",
       "    <tr style=\"text-align: right;\">\n",
       "      <th></th>\n",
       "      <th>No</th>\n",
       "      <th>year</th>\n",
       "      <th>month</th>\n",
       "      <th>day</th>\n",
       "      <th>hour</th>\n",
       "      <th>PM2.5</th>\n",
       "      <th>PM10</th>\n",
       "      <th>SO2</th>\n",
       "      <th>NO2</th>\n",
       "      <th>CO</th>\n",
       "      <th>O3</th>\n",
       "      <th>TEMP</th>\n",
       "      <th>PRES</th>\n",
       "      <th>DEWP</th>\n",
       "      <th>RAIN</th>\n",
       "      <th>wd</th>\n",
       "      <th>WSPM</th>\n",
       "      <th>station</th>\n",
       "    </tr>\n",
       "  </thead>\n",
       "  <tbody>\n",
       "    <tr>\n",
       "      <th>0</th>\n",
       "      <td>1</td>\n",
       "      <td>2013</td>\n",
       "      <td>3</td>\n",
       "      <td>1</td>\n",
       "      <td>0</td>\n",
       "      <td>6.0</td>\n",
       "      <td>18.0</td>\n",
       "      <td>5.0</td>\n",
       "      <td>NaN</td>\n",
       "      <td>800.0</td>\n",
       "      <td>88.0</td>\n",
       "      <td>0.1</td>\n",
       "      <td>1021.1</td>\n",
       "      <td>-18.6</td>\n",
       "      <td>0.0</td>\n",
       "      <td>NW</td>\n",
       "      <td>4.4</td>\n",
       "      <td>Gucheng</td>\n",
       "    </tr>\n",
       "    <tr>\n",
       "      <th>1</th>\n",
       "      <td>2</td>\n",
       "      <td>2013</td>\n",
       "      <td>3</td>\n",
       "      <td>1</td>\n",
       "      <td>1</td>\n",
       "      <td>6.0</td>\n",
       "      <td>15.0</td>\n",
       "      <td>5.0</td>\n",
       "      <td>NaN</td>\n",
       "      <td>800.0</td>\n",
       "      <td>88.0</td>\n",
       "      <td>-0.3</td>\n",
       "      <td>1021.5</td>\n",
       "      <td>-19.0</td>\n",
       "      <td>0.0</td>\n",
       "      <td>NW</td>\n",
       "      <td>4.0</td>\n",
       "      <td>Gucheng</td>\n",
       "    </tr>\n",
       "    <tr>\n",
       "      <th>2</th>\n",
       "      <td>3</td>\n",
       "      <td>2013</td>\n",
       "      <td>3</td>\n",
       "      <td>1</td>\n",
       "      <td>2</td>\n",
       "      <td>5.0</td>\n",
       "      <td>18.0</td>\n",
       "      <td>NaN</td>\n",
       "      <td>NaN</td>\n",
       "      <td>700.0</td>\n",
       "      <td>52.0</td>\n",
       "      <td>-0.7</td>\n",
       "      <td>1021.5</td>\n",
       "      <td>-19.8</td>\n",
       "      <td>0.0</td>\n",
       "      <td>WNW</td>\n",
       "      <td>4.6</td>\n",
       "      <td>Gucheng</td>\n",
       "    </tr>\n",
       "    <tr>\n",
       "      <th>3</th>\n",
       "      <td>4</td>\n",
       "      <td>2013</td>\n",
       "      <td>3</td>\n",
       "      <td>1</td>\n",
       "      <td>3</td>\n",
       "      <td>6.0</td>\n",
       "      <td>20.0</td>\n",
       "      <td>6.0</td>\n",
       "      <td>NaN</td>\n",
       "      <td>NaN</td>\n",
       "      <td>NaN</td>\n",
       "      <td>-1.0</td>\n",
       "      <td>1022.7</td>\n",
       "      <td>-21.2</td>\n",
       "      <td>0.0</td>\n",
       "      <td>W</td>\n",
       "      <td>2.8</td>\n",
       "      <td>Gucheng</td>\n",
       "    </tr>\n",
       "    <tr>\n",
       "      <th>4</th>\n",
       "      <td>5</td>\n",
       "      <td>2013</td>\n",
       "      <td>3</td>\n",
       "      <td>1</td>\n",
       "      <td>4</td>\n",
       "      <td>5.0</td>\n",
       "      <td>17.0</td>\n",
       "      <td>5.0</td>\n",
       "      <td>NaN</td>\n",
       "      <td>600.0</td>\n",
       "      <td>73.0</td>\n",
       "      <td>-1.3</td>\n",
       "      <td>1023.0</td>\n",
       "      <td>-21.4</td>\n",
       "      <td>0.0</td>\n",
       "      <td>WNW</td>\n",
       "      <td>3.6</td>\n",
       "      <td>Gucheng</td>\n",
       "    </tr>\n",
       "  </tbody>\n",
       "</table>\n",
       "</div>"
      ],
      "text/plain": [
       "   No  year  month  day  hour  PM2.5  PM10  SO2  NO2     CO    O3  TEMP   \n",
       "0   1  2013      3    1     0    6.0  18.0  5.0  NaN  800.0  88.0   0.1  \\\n",
       "1   2  2013      3    1     1    6.0  15.0  5.0  NaN  800.0  88.0  -0.3   \n",
       "2   3  2013      3    1     2    5.0  18.0  NaN  NaN  700.0  52.0  -0.7   \n",
       "3   4  2013      3    1     3    6.0  20.0  6.0  NaN    NaN   NaN  -1.0   \n",
       "4   5  2013      3    1     4    5.0  17.0  5.0  NaN  600.0  73.0  -1.3   \n",
       "\n",
       "     PRES  DEWP  RAIN   wd  WSPM  station  \n",
       "0  1021.1 -18.6   0.0   NW   4.4  Gucheng  \n",
       "1  1021.5 -19.0   0.0   NW   4.0  Gucheng  \n",
       "2  1021.5 -19.8   0.0  WNW   4.6  Gucheng  \n",
       "3  1022.7 -21.2   0.0    W   2.8  Gucheng  \n",
       "4  1023.0 -21.4   0.0  WNW   3.6  Gucheng  "
      ]
     },
     "execution_count": 3,
     "metadata": {},
     "output_type": "execute_result"
    }
   ],
   "source": [
    "df_aq.head(5)"
   ]
  },
  {
   "cell_type": "code",
   "execution_count": 4,
   "id": "b10a1381",
   "metadata": {},
   "outputs": [
    {
     "name": "stdout",
     "output_type": "stream",
     "text": [
      "<class 'pandas.core.frame.DataFrame'>\n",
      "RangeIndex: 420768 entries, 0 to 420767\n",
      "Data columns (total 18 columns):\n",
      " #   Column   Non-Null Count   Dtype  \n",
      "---  ------   --------------   -----  \n",
      " 0   No       420768 non-null  int64  \n",
      " 1   year     420768 non-null  int64  \n",
      " 2   month    420768 non-null  int64  \n",
      " 3   day      420768 non-null  int64  \n",
      " 4   hour     420768 non-null  int64  \n",
      " 5   PM2.5    412029 non-null  float64\n",
      " 6   PM10     414319 non-null  float64\n",
      " 7   SO2      411747 non-null  float64\n",
      " 8   NO2      408652 non-null  float64\n",
      " 9   CO       400067 non-null  float64\n",
      " 10  O3       407491 non-null  float64\n",
      " 11  TEMP     420370 non-null  float64\n",
      " 12  PRES     420375 non-null  float64\n",
      " 13  DEWP     420365 non-null  float64\n",
      " 14  RAIN     420378 non-null  float64\n",
      " 15  wd       418946 non-null  object \n",
      " 16  WSPM     420450 non-null  float64\n",
      " 17  station  420768 non-null  object \n",
      "dtypes: float64(11), int64(5), object(2)\n",
      "memory usage: 57.8+ MB\n"
     ]
    }
   ],
   "source": [
    "df_aq.info()"
   ]
  },
  {
   "cell_type": "markdown",
   "id": "a046dc47",
   "metadata": {},
   "source": [
    "### Question 2: Clean the Data and Check for Missing Values"
   ]
  },
  {
   "cell_type": "code",
   "execution_count": 5,
   "id": "257b6695",
   "metadata": {},
   "outputs": [
    {
     "name": "stdout",
     "output_type": "stream",
     "text": [
      "Missing values per column:\n",
      " No             0\n",
      "year           0\n",
      "month          0\n",
      "day            0\n",
      "hour           0\n",
      "PM2.5       8739\n",
      "PM10        6449\n",
      "SO2         9021\n",
      "NO2        12116\n",
      "CO         20701\n",
      "O3         13277\n",
      "TEMP         398\n",
      "PRES         393\n",
      "DEWP         403\n",
      "RAIN         390\n",
      "wd          1822\n",
      "WSPM         318\n",
      "station        0\n",
      "dtype: int64\n"
     ]
    }
   ],
   "source": [
    "# Check for missing values in each column\n",
    "\n",
    "missing_values = df_aq.isnull().sum()\n",
    "print(\"Missing values per column:\\n\", missing_values)"
   ]
  },
  {
   "cell_type": "code",
   "execution_count": 6,
   "id": "ca6ede3a",
   "metadata": {},
   "outputs": [
    {
     "data": {
      "text/plain": [
       "(420768, 18)"
      ]
     },
     "execution_count": 6,
     "metadata": {},
     "output_type": "execute_result"
    }
   ],
   "source": [
    "df_aq.shape"
   ]
  },
  {
   "cell_type": "markdown",
   "id": "423fd2b3",
   "metadata": {},
   "source": [
    "### 3. Convert All Categorical Variables"
   ]
  },
  {
   "cell_type": "code",
   "execution_count": 7,
   "id": "798795d6",
   "metadata": {},
   "outputs": [],
   "source": [
    "# Convert categorical variables to numerical using one-hot encoding\n",
    "df_aq = pd.get_dummies(df_aq, columns=['wd','station'], drop_first=True)  # Replace 'wd' with any other categorical columns\n"
   ]
  },
  {
   "cell_type": "code",
   "execution_count": 8,
   "id": "7e6368c7",
   "metadata": {},
   "outputs": [
    {
     "name": "stdout",
     "output_type": "stream",
     "text": [
      "Remaining missing values per column:\n",
      " No                       0\n",
      "year                     0\n",
      "month                    0\n",
      "day                      0\n",
      "hour                     0\n",
      "PM2.5                    0\n",
      "PM10                     0\n",
      "SO2                      0\n",
      "NO2                      0\n",
      "CO                       0\n",
      "O3                       0\n",
      "TEMP                     0\n",
      "PRES                     0\n",
      "DEWP                     0\n",
      "RAIN                     0\n",
      "WSPM                     0\n",
      "wd_ENE                   0\n",
      "wd_ESE                   0\n",
      "wd_N                     0\n",
      "wd_NE                    0\n",
      "wd_NNE                   0\n",
      "wd_NNW                   0\n",
      "wd_NW                    0\n",
      "wd_S                     0\n",
      "wd_SE                    0\n",
      "wd_SSE                   0\n",
      "wd_SSW                   0\n",
      "wd_SW                    0\n",
      "wd_W                     0\n",
      "wd_WNW                   0\n",
      "wd_WSW                   0\n",
      "station_Changping        0\n",
      "station_Dingling         0\n",
      "station_Dongsi           0\n",
      "station_Guanyuan         0\n",
      "station_Gucheng          0\n",
      "station_Huairou          0\n",
      "station_Nongzhanguan     0\n",
      "station_Shunyi           0\n",
      "station_Tiantan          0\n",
      "station_Wanliu           0\n",
      "station_Wanshouxigong    0\n",
      "dtype: int64\n"
     ]
    }
   ],
   "source": [
    "# Fill all remaining missing values with the median of each column\n",
    "df_aq.fillna(df_aq.median(), inplace=True)\n",
    "\n",
    "# Verify that there are no remaining missing values\n",
    "print(\"Remaining missing values per column:\\n\", df_aq.isnull().sum())\n"
   ]
  },
  {
   "cell_type": "markdown",
   "id": "13259f06",
   "metadata": {},
   "source": [
    "### 4. Split the Data (80% Training, 20% Test)"
   ]
  },
  {
   "cell_type": "code",
   "execution_count": 9,
   "id": "ff61af7b",
   "metadata": {},
   "outputs": [],
   "source": [
    "# Define features and target\n",
    "X = df_aq.drop(columns=['PM2.5'])  # Features\n",
    "y = df_aq['PM2.5']                 # Target\n",
    "\n",
    "# Split the data into 80% training and 20% test sets\n",
    "X_train, X_test, y_train, y_test = train_test_split(X, y, test_size=0.2, random_state=42)"
   ]
  },
  {
   "cell_type": "markdown",
   "id": "40d98ab0",
   "metadata": {},
   "source": [
    "### 5. Normalize the Dataset"
   ]
  },
  {
   "cell_type": "code",
   "execution_count": 10,
   "id": "06032c94",
   "metadata": {},
   "outputs": [],
   "source": [
    "# Initialize the MinMaxScaler\n",
    "scaler = MinMaxScaler()\n",
    "\n",
    "# Fit the scaler on the training data and transform both training and test sets\n",
    "X_train = scaler.fit_transform(X_train)\n",
    "X_test = scaler.transform(X_test)"
   ]
  },
  {
   "cell_type": "markdown",
   "id": "0f852b3a",
   "metadata": {},
   "source": [
    "### 6. Build Neural Network (2 Hidden Layers)"
   ]
  },
  {
   "cell_type": "code",
   "execution_count": 11,
   "id": "35ada4f7",
   "metadata": {},
   "outputs": [
    {
     "name": "stdout",
     "output_type": "stream",
     "text": [
      "Epoch 1/50\n",
      "8416/8416 [==============================] - 8s 929us/step - loss: 1993.8539 - val_loss: 932.8148\n",
      "Epoch 2/50\n",
      "8416/8416 [==============================] - 8s 921us/step - loss: 871.0633 - val_loss: 849.9861\n",
      "Epoch 3/50\n",
      "8416/8416 [==============================] - 8s 907us/step - loss: 810.1132 - val_loss: 813.9775\n",
      "Epoch 4/50\n",
      "8416/8416 [==============================] - 8s 915us/step - loss: 775.2734 - val_loss: 774.9833\n",
      "Epoch 5/50\n",
      "8416/8416 [==============================] - 8s 918us/step - loss: 750.7864 - val_loss: 752.0331\n",
      "Epoch 6/50\n",
      "8416/8416 [==============================] - 8s 913us/step - loss: 730.4859 - val_loss: 729.0713\n",
      "Epoch 7/50\n",
      "8416/8416 [==============================] - 8s 913us/step - loss: 713.8265 - val_loss: 723.5967\n",
      "Epoch 8/50\n",
      "8416/8416 [==============================] - 8s 910us/step - loss: 698.7560 - val_loss: 699.1582\n",
      "Epoch 9/50\n",
      "8416/8416 [==============================] - 8s 905us/step - loss: 684.6754 - val_loss: 682.9742\n",
      "Epoch 10/50\n",
      "8416/8416 [==============================] - 8s 892us/step - loss: 671.6143 - val_loss: 682.1298\n",
      "Epoch 11/50\n",
      "8416/8416 [==============================] - 8s 897us/step - loss: 660.7542 - val_loss: 661.6071\n",
      "Epoch 12/50\n",
      "8416/8416 [==============================] - 8s 901us/step - loss: 652.0513 - val_loss: 652.4961\n",
      "Epoch 13/50\n",
      "8416/8416 [==============================] - 8s 916us/step - loss: 645.3104 - val_loss: 646.3822\n",
      "Epoch 14/50\n",
      "8416/8416 [==============================] - 8s 915us/step - loss: 640.4491 - val_loss: 643.8086\n",
      "Epoch 15/50\n",
      "8416/8416 [==============================] - 8s 937us/step - loss: 635.7576 - val_loss: 638.8339\n",
      "Epoch 16/50\n",
      "8416/8416 [==============================] - 8s 924us/step - loss: 632.9026 - val_loss: 641.9080\n",
      "Epoch 17/50\n",
      "8416/8416 [==============================] - 8s 943us/step - loss: 630.6587 - val_loss: 641.9342\n",
      "Epoch 18/50\n",
      "8416/8416 [==============================] - 8s 927us/step - loss: 628.2794 - val_loss: 642.3862\n",
      "Epoch 19/50\n",
      "8416/8416 [==============================] - 8s 937us/step - loss: 625.6094 - val_loss: 630.2508\n",
      "Epoch 20/50\n",
      "8416/8416 [==============================] - 8s 925us/step - loss: 623.9292 - val_loss: 631.2930\n",
      "Epoch 21/50\n",
      "8416/8416 [==============================] - 8s 929us/step - loss: 622.5341 - val_loss: 641.1425\n",
      "Epoch 22/50\n",
      "8416/8416 [==============================] - 8s 924us/step - loss: 620.9811 - val_loss: 629.6606\n",
      "Epoch 23/50\n",
      "8416/8416 [==============================] - 8s 919us/step - loss: 619.0800 - val_loss: 625.7524\n",
      "Epoch 24/50\n",
      "8416/8416 [==============================] - 8s 928us/step - loss: 617.9176 - val_loss: 628.2518\n",
      "Epoch 25/50\n",
      "8416/8416 [==============================] - 8s 923us/step - loss: 616.2056 - val_loss: 622.2786\n",
      "Epoch 26/50\n",
      "8416/8416 [==============================] - 8s 924us/step - loss: 615.3060 - val_loss: 622.3250\n",
      "Epoch 27/50\n",
      "8416/8416 [==============================] - 8s 940us/step - loss: 614.0886 - val_loss: 622.2496\n",
      "Epoch 28/50\n",
      "8416/8416 [==============================] - 8s 926us/step - loss: 613.0400 - val_loss: 621.4749\n",
      "Epoch 29/50\n",
      "8416/8416 [==============================] - 8s 927us/step - loss: 612.0671 - val_loss: 625.5583\n",
      "Epoch 30/50\n",
      "8416/8416 [==============================] - 8s 924us/step - loss: 610.6091 - val_loss: 624.6533\n",
      "Epoch 31/50\n",
      "8416/8416 [==============================] - 8s 922us/step - loss: 610.4921 - val_loss: 621.4712\n",
      "Epoch 32/50\n",
      "8416/8416 [==============================] - 8s 921us/step - loss: 609.8270 - val_loss: 623.1134\n",
      "Epoch 33/50\n",
      "8416/8416 [==============================] - 8s 924us/step - loss: 609.3741 - val_loss: 624.7331\n",
      "Epoch 34/50\n",
      "8416/8416 [==============================] - 8s 923us/step - loss: 608.1277 - val_loss: 613.1624\n",
      "Epoch 35/50\n",
      "8416/8416 [==============================] - 8s 926us/step - loss: 607.0909 - val_loss: 614.7299\n",
      "Epoch 36/50\n",
      "8416/8416 [==============================] - 8s 928us/step - loss: 607.2887 - val_loss: 610.6750\n",
      "Epoch 37/50\n",
      "8416/8416 [==============================] - 8s 933us/step - loss: 606.2425 - val_loss: 637.7825\n",
      "Epoch 38/50\n",
      "8416/8416 [==============================] - 8s 932us/step - loss: 604.5976 - val_loss: 616.3955\n",
      "Epoch 39/50\n",
      "8416/8416 [==============================] - 8s 963us/step - loss: 603.7840 - val_loss: 607.6155\n",
      "Epoch 40/50\n",
      "8416/8416 [==============================] - 8s 934us/step - loss: 602.3630 - val_loss: 607.0418\n",
      "Epoch 41/50\n",
      "8416/8416 [==============================] - 8s 941us/step - loss: 600.3040 - val_loss: 604.6861\n",
      "Epoch 42/50\n",
      "8416/8416 [==============================] - 8s 980us/step - loss: 598.8184 - val_loss: 605.5796\n",
      "Epoch 43/50\n",
      "8416/8416 [==============================] - 8s 998us/step - loss: 598.0026 - val_loss: 602.3854\n",
      "Epoch 44/50\n",
      "8416/8416 [==============================] - 8s 956us/step - loss: 596.7492 - val_loss: 604.3257\n",
      "Epoch 45/50\n",
      "8416/8416 [==============================] - 8s 951us/step - loss: 595.0095 - val_loss: 602.4684\n",
      "Epoch 46/50\n",
      "8416/8416 [==============================] - 8s 950us/step - loss: 593.4862 - val_loss: 616.8724\n",
      "Epoch 47/50\n",
      "8416/8416 [==============================] - 8s 960us/step - loss: 592.2769 - val_loss: 597.6620\n",
      "Epoch 48/50\n",
      "8416/8416 [==============================] - 8s 970us/step - loss: 591.0463 - val_loss: 606.7838\n",
      "Epoch 49/50\n",
      "8416/8416 [==============================] - 8s 966us/step - loss: 589.9536 - val_loss: 596.6188\n",
      "Epoch 50/50\n",
      "8416/8416 [==============================] - 8s 974us/step - loss: 589.2668 - val_loss: 593.0601\n",
      "2630/2630 [==============================] - 2s 672us/step - loss: 611.0059\n",
      "Test Loss: 611.005859375\n"
     ]
    }
   ],
   "source": [
    "# Define the neural network model\n",
    "model = Sequential([\n",
    "    Dense(20, activation='relu', input_shape=(X_train.shape[1],)),\n",
    "    Dense(10, activation='relu'),\n",
    "    Dense(1)  # Output layer for regression\n",
    "])\n",
    "\n",
    "# Compile the model\n",
    "model.compile(optimizer='adam', loss='mse')\n",
    "\n",
    "# Train the model and validate on the validation set\n",
    "history = model.fit(X_train, y_train, validation_split=0.2, epochs=50, batch_size=32)\n",
    "\n",
    "# Evaluate the model on the test set\n",
    "test_loss = model.evaluate(X_test, y_test)\n",
    "print(f\"Test Loss: {test_loss}\")"
   ]
  },
  {
   "cell_type": "code",
   "execution_count": 12,
   "id": "04483f48",
   "metadata": {},
   "outputs": [
    {
     "name": "stdout",
     "output_type": "stream",
     "text": [
      "2630/2630 [==============================] - 2s 654us/step - loss: 611.0059\n",
      "Test Loss: 611.005859375\n"
     ]
    }
   ],
   "source": [
    "# Evaluate the model on the test set\n",
    "test_loss = model.evaluate(X_test, y_test)\n",
    "print(f\"Test Loss: {test_loss}\")"
   ]
  },
  {
   "cell_type": "code",
   "execution_count": 13,
   "id": "e5df5a70",
   "metadata": {},
   "outputs": [
    {
     "data": {
      "image/png": "[encoded data removed]",
      "text/plain": [
       "<Figure size 432x288 with 1 Axes>"
      ]
     },
     "metadata": {
      "needs_background": "light"
     },
     "output_type": "display_data"
    }
   ],
   "source": [
    "# Plot the training and validation loss\n",
    "plt.plot(history.history['loss'], label='Training Loss')\n",
    "plt.plot(history.history['val_loss'], label='Validation Loss')\n",
    "plt.xlabel('Epochs')\n",
    "plt.ylabel('Mean Squared Error')\n",
    "plt.legend()\n",
    "plt.title('Training and Validation Loss')\n",
    "plt.show()\n"
   ]
  },
  {
   "cell_type": "markdown",
   "id": "20b08e24",
   "metadata": {},
   "source": [
    "### TensorFlow Model: Overfit or Underfit?"
   ]
  },
  {
   "cell_type": "code",
   "execution_count": 14,
   "id": "a634a6a6",
   "metadata": {},
   "outputs": [],
   "source": [
    "#!pip install keras-tuner -q"
   ]
  },
  {
   "cell_type": "code",
   "execution_count": 15,
   "id": "4eaff794",
   "metadata": {
    "scrolled": true
   },
   "outputs": [
    {
     "name": "stdout",
     "output_type": "stream",
     "text": [
      "Trial 5 Complete [01h 21m 01s]\n",
      "val_loss: 845.3844909667969\n",
      "\n",
      "Best val_loss So Far: 691.2640991210938\n",
      "Total elapsed time: 02h 19m 14s\n",
      "Best hyperparameters: {'units1': 35, 'dropout1': 0.4, 'units2': 10, 'dropout2': 0.4}\n"
     ]
    }
   ],
   "source": [
    "import shutil\n",
    "\n",
    "# Step 1: Remove the tuner results directory to reset trials\n",
    "shutil.rmtree('tuner_results', ignore_errors=True)\n",
    "\n",
    "\n",
    "\n",
    "# Define a function to build the model with hyperparameters for Keras Tuner\n",
    "def build_model(hp):\n",
    "    model = Sequential()\n",
    "    \n",
    "    # First hidden layer with tuned units and dropout\n",
    "    model.add(Dense(units=hp.Int('units1', min_value=20, max_value=50, step=5), activation='relu'))\n",
    "    model.add(Dropout(rate=hp.Float('dropout1', min_value=0.2, max_value=0.8, step=0.1)))\n",
    "    \n",
    "    # Second hidden layer with tuned units and dropout\n",
    "    model.add(Dense(units=hp.Int('units2', min_value=5, max_value=10, step=1), activation='relu'))\n",
    "    model.add(Dropout(rate=hp.Float('dropout2', min_value=0.2, max_value=0.8, step=0.1)))\n",
    "    \n",
    "    # Output layer\n",
    "    model.add(Dense(1))\n",
    "\n",
    "    # Compile the model\n",
    "    optimizer = Adam(learning_rate = 0.01)\n",
    "    model.compile(optimizer='adam', loss='mse')\n",
    "    return model\n",
    "\n",
    "# Initialize Keras Tuner with RandomSearch\n",
    "tuner = RandomSearch(\n",
    "    build_model,\n",
    "    objective='val_loss',\n",
    "    max_trials=5,\n",
    "    executions_per_trial=2,\n",
    "    directory='tuner_results',\n",
    "    project_name='air_quality_tuning'\n",
    ")\n",
    "\n",
    "# Perform the hyperparameter search\n",
    "tuner.search(X_train, y_train, epochs=50, validation_split=0.2)\n",
    "\n",
    "# Retrieve the best model and hyperparameters\n",
    "best_model = tuner.get_best_models(num_models=1)[0]\n",
    "best_hyperparameters = tuner.get_best_hyperparameters(num_trials=1)[0]\n",
    "print(\"Best hyperparameters:\", best_hyperparameters.values)\n"
   ]
  },
  {
   "cell_type": "code",
   "execution_count": 16,
   "id": "4ae610c6",
   "metadata": {},
   "outputs": [
    {
     "name": "stdout",
     "output_type": "stream",
     "text": [
      "Epoch 1/20\n",
      "8416/8416 [==============================] - 9s 1ms/step - loss: 1386.4341 - val_loss: 704.5671\n",
      "Epoch 2/20\n",
      "8416/8416 [==============================] - 8s 1ms/step - loss: 1383.6202 - val_loss: 749.3997\n",
      "Epoch 3/20\n",
      "8416/8416 [==============================] - 9s 1ms/step - loss: 1384.5319 - val_loss: 708.8855\n",
      "Epoch 4/20\n",
      "8416/8416 [==============================] - 9s 1ms/step - loss: 1388.4559 - val_loss: 810.2988\n",
      "Epoch 5/20\n",
      "8416/8416 [==============================] - 9s 1ms/step - loss: 1389.4836 - val_loss: 821.4312\n",
      "Epoch 6/20\n",
      "8416/8416 [==============================] - 9s 1ms/step - loss: 1378.1754 - val_loss: 752.5421\n",
      "Epoch 7/20\n",
      "8416/8416 [==============================] - 9s 1ms/step - loss: 1375.6768 - val_loss: 763.2645\n",
      "Epoch 8/20\n",
      "8416/8416 [==============================] - 9s 1ms/step - loss: 1384.2616 - val_loss: 740.6132\n",
      "Epoch 9/20\n",
      "8416/8416 [==============================] - 9s 1ms/step - loss: 1383.0515 - val_loss: 749.9738\n",
      "Epoch 10/20\n",
      "8416/8416 [==============================] - 9s 1ms/step - loss: 1377.2128 - val_loss: 756.9138\n",
      "Epoch 11/20\n",
      "8416/8416 [==============================] - 9s 1ms/step - loss: 1380.6790 - val_loss: 688.0439\n",
      "Epoch 12/20\n",
      "8416/8416 [==============================] - 9s 1ms/step - loss: 1383.8193 - val_loss: 711.2272\n",
      "Epoch 13/20\n",
      "8416/8416 [==============================] - 9s 1ms/step - loss: 1383.8352 - val_loss: 761.0801\n",
      "Epoch 14/20\n",
      "8416/8416 [==============================] - 9s 1ms/step - loss: 1377.8655 - val_loss: 704.4620\n",
      "Epoch 15/20\n",
      "8416/8416 [==============================] - 8s 1ms/step - loss: 1388.8671 - val_loss: 718.0775\n",
      "Epoch 16/20\n",
      "8416/8416 [==============================] - 9s 1ms/step - loss: 1394.3091 - val_loss: 726.5883\n",
      "Epoch 17/20\n",
      "8416/8416 [==============================] - 9s 1ms/step - loss: 1389.4829 - val_loss: 711.9039\n",
      "Epoch 18/20\n",
      "8416/8416 [==============================] - 9s 1ms/step - loss: 1385.3860 - val_loss: 742.9224\n",
      "Epoch 19/20\n",
      "8416/8416 [==============================] - 9s 1ms/step - loss: 1370.9664 - val_loss: 712.4577\n",
      "Epoch 20/20\n",
      "8416/8416 [==============================] - 9s 1ms/step - loss: 1388.4506 - val_loss: 763.0720\n"
     ]
    },
    {
     "data": {
      "image/png": "[encoded data removed]",
      "text/plain": [
       "<Figure size 432x288 with 1 Axes>"
      ]
     },
     "metadata": {
      "needs_background": "light"
     },
     "output_type": "display_data"
    }
   ],
   "source": [
    "# Assume `history` is the result from fitting the best model\n",
    "history = best_model.fit(X_train, y_train, validation_split=0.2, epochs=20)\n",
    "\n",
    "plt.plot(history.history['loss'], label='Training Loss')\n",
    "plt.plot(history.history['val_loss'], label='Validation Loss')\n",
    "plt.xlabel('Epochs')\n",
    "plt.ylabel('Loss')\n",
    "plt.legend()\n",
    "plt.title('Training and Validation Loss')\n",
    "plt.show()"
   ]
  },
  {
   "cell_type": "markdown",
   "id": "9adeb729",
   "metadata": {},
   "source": [
    "### TensorFlow Model: Does the Model Overfit or Underfit the Data?"
   ]
  },
  {
   "cell_type": "markdown",
   "id": "b6fbb9fb",
   "metadata": {},
   "source": [
    "The image above shows the results of that the model is attempting to underfit the data. Multiple learning rates were tested in an attempt to assist the model, but both ended with the same result (shown above). This could be due to the level of complexity of the model and additional layers may be needed for further analysis. "
   ]
  },
  {
   "cell_type": "markdown",
   "id": "8e870ced",
   "metadata": {},
   "source": [
    "### PyTorch Model"
   ]
  },
  {
   "cell_type": "code",
   "execution_count": 17,
   "id": "a6ccef18",
   "metadata": {},
   "outputs": [],
   "source": [
    "from torch.utils.data import DataLoader, TensorDataset\n",
    "import torch.nn.functional as F"
   ]
  },
  {
   "cell_type": "markdown",
   "id": "38199695",
   "metadata": {},
   "source": [
    "### Prepare the Data for PyTorch\n",
    "\n",
    "**Objective**: Convert the NumPy arrays into PyTorch tensors and create DataLoaders for batch processing.\n"
   ]
  },
  {
   "cell_type": "code",
   "execution_count": 18,
   "id": "08bf1ada",
   "metadata": {},
   "outputs": [],
   "source": [
    "# Convert Data to PyTorch Tensors (convert Series to NumPy arrays with .to_numpy())\n",
    "X_train_tensor = torch.tensor(X_train, dtype=torch.float32)\n",
    "y_train_tensor = torch.tensor(y_train.to_numpy().reshape(-1, 1), dtype=torch.float32)\n",
    "X_test_tensor = torch.tensor(X_test, dtype=torch.float32)\n",
    "y_test_tensor = torch.tensor(y_test.to_numpy().reshape(-1, 1), dtype=torch.float32)\n",
    "\n",
    "# Create DataLoaders for Training and Testing\n",
    "train_data = TensorDataset(X_train_tensor, y_train_tensor)\n",
    "test_data = TensorDataset(X_test_tensor, y_test_tensor)\n",
    "train_loader = DataLoader(train_data, batch_size=64, shuffle=True)\n",
    "test_loader = DataLoader(test_data, batch_size=64, shuffle=False)\n"
   ]
  },
  {
   "cell_type": "code",
   "execution_count": 19,
   "id": "56126516",
   "metadata": {},
   "outputs": [],
   "source": [
    "# Define the model architecture\n",
    "class AirQualityModel(nn.Module):\n",
    "    def __init__(self, input_dim, hidden_dim1=20, hidden_dim2=10):\n",
    "        super(AirQualityModel, self).__init__()\n",
    "        self.layer1 = nn.Linear(input_dim, hidden_dim1)\n",
    "        self.layer2 = nn.Linear(hidden_dim1, hidden_dim2)\n",
    "        self.output = nn.Linear(hidden_dim2, 1)\n",
    "\n",
    "    def forward(self, x):\n",
    "        x = torch.relu(self.layer1(x))\n",
    "        x = torch.relu(self.layer2(x))\n",
    "        x = self.output(x)\n",
    "        return x\n",
    "\n",
    "# Initialize the model, loss function, and optimizer\n",
    "input_dim = X_train.shape[1]\n",
    "model = AirQualityModel(input_dim)\n",
    "criterion = nn.MSELoss()\n",
    "optimizer = optim.Adam(model.parameters(), lr=0.01)"
   ]
  },
  {
   "cell_type": "code",
   "execution_count": 20,
   "id": "7fc580a5",
   "metadata": {},
   "outputs": [
    {
     "name": "stdout",
     "output_type": "stream",
     "text": [
      "Epoch [10/50], Train Loss: 747.0324, Val Loss: 782.4701\n",
      "Epoch [20/50], Train Loss: 581.7247, Val Loss: 595.8110\n",
      "Epoch [30/50], Train Loss: 568.1262, Val Loss: 594.9586\n",
      "Epoch [40/50], Train Loss: 564.3989, Val Loss: 579.7971\n",
      "Epoch [50/50], Train Loss: 560.8949, Val Loss: 575.5784\n"
     ]
    }
   ],
   "source": [
    "# Training loop\n",
    "num_epochs = 50\n",
    "train_losses = []\n",
    "val_losses = []\n",
    "\n",
    "for epoch in range(num_epochs):\n",
    "    model.train()\n",
    "    epoch_train_loss = 0\n",
    "    for inputs, labels in train_loader:\n",
    "        optimizer.zero_grad()\n",
    "        outputs = model(inputs)\n",
    "        loss = criterion(outputs, labels)\n",
    "        loss.backward()\n",
    "        optimizer.step()\n",
    "        epoch_train_loss += loss.item()\n",
    "    \n",
    "    epoch_train_loss /= len(train_loader)\n",
    "    train_losses.append(epoch_train_loss)\n",
    "\n",
    "    # Validation\n",
    "    model.eval()\n",
    "    with torch.no_grad():\n",
    "        val_predictions = model(X_test_tensor)\n",
    "        val_loss = criterion(val_predictions, y_test_tensor).item()\n",
    "        val_losses.append(val_loss)\n",
    "    \n",
    "    if (epoch + 1) % 10 == 0:\n",
    "        print(f'Epoch [{epoch+1}/{num_epochs}], Train Loss: {epoch_train_loss:.4f}, Val Loss: {val_loss:.4f}')"
   ]
  },
  {
   "cell_type": "code",
   "execution_count": 21,
   "id": "0085f939",
   "metadata": {},
   "outputs": [
    {
     "data": {
      "image/png": "[encoded data removed]",
      "text/plain": [
       "<Figure size 720x432 with 1 Axes>"
      ]
     },
     "metadata": {
      "needs_background": "light"
     },
     "output_type": "display_data"
    }
   ],
   "source": [
    "epochs_range = range(1, num_epochs + 1)\n",
    "plt.figure(figsize=(10, 6))\n",
    "plt.plot(epochs_range, train_losses, label=\"Train Loss\")\n",
    "plt.plot(epochs_range, val_losses, label=\"Validation Loss\")\n",
    "plt.xlabel(\"Epochs\")\n",
    "plt.ylabel(\"Loss\")\n",
    "plt.title(\"Training and Validation Loss\")\n",
    "plt.legend()\n",
    "plt.show()"
   ]
  },
  {
   "cell_type": "markdown",
   "id": "4881df80",
   "metadata": {},
   "source": [
    "### PyTorch Model: Does the Model Overfit or Underfit the Data?"
   ]
  },
  {
   "cell_type": "markdown",
   "id": "d8a5f94f",
   "metadata": {},
   "source": [
    "The model appears to be handling the training process effectively and generalizing well to unseen data. In the plot above, we can see both the training and validation loss decreasing steadily over the epochs, with the two lines staying closely aligned. This close alignment suggests that the model is neither overfitting (where validation loss would diverge above training loss) nor underfitting (where both losses would remain high or fail to decrease).\n",
    "\n",
    "Therefore, we can conclude that this model is well-trained, with no significant signs of overfitting or underfitting."
   ]
  },
  {
   "cell_type": "code",
   "execution_count": null,
   "id": "c4819897",
   "metadata": {},
   "outputs": [],
   "source": []
  }
 ],
 "metadata": {
  "kernelspec": {
   "display_name": "Python 3",
   "language": "python",
   "name": "python3"
  },
  "language_info": {
   "codemirror_mode": {
    "name": "ipython",
    "version": 3
   },
   "file_extension": ".py",
   "mimetype": "text/x-python",
   "name": "python",
   "nbconvert_exporter": "python",
   "pygments_lexer": "ipython3",
   "version": "3.8.8"
  }
 },
 "nbformat": 4,
 "nbformat_minor": 5
}
