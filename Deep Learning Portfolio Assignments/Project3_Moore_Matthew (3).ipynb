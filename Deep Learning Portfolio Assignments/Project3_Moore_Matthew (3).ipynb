{
 "cells": [
  {
   "cell_type": "markdown",
   "id": "219e0e11",
   "metadata": {},
   "source": [
    "## Load Necessary Libraries"
   ]
  },
  {
   "cell_type": "code",
   "execution_count": 1,
   "id": "7937436d",
   "metadata": {},
   "outputs": [],
   "source": [
    "# Import necessary libraries for data handling, preprocessing, model building, and evaluation\n",
    "\n",
    "# Data handling and preprocessing\n",
    "import os\n",
    "import pandas as pd\n",
    "import numpy as np\n",
    "import seaborn as sns\n",
    "from sklearn.model_selection import train_test_split\n",
    "from sklearn.linear_model import LinearRegression\n",
    "from sklearn.metrics import mean_squared_error\n",
    "from sklearn.model_selection import train_test_split\n",
    "from sklearn.preprocessing import MinMaxScaler\n",
    "from sklearn.metrics import mean_squared_error\n",
    "\n",
    "# TensorFlow for deep learning models\n",
    "import tensorflow as tf\n",
    "from tensorflow.keras import Sequential, layers\n",
    "from tensorflow.keras.layers import Dense\n",
    "from tensorflow.keras.optimizers import Adam\n",
    "from keras_tuner import RandomSearch\n",
    "from tensorflow.keras.layers import Dropout\n",
    "\n",
    "# PyTorch for alternative deep learning model\n",
    "import torch\n",
    "import torch.nn as nn\n",
    "import torch.optim as optim\n",
    "\n",
    "# Plotting and visualization\n",
    "import matplotlib.pyplot as plt\n",
    "\n",
    "# Set random seed for reproducibility\n",
    "import random\n",
    "np.random.seed(42)\n",
    "tf.random.set_seed(42)\n",
    "torch.manual_seed(42)\n",
    "random.seed(42)\n",
    "\n",
    "# Display configuration for plots\n",
    "%matplotlib inline"
   ]
  },
  {
   "cell_type": "code",
   "execution_count": 2,
   "id": "3bd0b112",
   "metadata": {},
   "outputs": [],
   "source": [
    "# Define the folder path containing the CSV files\n",
    "folder_path = '/Users/matthewmoore/Downloads/beijing+multi+site+air+quality+data/PRSA_Data_20130301-20170228'\n",
    "\n",
    "# Initialize an empty list to store DataFrames\n",
    "data_frames = []\n",
    "\n",
    "# Loop through each file in the folder\n",
    "for file_name in os.listdir(folder_path):\n",
    "    if file_name.endswith('.csv'):\n",
    "        # Load each CSV file into a DataFrame\n",
    "        file_path = os.path.join(folder_path, file_name)\n",
    "        df = pd.read_csv(file_path)\n",
    "        \n",
    "        # Append to the list\n",
    "        data_frames.append(df)\n",
    "\n",
    "# Concatenate all DataFrames in the list into a single DataFrame\n",
    "df = pd.concat(data_frames, ignore_index=True)"
   ]
  },
  {
   "cell_type": "code",
   "execution_count": 3,
   "id": "d7e945ef",
   "metadata": {},
   "outputs": [
    {
     "name": "stdout",
     "output_type": "stream",
     "text": [
      "<class 'pandas.core.frame.DataFrame'>\n",
      "RangeIndex: 420768 entries, 0 to 420767\n",
      "Data columns (total 18 columns):\n",
      " #   Column   Non-Null Count   Dtype  \n",
      "---  ------   --------------   -----  \n",
      " 0   No       420768 non-null  int64  \n",
      " 1   year     420768 non-null  int64  \n",
      " 2   month    420768 non-null  int64  \n",
      " 3   day      420768 non-null  int64  \n",
      " 4   hour     420768 non-null  int64  \n",
      " 5   PM2.5    412029 non-null  float64\n",
      " 6   PM10     414319 non-null  float64\n",
      " 7   SO2      411747 non-null  float64\n",
      " 8   NO2      408652 non-null  float64\n",
      " 9   CO       400067 non-null  float64\n",
      " 10  O3       407491 non-null  float64\n",
      " 11  TEMP     420370 non-null  float64\n",
      " 12  PRES     420375 non-null  float64\n",
      " 13  DEWP     420365 non-null  float64\n",
      " 14  RAIN     420378 non-null  float64\n",
      " 15  wd       418946 non-null  object \n",
      " 16  WSPM     420450 non-null  float64\n",
      " 17  station  420768 non-null  object \n",
      "dtypes: float64(11), int64(5), object(2)\n",
      "memory usage: 57.8+ MB\n"
     ]
    }
   ],
   "source": [
    "df.info()"
   ]
  },
  {
   "cell_type": "markdown",
   "id": "79b90502",
   "metadata": {},
   "source": [
    "### Question 2: Clean the Data and Check for Missing Value"
   ]
  },
  {
   "cell_type": "code",
   "execution_count": 4,
   "id": "524af72d",
   "metadata": {},
   "outputs": [
    {
     "name": "stdout",
     "output_type": "stream",
     "text": [
      "Missing Values Per Column:\n",
      " No             0\n",
      "year           0\n",
      "month          0\n",
      "day            0\n",
      "hour           0\n",
      "PM2.5       8739\n",
      "PM10        6449\n",
      "SO2         9021\n",
      "NO2        12116\n",
      "CO         20701\n",
      "O3         13277\n",
      "TEMP         398\n",
      "PRES         393\n",
      "DEWP         403\n",
      "RAIN         390\n",
      "wd          1822\n",
      "WSPM         318\n",
      "station        0\n",
      "dtype: int64\n"
     ]
    }
   ],
   "source": [
    "missing_values = df.isnull().sum()\n",
    "print(\"Missing Values Per Column:\\n\", missing_values)"
   ]
  },
  {
   "cell_type": "code",
   "execution_count": 5,
   "id": "1e7a99d3",
   "metadata": {},
   "outputs": [],
   "source": [
    "# Drop unnecessary columns\n",
    "df.drop(columns=['year', 'month', 'day', 'hour', 'station', 'No'], inplace=True)"
   ]
  },
  {
   "cell_type": "code",
   "execution_count": 6,
   "id": "158f1cf3",
   "metadata": {},
   "outputs": [
    {
     "name": "stdout",
     "output_type": "stream",
     "text": [
      "Remaining Missing Values Per Column After Filling:\n",
      " PM2.5    0\n",
      "PM10     0\n",
      "SO2      0\n",
      "NO2      0\n",
      "CO       0\n",
      "O3       0\n",
      "TEMP     0\n",
      "PRES     0\n",
      "DEWP     0\n",
      "RAIN     0\n",
      "wd       0\n",
      "WSPM     0\n",
      "dtype: int64\n"
     ]
    }
   ],
   "source": [
    "# Fill missing values\n",
    "# - For numerical columns, replace NaN with the median of each column\n",
    "numerical_columns = df.select_dtypes(include=['float64', 'int64']).columns\n",
    "df[numerical_columns] = df[numerical_columns].fillna(df[numerical_columns].median())\n",
    "\n",
    "# - For categorical columns, replace NaN with the mode (most frequent value) of each column\n",
    "categorical_columns = df.select_dtypes(include=['object']).columns\n",
    "df[categorical_columns] = df[categorical_columns].fillna(df[categorical_columns].mode().iloc[0])\n",
    "\n",
    "# Verify that there are no remaining missing values\n",
    "missing_values_after_fill = df.isnull().sum()\n",
    "print(\"Remaining Missing Values Per Column After Filling:\\n\", missing_values_after_fill)"
   ]
  },
  {
   "cell_type": "markdown",
   "id": "70382028",
   "metadata": {},
   "source": [
    "### 4. Split the Data (80% Training, 20% Testing)"
   ]
  },
  {
   "cell_type": "code",
   "execution_count": 7,
   "id": "18aaecc1",
   "metadata": {},
   "outputs": [],
   "source": [
    "y = pd.get_dummies(df['wd']).astype(int)  # One-hot encode wind direction\n",
    "X = df.drop(columns=['wd'])\n",
    "X_train, X_test, y_train, y_test = train_test_split(X, y, test_size=0.2, random_state=42)"
   ]
  },
  {
   "cell_type": "markdown",
   "id": "7f90c125",
   "metadata": {},
   "source": [
    "### 5. Normalize the Datasest"
   ]
  },
  {
   "cell_type": "code",
   "execution_count": 8,
   "id": "8d5f19e0",
   "metadata": {},
   "outputs": [],
   "source": [
    "scaler = MinMaxScaler()\n",
    "\n",
    "X_train = scaler.fit_transform(X_train)\n",
    "X_test = scaler.fit_transform(X_test)"
   ]
  },
  {
   "cell_type": "markdown",
   "id": "fd031e11",
   "metadata": {},
   "source": [
    "### 6. Build a neural network with two hidden layers of 20 and 10 neurons to forecast wd using TensorFlow"
   ]
  },
  {
   "cell_type": "code",
   "execution_count": 9,
   "id": "b651c7c5",
   "metadata": {},
   "outputs": [
    {
     "name": "stdout",
     "output_type": "stream",
     "text": [
      "Epoch 1/50\n",
      "8416/8416 [==============================] - 9s 982us/step - loss: 2.5806 - accuracy: 0.1475 - val_loss: 2.5375 - val_accuracy: 0.1567\n",
      "Epoch 2/50\n",
      "8416/8416 [==============================] - 8s 975us/step - loss: 2.5274 - accuracy: 0.1600 - val_loss: 2.5218 - val_accuracy: 0.1612\n",
      "Epoch 3/50\n",
      "8416/8416 [==============================] - 8s 973us/step - loss: 2.5141 - accuracy: 0.1621 - val_loss: 2.5095 - val_accuracy: 0.1629\n",
      "Epoch 4/50\n",
      "8416/8416 [==============================] - 8s 987us/step - loss: 2.5058 - accuracy: 0.1639 - val_loss: 2.5041 - val_accuracy: 0.1626\n",
      "Epoch 5/50\n",
      "8416/8416 [==============================] - 8s 985us/step - loss: 2.5007 - accuracy: 0.1648 - val_loss: 2.4991 - val_accuracy: 0.1630\n",
      "Epoch 6/50\n",
      "8416/8416 [==============================] - 8s 975us/step - loss: 2.4977 - accuracy: 0.1654 - val_loss: 2.5006 - val_accuracy: 0.1621\n",
      "Epoch 7/50\n",
      "8416/8416 [==============================] - 8s 996us/step - loss: 2.4956 - accuracy: 0.1662 - val_loss: 2.4949 - val_accuracy: 0.1654\n",
      "Epoch 8/50\n",
      "8416/8416 [==============================] - 9s 1ms/step - loss: 2.4940 - accuracy: 0.1660 - val_loss: 2.4952 - val_accuracy: 0.1649\n",
      "Epoch 9/50\n",
      "8416/8416 [==============================] - 9s 1ms/step - loss: 2.4923 - accuracy: 0.1660 - val_loss: 2.4927 - val_accuracy: 0.1665\n",
      "Epoch 10/50\n",
      "8416/8416 [==============================] - 8s 1000us/step - loss: 2.4910 - accuracy: 0.1662 - val_loss: 2.4934 - val_accuracy: 0.1671\n",
      "Epoch 11/50\n",
      "8416/8416 [==============================] - 8s 958us/step - loss: 2.4896 - accuracy: 0.1670 - val_loss: 2.4895 - val_accuracy: 0.1672\n",
      "Epoch 12/50\n",
      "8416/8416 [==============================] - 8s 985us/step - loss: 2.4883 - accuracy: 0.1675 - val_loss: 2.4877 - val_accuracy: 0.1665\n",
      "Epoch 13/50\n",
      "8416/8416 [==============================] - 9s 1ms/step - loss: 2.4871 - accuracy: 0.1676 - val_loss: 2.4883 - val_accuracy: 0.1670\n",
      "Epoch 14/50\n",
      "8416/8416 [==============================] - 9s 1ms/step - loss: 2.4862 - accuracy: 0.1672 - val_loss: 2.4904 - val_accuracy: 0.1672\n",
      "Epoch 15/50\n",
      "8416/8416 [==============================] - 8s 968us/step - loss: 2.4851 - accuracy: 0.1682 - val_loss: 2.4967 - val_accuracy: 0.1659\n",
      "Epoch 16/50\n",
      "8416/8416 [==============================] - 8s 977us/step - loss: 2.4841 - accuracy: 0.1683 - val_loss: 2.4887 - val_accuracy: 0.1677\n",
      "Epoch 17/50\n",
      "8416/8416 [==============================] - 8s 988us/step - loss: 2.4834 - accuracy: 0.1687 - val_loss: 2.4857 - val_accuracy: 0.1689\n",
      "Epoch 18/50\n",
      "8416/8416 [==============================] - 8s 992us/step - loss: 2.4825 - accuracy: 0.1696 - val_loss: 2.4834 - val_accuracy: 0.1695\n",
      "Epoch 19/50\n",
      "8416/8416 [==============================] - 8s 989us/step - loss: 2.4817 - accuracy: 0.1698 - val_loss: 2.4834 - val_accuracy: 0.1688\n",
      "Epoch 20/50\n",
      "8416/8416 [==============================] - 8s 971us/step - loss: 2.4803 - accuracy: 0.1703 - val_loss: 2.4821 - val_accuracy: 0.1692\n",
      "Epoch 21/50\n",
      "8416/8416 [==============================] - 8s 1ms/step - loss: 2.4790 - accuracy: 0.1702 - val_loss: 2.4786 - val_accuracy: 0.1714\n",
      "Epoch 22/50\n",
      "8416/8416 [==============================] - 8s 988us/step - loss: 2.4768 - accuracy: 0.1718 - val_loss: 2.4766 - val_accuracy: 0.1715\n",
      "Epoch 23/50\n",
      "8416/8416 [==============================] - 8s 987us/step - loss: 2.4750 - accuracy: 0.1718 - val_loss: 2.4797 - val_accuracy: 0.1690\n",
      "Epoch 24/50\n",
      "8416/8416 [==============================] - 8s 982us/step - loss: 2.4731 - accuracy: 0.1725 - val_loss: 2.4741 - val_accuracy: 0.1723\n",
      "Epoch 25/50\n",
      "8416/8416 [==============================] - 8s 979us/step - loss: 2.4715 - accuracy: 0.1727 - val_loss: 2.4768 - val_accuracy: 0.1693\n",
      "Epoch 26/50\n",
      "8416/8416 [==============================] - 8s 997us/step - loss: 2.4698 - accuracy: 0.1727 - val_loss: 2.4711 - val_accuracy: 0.1715\n",
      "Epoch 27/50\n",
      "8416/8416 [==============================] - 8s 993us/step - loss: 2.4689 - accuracy: 0.1727 - val_loss: 2.4701 - val_accuracy: 0.1720\n",
      "Epoch 28/50\n",
      "8416/8416 [==============================] - 9s 1ms/step - loss: 2.4680 - accuracy: 0.1729 - val_loss: 2.4764 - val_accuracy: 0.1714\n",
      "Epoch 29/50\n",
      "8416/8416 [==============================] - 8s 988us/step - loss: 2.4671 - accuracy: 0.1733 - val_loss: 2.4695 - val_accuracy: 0.1728\n",
      "Epoch 30/50\n",
      "8416/8416 [==============================] - 8s 993us/step - loss: 2.4667 - accuracy: 0.1731 - val_loss: 2.4690 - val_accuracy: 0.1727\n",
      "Epoch 31/50\n",
      "8416/8416 [==============================] - 8s 982us/step - loss: 2.4661 - accuracy: 0.1733 - val_loss: 2.4676 - val_accuracy: 0.1728\n",
      "Epoch 32/50\n",
      "8416/8416 [==============================] - 8s 984us/step - loss: 2.4654 - accuracy: 0.1734 - val_loss: 2.4710 - val_accuracy: 0.1718\n",
      "Epoch 33/50\n",
      "8416/8416 [==============================] - 8s 995us/step - loss: 2.4651 - accuracy: 0.1730 - val_loss: 2.4686 - val_accuracy: 0.1713\n",
      "Epoch 34/50\n",
      "8416/8416 [==============================] - 8s 999us/step - loss: 2.4646 - accuracy: 0.1736 - val_loss: 2.4678 - val_accuracy: 0.1715\n",
      "Epoch 35/50\n",
      "8416/8416 [==============================] - 8s 981us/step - loss: 2.4640 - accuracy: 0.1739 - val_loss: 2.4659 - val_accuracy: 0.1718\n",
      "Epoch 36/50\n",
      "8416/8416 [==============================] - 8s 986us/step - loss: 2.4637 - accuracy: 0.1741 - val_loss: 2.4690 - val_accuracy: 0.1715\n",
      "Epoch 37/50\n",
      "8416/8416 [==============================] - 8s 987us/step - loss: 2.4632 - accuracy: 0.1737 - val_loss: 2.4662 - val_accuracy: 0.1718\n",
      "Epoch 38/50\n",
      "8416/8416 [==============================] - 8s 1ms/step - loss: 2.4629 - accuracy: 0.1751 - val_loss: 2.4657 - val_accuracy: 0.1722\n",
      "Epoch 39/50\n",
      "8416/8416 [==============================] - 8s 993us/step - loss: 2.4626 - accuracy: 0.1742 - val_loss: 2.4660 - val_accuracy: 0.1719\n",
      "Epoch 40/50\n",
      "8416/8416 [==============================] - 8s 980us/step - loss: 2.4622 - accuracy: 0.1744 - val_loss: 2.4633 - val_accuracy: 0.1722\n",
      "Epoch 41/50\n",
      "8416/8416 [==============================] - 8s 986us/step - loss: 2.4619 - accuracy: 0.1740 - val_loss: 2.4734 - val_accuracy: 0.1712\n",
      "Epoch 42/50\n",
      "8416/8416 [==============================] - 8s 988us/step - loss: 2.4616 - accuracy: 0.1744 - val_loss: 2.4651 - val_accuracy: 0.1719\n",
      "Epoch 43/50\n",
      "8416/8416 [==============================] - 8s 961us/step - loss: 2.4612 - accuracy: 0.1744 - val_loss: 2.4636 - val_accuracy: 0.1715\n",
      "Epoch 44/50\n",
      "8416/8416 [==============================] - 8s 979us/step - loss: 2.4613 - accuracy: 0.1751 - val_loss: 2.4684 - val_accuracy: 0.1717\n",
      "Epoch 45/50\n",
      "8416/8416 [==============================] - 8s 1ms/step - loss: 2.4609 - accuracy: 0.1746 - val_loss: 2.4629 - val_accuracy: 0.1732\n",
      "Epoch 46/50\n",
      "8416/8416 [==============================] - 8s 973us/step - loss: 2.4608 - accuracy: 0.1747 - val_loss: 2.4635 - val_accuracy: 0.1724\n",
      "Epoch 47/50\n",
      "8416/8416 [==============================] - 8s 971us/step - loss: 2.4607 - accuracy: 0.1747 - val_loss: 2.4623 - val_accuracy: 0.1732\n",
      "Epoch 48/50\n",
      "8416/8416 [==============================] - 9s 1ms/step - loss: 2.4606 - accuracy: 0.1754 - val_loss: 2.4619 - val_accuracy: 0.1741\n",
      "Epoch 49/50\n",
      "8416/8416 [==============================] - 8s 983us/step - loss: 2.4603 - accuracy: 0.1745 - val_loss: 2.4626 - val_accuracy: 0.1744\n",
      "Epoch 50/50\n",
      "8416/8416 [==============================] - 8s 999us/step - loss: 2.4602 - accuracy: 0.1751 - val_loss: 2.4641 - val_accuracy: 0.1730\n"
     ]
    }
   ],
   "source": [
    "model = Sequential([\n",
    "    Dense(20, activation='relu', input_shape=(X_train.shape[1],)),\n",
    "    Dense(10, activation='relu'),\n",
    "    Dense(y_train.shape[1], activation='softmax')\n",
    "])\n",
    "\n",
    "model.compile(optimizer=Adam(), loss='categorical_crossentropy', metrics=['accuracy'])\n",
    "\n",
    "# Train the model and evaluate overfitting/underfitting\n",
    "history = model.fit(X_train, y_train, epochs=50, batch_size=32, validation_split=0.2, verbose=1)"
   ]
  },
  {
   "cell_type": "code",
   "execution_count": 10,
   "id": "09bb50d7",
   "metadata": {},
   "outputs": [
    {
     "data": {
      "image/png": "[encoded data removed]",
      "text/plain": [
       "<Figure size 720x432 with 1 Axes>"
      ]
     },
     "metadata": {
      "needs_background": "light"
     },
     "output_type": "display_data"
    }
   ],
   "source": [
    "# Visualize TensorFlow training and validation loss\n",
    "plt.figure(figsize=(10, 6))\n",
    "plt.plot(history.history['loss'], label='Training Loss')\n",
    "plt.plot(history.history['val_loss'], label='Validation Loss')\n",
    "plt.title('TensorFlow Model Training and Validation Loss')\n",
    "plt.xlabel('Epochs')\n",
    "plt.ylabel('Loss')\n",
    "plt.legend()\n",
    "plt.show()"
   ]
  },
  {
   "cell_type": "markdown",
   "id": "0e66a45e",
   "metadata": {},
   "source": [
    "### Step 7: Hyperparameter tuning with Keras Tuner"
   ]
  },
  {
   "cell_type": "code",
   "execution_count": 11,
   "id": "2b70eb50",
   "metadata": {},
   "outputs": [],
   "source": [
    "def build_model(hp):\n",
    "    model = Sequential()\n",
    "    model.add(Dense(units=hp.Int('units1', min_value=20, max_value=100, step=5), activation='relu', input_shape=(X_train.shape[1],)))\n",
    "    model.add(Dropout(rate=hp.Float('dropout1', min_value=0.2, max_value=0.8, step=0.1)))\n",
    "    model.add(Dense(units=hp.Int('units2', min_value=10, max_value=50, step=2), activation='relu'))\n",
    "    model.add(Dropout(rate=hp.Float('dropout2', min_value=0.2, max_value=0.8, step=0.1)))\n",
    "    model.add(Dense(y_train.shape[1], activation='softmax'))\n",
    "    \n",
    "    model.compile(optimizer=Adam(), loss='categorical_crossentropy', metrics=['accuracy'])\n",
    "    return model"
   ]
  },
  {
   "cell_type": "code",
   "execution_count": 12,
   "id": "3f9732c9",
   "metadata": {
    "scrolled": true
   },
   "outputs": [
    {
     "name": "stdout",
     "output_type": "stream",
     "text": [
      "Trial 5 Complete [00h 23m 32s]\n",
      "val_accuracy: 0.16399051249027252\n",
      "\n",
      "Best val_accuracy So Far: 0.1757398396730423\n",
      "Total elapsed time: 02h 27m 03s\n"
     ]
    }
   ],
   "source": [
    "import keras_tuner as kt\n",
    "tuner = kt.RandomSearch(\n",
    "    build_model,\n",
    "    objective='val_accuracy',\n",
    "    max_trials=5,\n",
    "    executions_per_trial=3,\n",
    "    directory='keras_tuner_dir',\n",
    "    project_name='wind_direction_prediction'\n",
    ")\n",
    "\n",
    "tuner.search(X_train, y_train, epochs=50, validation_split=0.2)"
   ]
  },
  {
   "cell_type": "code",
   "execution_count": 13,
   "id": "828c7c0a",
   "metadata": {},
   "outputs": [
    {
     "name": "stdout",
     "output_type": "stream",
     "text": [
      "Optimal hyperparameters:\n",
      "Units in first hidden layer: 65\n",
      "Units in second hidden layer: 50\n",
      "Dropout rate for first hidden layer: 0.4\n",
      "Dropout rate for second hidden layer: 0.4\n"
     ]
    }
   ],
   "source": [
    "# Retrieve the optimal model\n",
    "best_model = tuner.get_best_models(num_models=1)[0]\n",
    "best_hyperparameters = tuner.get_best_hyperparameters(num_trials=1)[0]\n",
    "print(\"Optimal hyperparameters:\")\n",
    "print(\"Units in first hidden layer:\", best_hyperparameters.get('units1'))\n",
    "print(\"Units in second hidden layer:\", best_hyperparameters.get('units2'))\n",
    "print(\"Dropout rate for first hidden layer:\", best_hyperparameters.get('dropout1'))\n",
    "print(\"Dropout rate for second hidden layer:\", best_hyperparameters.get('dropout2'))"
   ]
  },
  {
   "cell_type": "markdown",
   "id": "72821eb5",
   "metadata": {},
   "source": [
    "### 8. Build a neural network with PyTorch using two hidden layers of 20 and 10 neurons"
   ]
  },
  {
   "cell_type": "code",
   "execution_count": 18,
   "id": "df245307",
   "metadata": {},
   "outputs": [],
   "source": [
    "class PyTorchNN(nn.Module):\n",
    "    def __init__(self):\n",
    "        super(PyTorchNN, self).__init__()\n",
    "        self.fc1 = nn.Linear(X_train.shape[1], 20)\n",
    "        self.fc2 = nn.Linear(20, 10)\n",
    "        self.fc3 = nn.Linear(10, y_train.shape[1])\n",
    "    \n",
    "    def forward(self, x):\n",
    "        x = torch.relu(self.fc1(x))\n",
    "        x = torch.relu(self.fc2(x))\n",
    "        x = torch.softmax(self.fc3(x), dim=1)\n",
    "        return x"
   ]
  },
  {
   "cell_type": "code",
   "execution_count": 19,
   "id": "fe35a23c",
   "metadata": {},
   "outputs": [],
   "source": [
    "# Set up the PyTorch model\n",
    "torch_model = PyTorchNN()\n",
    "criterion = nn.CrossEntropyLoss()\n",
    "optimizer = optim.Adam(torch_model.parameters(), lr=0.001)\n",
    "\n",
    "# Convert data to PyTorch tensors\n",
    "X_train_tensor = torch.tensor(X_train, dtype=torch.float32)\n",
    "y_train_tensor = torch.tensor(np.argmax(y_train.values, axis=1), dtype=torch.long)  # Convert one-hot to class indices\n",
    "X_test_tensor = torch.tensor(X_test, dtype=torch.float32)\n",
    "y_test_tensor = torch.tensor(np.argmax(y_test.values, axis=1), dtype=torch.long)\n"
   ]
  },
  {
   "cell_type": "code",
   "execution_count": 20,
   "id": "34ea361a",
   "metadata": {},
   "outputs": [
    {
     "name": "stdout",
     "output_type": "stream",
     "text": [
      "PyTorch Model Test Loss: 2.7714\n"
     ]
    }
   ],
   "source": [
    "# Initialize lists to track training and validation losses\n",
    "train_losses = []\n",
    "val_losses = []\n",
    "\n",
    "# Updated training loop with loss tracking\n",
    "epochs = 50\n",
    "for epoch in range(epochs):\n",
    "    # Training phase\n",
    "    torch_model.train()\n",
    "    optimizer.zero_grad()\n",
    "    outputs = torch_model(X_train_tensor)\n",
    "    train_loss = criterion(outputs, y_train_tensor)\n",
    "    train_loss.backward()\n",
    "    optimizer.step()\n",
    "    \n",
    "# Evaluate overfitting/underfitting for PyTorch model\n",
    "torch_model.eval()\n",
    "with torch.no_grad():\n",
    "    test_outputs = torch_model(X_test_tensor)\n",
    "    test_loss = criterion(test_outputs, y_test_tensor)\n",
    "print(f\"PyTorch Model Test Loss: {test_loss.item():.4f}\")"
   ]
  },
  {
   "cell_type": "code",
   "execution_count": 21,
   "id": "6c0d8443",
   "metadata": {},
   "outputs": [
    {
     "data": {
      "image/png": "[encoded data removed]",
      "text/plain": [
       "<Figure size 720x432 with 1 Axes>"
      ]
     },
     "metadata": {
      "needs_background": "light"
     },
     "output_type": "display_data"
    }
   ],
   "source": [
    "plt.figure(figsize=(10, 6))\n",
    "plt.plot(train_losses, label='Training Loss')\n",
    "plt.plot(val_losses, label='Validation Loss')\n",
    "plt.title('PyTorch Model Training and Validation Loss')\n",
    "plt.xlabel('Epochs')\n",
    "plt.ylabel('Loss')\n",
    "plt.legend()\n",
    "plt.show()"
   ]
  },
  {
   "cell_type": "markdown",
   "id": "4125d8ad",
   "metadata": {},
   "source": [
    "### PyTorch Model: Does the Model Overfit or Underfit the Data?"
   ]
  },
  {
   "cell_type": "markdown",
   "id": "c3508fa9",
   "metadata": {},
   "source": [
    "In my attempt to include all the data, it looks as those the model may be to simple for the complexity of the data. My conclusion is that it is underfitting the data.  "
   ]
  },
  {
   "cell_type": "code",
   "execution_count": null,
   "id": "9e8cb078",
   "metadata": {},
   "outputs": [],
   "source": []
  }
 ],
 "metadata": {
  "kernelspec": {
   "display_name": "Python 3",
   "language": "python",
   "name": "python3"
  },
  "language_info": {
   "codemirror_mode": {
    "name": "ipython",
    "version": 3
   },
   "file_extension": ".py",
   "mimetype": "text/x-python",
   "name": "python",
   "nbconvert_exporter": "python",
   "pygments_lexer": "ipython3",
   "version": "3.8.8"
  }
 },
 "nbformat": 4,
 "nbformat_minor": 5
}
